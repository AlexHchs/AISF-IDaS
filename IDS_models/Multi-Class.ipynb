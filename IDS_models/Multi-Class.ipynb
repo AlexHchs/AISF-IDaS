{
 "cells": [
  {
   "cell_type": "code",
   "execution_count": 1,
   "id": "intense-scoop",
   "metadata": {},
   "outputs": [],
   "source": [
    "%load_ext autoreload\n",
    "%autoreload 2"
   ]
  },
  {
   "cell_type": "code",
   "execution_count": 2,
   "id": "egyptian-health",
   "metadata": {},
   "outputs": [],
   "source": [
    "from numpy.random import seed\n",
    "seed(42)\n",
    "import tensorflow\n",
    "tensorflow.random.set_seed(42)"
   ]
  },
  {
   "cell_type": "code",
   "execution_count": 3,
   "id": "public-topic",
   "metadata": {},
   "outputs": [],
   "source": [
    "import numpy as np\n",
    "import pandas as pd\n",
    "import util.common as util\n",
    "from tensorflow import keras"
   ]
  },
  {
   "cell_type": "markdown",
   "id": "danish-doubt",
   "metadata": {},
   "source": [
    "# Load Data"
   ]
  },
  {
   "cell_type": "code",
   "execution_count": 50,
   "id": "bronze-prime",
   "metadata": {},
   "outputs": [
    {
     "name": "stdout",
     "output_type": "stream",
     "text": [
      "(D)DOS          321637\n",
      "Port Scan        90694\n",
      "Brute Force       9150\n",
      "Web Attack        2143\n",
      "Botnet            1948\n",
      "Infiltration        36\n",
      "Heartbleed          11\n",
      "Name: Label, dtype: int64\n",
      "Attack type:    #Original:     #Sampled:      #Train:       #Test:\n",
      "      (D)DOS        321637          1948         1363          585\n",
      "      Botnet          1948          1948         1363          585\n",
      " Brute Force          9150          1948         1363          585\n",
      "  Heartbleed            11            11            0           11\n",
      "Infiltration            36            36            0           36\n",
      "   Port Scan         90694          1948         1363          585\n",
      "  Web Attack          2143          1948         1363          585\n"
     ]
    }
   ],
   "source": [
    "clean_dir = \"/project/data/cicids2017/clean/\"\n",
    "x_binary_train, y_binary_train, x_binary_val, y_binary_val, x_binary_test, y_binary_test, x_multi_train, y_multi_train, x_multi_test, y_multi_test = util.load_data(clean_dir, train_size=100000, sample_size=1948)"
   ]
  },
  {
   "cell_type": "code",
   "execution_count": 174,
   "id": "welsh-collins",
   "metadata": {},
   "outputs": [],
   "source": [
    "x_train = x_multi_train\n",
    "y_train = y_multi_train\n",
    "# x_test = np.concatenate((x_binary_train[-585:], x_multi_test))\n",
    "# y_test = np.concatenate((np.full(585, \"Benign\"), y_multi_test))\n",
    "x_test = x_multi_test\n",
    "y_test = y_multi_test\n",
    "y_test[y_test == \"Heartbleed\"] = \"Unknown\"\n",
    "y_test[y_test == \"Infiltration\"] = \"Unknown\""
   ]
  },
  {
   "cell_type": "code",
   "execution_count": 175,
   "id": "interior-middle",
   "metadata": {},
   "outputs": [
    {
     "data": {
      "text/plain": [
       "(array(['(D)DOS', 'Botnet', 'Brute Force', 'Port Scan', 'Web Attack'],\n",
       "       dtype=object),\n",
       " array([1363, 1363, 1363, 1363, 1363]))"
      ]
     },
     "execution_count": 175,
     "metadata": {},
     "output_type": "execute_result"
    }
   ],
   "source": [
    "np.unique(y_train, return_counts=True)"
   ]
  },
  {
   "cell_type": "code",
   "execution_count": 176,
   "id": "growing-consumption",
   "metadata": {},
   "outputs": [
    {
     "data": {
      "text/plain": [
       "(array(['(D)DOS', 'Botnet', 'Brute Force', 'Port Scan', 'Unknown',\n",
       "        'Web Attack'], dtype=object),\n",
       " array([585, 585, 585, 585,  47, 585]))"
      ]
     },
     "execution_count": 176,
     "metadata": {},
     "output_type": "execute_result"
    }
   ],
   "source": [
    "np.unique(y_test, return_counts=True)"
   ]
  },
  {
   "cell_type": "markdown",
   "id": "continent-camcorder",
   "metadata": {},
   "source": [
    "# Rescale Data"
   ]
  },
  {
   "cell_type": "code",
   "execution_count": 177,
   "id": "amateur-kentucky",
   "metadata": {},
   "outputs": [],
   "source": [
    "from sklearn.preprocessing import StandardScaler, RobustScaler, QuantileTransformer, MinMaxScaler\n",
    "\n",
    "binary_scaler = QuantileTransformer(output_distribution='normal')\n",
    "x_binary_train_s = binary_scaler.fit_transform(x_binary_train)\n",
    "x_binary_val_s = binary_scaler.transform(x_binary_val)\n",
    "x_train_1 = binary_scaler.transform(x_train)\n",
    "x_test_1 = binary_scaler.transform(x_test)"
   ]
  },
  {
   "cell_type": "markdown",
   "id": "valid-report",
   "metadata": {},
   "source": [
    "# Load Binary Model"
   ]
  },
  {
   "cell_type": "code",
   "execution_count": 55,
   "id": "ahead-smoke",
   "metadata": {},
   "outputs": [],
   "source": [
    "study_name = \"TWOS-37\"\n",
    "trial_number = 1223\n",
    "path = f'results/binary/autoencoder/{study_name}/models/model_{trial_number}.h5'"
   ]
  },
  {
   "cell_type": "code",
   "execution_count": 56,
   "id": "numerous-score",
   "metadata": {},
   "outputs": [
    {
     "name": "stdout",
     "output_type": "stream",
     "text": [
      "Model: \"model_305\"\n",
      "_________________________________________________________________\n",
      "Layer (type)                 Output Shape              Param #   \n",
      "=================================================================\n",
      "input_306 (InputLayer)       [(None, 67)]              0         \n",
      "_________________________________________________________________\n",
      "dense_1322 (Dense)           (None, 66)                4488      \n",
      "_________________________________________________________________\n",
      "dense_1323 (Dense)           (None, 63)                4221      \n",
      "_________________________________________________________________\n",
      "dense_1324 (Dense)           (None, 66)                4224      \n",
      "_________________________________________________________________\n",
      "dense_1325 (Dense)           (None, 67)                4489      \n",
      "=================================================================\n",
      "Total params: 17,422\n",
      "Trainable params: 17,422\n",
      "Non-trainable params: 0\n",
      "_________________________________________________________________\n",
      "None\n"
     ]
    }
   ],
   "source": [
    "model = keras.models.load_model(path)\n",
    "print(model.summary())"
   ]
  },
  {
   "cell_type": "code",
   "execution_count": 178,
   "id": "overall-plastic",
   "metadata": {},
   "outputs": [
    {
     "name": "stderr",
     "output_type": "stream",
     "text": [
      "/project/Two-Stage/util/common.py:99: RuntimeWarning: invalid value encountered in true_divide\n",
      "  results[\"f1\"] = 2*precision*recall/(precision+recall)\n",
      "/project/Two-Stage/util/common.py:100: RuntimeWarning: invalid value encountered in true_divide\n",
      "  results[\"f2\"] = 5*precision*recall/(4*precision+recall)\n"
     ]
    },
    {
     "data": {
      "text/plain": [
       "f1                   precision     0.301306\n",
       "                     recall        0.758327\n",
       "                     f1            0.431260\n",
       "                     f2            0.581825\n",
       "f2                   precision     0.289229\n",
       "                     recall        0.802201\n",
       "                     f1            0.425166\n",
       "                     f2            0.592154\n",
       "f1threshold                       17.202332\n",
       "f2threshold                       16.121395\n",
       "au_precision_recall                0.318725\n",
       "auroc                              0.907273\n",
       "dtype: float64"
      ]
     },
     "execution_count": 178,
     "metadata": {},
     "output_type": "execute_result"
    }
   ],
   "source": [
    "# Sanity Check\n",
    "x = x_binary_val_s\n",
    "y = y_binary_val\n",
    "x_predict = model.predict(x)\n",
    "score = util.anomaly_scores(x, x_predict)\n",
    "metrics = util.evaluate_results(y, score)\n",
    "metrics"
   ]
  },
  {
   "cell_type": "code",
   "execution_count": 185,
   "id": "portuguese-mobile",
   "metadata": {},
   "outputs": [],
   "source": [
    "threshold = metrics['f2threshold'][0]"
   ]
  },
  {
   "cell_type": "code",
   "execution_count": 186,
   "id": "overall-conversion",
   "metadata": {},
   "outputs": [],
   "source": [
    "x_predict = model.predict(x_train_1)\n",
    "score_train = util.anomaly_scores(x_train_1, x_predict)"
   ]
  },
  {
   "cell_type": "code",
   "execution_count": 187,
   "id": "consistent-design",
   "metadata": {},
   "outputs": [
    {
     "name": "stdout",
     "output_type": "stream",
     "text": [
      "pred: fraud(5467), benign(1348)\n"
     ]
    }
   ],
   "source": [
    "y_pred = np.where(score_train < threshold, 1, -1)\n",
    "print(f\"pred: fraud({sum(y_pred == -1)}), benign({sum(y_pred == 1)})\")"
   ]
  },
  {
   "cell_type": "code",
   "execution_count": 188,
   "id": "worth-contrast",
   "metadata": {},
   "outputs": [],
   "source": [
    "x_predict = model.predict(x_test_1)\n",
    "score_test = util.anomaly_scores(x_test_1, x_predict)"
   ]
  },
  {
   "cell_type": "code",
   "execution_count": 189,
   "id": "patent-thriller",
   "metadata": {},
   "outputs": [
    {
     "name": "stdout",
     "output_type": "stream",
     "text": [
      "pred: fraud(2190), benign(782)\n"
     ]
    }
   ],
   "source": [
    "y_pred = np.where(score_test < threshold, 1, -1)\n",
    "print(f\"pred: fraud({sum(y_pred == -1)}), benign({sum(y_pred == 1)})\")"
   ]
  },
  {
   "cell_type": "markdown",
   "id": "exterior-medline",
   "metadata": {},
   "source": [
    "## Concat Anomaly Score as Feature"
   ]
  },
  {
   "cell_type": "code",
   "execution_count": 190,
   "id": "buried-martin",
   "metadata": {},
   "outputs": [],
   "source": [
    "x_train_2 = np.column_stack((x_train, score_train))\n",
    "x_test_2 = np.column_stack((x_test, score_test))"
   ]
  },
  {
   "cell_type": "code",
   "execution_count": 191,
   "id": "radio-antibody",
   "metadata": {},
   "outputs": [],
   "source": [
    "scalers = {\n",
    "    'standard': StandardScaler(),\n",
    "    'robust': RobustScaler(quantile_range=(25, 75)),\n",
    "    'quantile': QuantileTransformer(output_distribution='normal'),\n",
    "    'minmax': MinMaxScaler(feature_range=(0, 1), copy=True)\n",
    "}\n",
    "x_train_s = {}\n",
    "x_test_s = {}\n",
    "for key, value in scalers.items():\n",
    "    x_train_s[key] = value.fit_transform(x_train_2)\n",
    "    x_test_s[key] = value.transform(x_test_2)"
   ]
  },
  {
   "cell_type": "markdown",
   "id": "guided-placement",
   "metadata": {},
   "source": [
    "# Train Multi-Class model"
   ]
  },
  {
   "cell_type": "code",
   "execution_count": 87,
   "id": "descending-authorization",
   "metadata": {},
   "outputs": [],
   "source": [
    "from sklearn.ensemble import RandomForestClassifier"
   ]
  },
  {
   "cell_type": "code",
   "execution_count": 237,
   "id": "expired-chase",
   "metadata": {},
   "outputs": [
    {
     "data": {
      "text/plain": [
       "RandomForestClassifier(oob_score=True, random_state=42)"
      ]
     },
     "execution_count": 237,
     "metadata": {},
     "output_type": "execute_result"
    }
   ],
   "source": [
    "scaler = \"minmax\"\n",
    "params = {'max_samples': 0.852098, 'max_features': 0.707293, 'min_samples_leaf': 1}\n",
    "\n",
    "forest = RandomForestClassifier(random_state=42, oob_score=True)\n",
    "# forest.set_params(**params)\n",
    "forest.fit(x_train_s[scaler], y_train)"
   ]
  },
  {
   "cell_type": "code",
   "execution_count": 238,
   "id": "regional-supplier",
   "metadata": {},
   "outputs": [
    {
     "data": {
      "text/plain": [
       "0.9985326485693323"
      ]
     },
     "execution_count": 238,
     "metadata": {},
     "output_type": "execute_result"
    }
   ],
   "source": [
    "y_proba = forest.predict_proba(x_test_s[scaler])\n",
    "forest.oob_score_"
   ]
  },
  {
   "cell_type": "markdown",
   "id": "parallel-moderator",
   "metadata": {},
   "source": [
    "## Find Optimal Threshold"
   ]
  },
  {
   "cell_type": "code",
   "execution_count": 208,
   "id": "average-wiring",
   "metadata": {},
   "outputs": [
    {
     "name": "stderr",
     "output_type": "stream",
     "text": [
      "200it [00:04, 49.91it/s]"
     ]
    },
    {
     "name": "stdout",
     "output_type": "stream",
     "text": [
      "Best Threshold: 0.915 with F-Score: 0.8616\n"
     ]
    },
    {
     "name": "stderr",
     "output_type": "stream",
     "text": [
      "\n"
     ]
    }
   ],
   "source": [
    "from sklearn.metrics import f1_score\n",
    "from tqdm import tqdm\n",
    "\n",
    "thresholds = np.arange(0.0, 1.0, 0.005)\n",
    "fscore = np.zeros(shape=(len(thresholds)))\n",
    "\n",
    "# Fit the model\n",
    "for index, threshold in tqdm(enumerate(thresholds)):\n",
    "    # Corrected probabilities\n",
    "    y_pred = np.where(np.max(y_proba, axis=1) > threshold, forest.classes_[np.argmax(y_proba, axis=1)], 'Unknown')\n",
    "    # Calculate the f-score\n",
    "    fscore[index] = f1_score(y_test, y_pred, average='macro', labels=['(D)DOS', 'Botnet', 'Brute Force', 'Port Scan', 'Web Attack'])\n",
    "\n",
    "# Find the optimal threshold\n",
    "index = np.argmax(fscore)\n",
    "thresholdOpt = round(thresholds[index], ndigits = 4)\n",
    "fscoreOpt = round(fscore[index], ndigits = 4)\n",
    "print('Best Threshold: {} with F-Score: {}'.format(thresholdOpt, fscoreOpt))"
   ]
  },
  {
   "cell_type": "code",
   "execution_count": 220,
   "id": "desperate-approval",
   "metadata": {},
   "outputs": [],
   "source": [
    "threshold = thresholdOpt\n",
    "y_pred = np.where(np.max(y_proba, axis=1) > threshold, forest.classes_[np.argmax(y_proba, axis=1)], 'Unknown')"
   ]
  },
  {
   "cell_type": "code",
   "execution_count": 221,
   "id": "broad-career",
   "metadata": {},
   "outputs": [
    {
     "name": "stderr",
     "output_type": "stream",
     "text": [
      "/project/Two-Stage/util/common.py:114: RuntimeWarning: invalid value encountered in true_divide\n",
      "  cm_perc = cm / cm_sum.astype(float)\n"
     ]
    },
    {
     "data": {
      "image/png": "[encoded data removed]",
      "text/plain": [
       "<Figure size 504x504 with 2 Axes>"
      ]
     },
     "metadata": {
      "needs_background": "light"
     },
     "output_type": "display_data"
    }
   ],
   "source": [
    "classes = ['Benign', '(D)DOS', 'Botnet', 'Brute Force', 'Port Scan', 'Web Attack', 'Unknown']\n",
    "fig = util.plot_confusion_matrix(y_test, y_pred, values=classes, labels=classes)"
   ]
  },
  {
   "cell_type": "code",
   "execution_count": 148,
   "id": "selective-salmon",
   "metadata": {},
   "outputs": [
    {
     "data": {
      "text/plain": [
       "<matplotlib.legend.Legend at 0x7f994ce77730>"
      ]
     },
     "execution_count": 148,
     "metadata": {},
     "output_type": "execute_result"
    },
    {
     "data": {
      "image/png": "[encoded data removed]",
      "text/plain": [
       "<Figure size 432x288 with 1 Axes>"
      ]
     },
     "metadata": {
      "needs_background": "light"
     },
     "output_type": "display_data"
    }
   ],
   "source": [
    "import matplotlib.pyplot as plt\n",
    "\n",
    "fig = plt.figure()\n",
    "plt.plot(thresholds, fscore, label=\"F1 Score\")\n",
    "plt.plot(thresholdOpt, fscoreOpt, marker=\"X\")\n",
    "plt.annotate(f\"F1: {str(round(fscoreOpt, 3))}\", (thresholdOpt, fscoreOpt))\n",
    "plt.xlabel(r\"threshold ($\\tau_M$)\")\n",
    "plt.ylabel(\"score\")\n",
    "plt.legend()"
   ]
  },
  {
   "cell_type": "code",
   "execution_count": null,
   "id": "documentary-antenna",
   "metadata": {},
   "outputs": [],
   "source": []
  },
  {
   "cell_type": "code",
   "execution_count": 154,
   "id": "civil-suggestion",
   "metadata": {},
   "outputs": [],
   "source": [
    "import optuna"
   ]
  },
  {
   "cell_type": "code",
   "execution_count": 166,
   "id": "decreased-century",
   "metadata": {},
   "outputs": [],
   "source": [
    "study_storage = 'results/multi/randomforest-multi.db'"
   ]
  },
  {
   "cell_type": "code",
   "execution_count": 167,
   "id": "physical-watson",
   "metadata": {},
   "outputs": [
    {
     "data": {
      "text/plain": [
       "['TWOS-37']"
      ]
     },
     "execution_count": 167,
     "metadata": {},
     "output_type": "execute_result"
    }
   ],
   "source": [
    "list(map(lambda s: s.study_name, optuna.study.get_all_study_summaries(storage=f\"sqlite:///{study_storage}\")))"
   ]
  },
  {
   "cell_type": "code",
   "execution_count": 168,
   "id": "aboriginal-designer",
   "metadata": {},
   "outputs": [],
   "source": [
    "study_name = \"TWOS-37\"\n",
    "save_dir = f'results/multi/randomforest/{study_name}'"
   ]
  },
  {
   "cell_type": "code",
   "execution_count": 169,
   "id": "fabulous-estate",
   "metadata": {},
   "outputs": [
    {
     "data": {
      "text/html": [
       "<div>\n",
       "<style scoped>\n",
       "    .dataframe tbody tr th:only-of-type {\n",
       "        vertical-align: middle;\n",
       "    }\n",
       "\n",
       "    .dataframe tbody tr th {\n",
       "        vertical-align: top;\n",
       "    }\n",
       "\n",
       "    .dataframe thead th {\n",
       "        text-align: right;\n",
       "    }\n",
       "</style>\n",
       "<table border=\"1\" class=\"dataframe\">\n",
       "  <thead>\n",
       "    <tr style=\"text-align: right;\">\n",
       "      <th></th>\n",
       "      <th>number</th>\n",
       "      <th>value</th>\n",
       "      <th>datetime_start</th>\n",
       "      <th>datetime_complete</th>\n",
       "      <th>duration</th>\n",
       "      <th>params_max_features</th>\n",
       "      <th>params_max_samples</th>\n",
       "      <th>params_min_samples_leaf</th>\n",
       "      <th>params_scaler</th>\n",
       "      <th>user_attrs_OOB</th>\n",
       "      <th>user_attrs_f1scoreOptimal</th>\n",
       "      <th>user_attrs_thresholdOptimal</th>\n",
       "      <th>state</th>\n",
       "    </tr>\n",
       "  </thead>\n",
       "  <tbody>\n",
       "    <tr>\n",
       "      <th>217</th>\n",
       "      <td>217</td>\n",
       "      <td>0.999120</td>\n",
       "      <td>2021-03-08 23:45:11.559389</td>\n",
       "      <td>2021-03-08 23:52:13.726508</td>\n",
       "      <td>0 days 00:07:02.167119</td>\n",
       "      <td>0.707293</td>\n",
       "      <td>0.852098</td>\n",
       "      <td>1</td>\n",
       "      <td>minmax</td>\n",
       "      <td>0.999120</td>\n",
       "      <td>0.739774</td>\n",
       "      <td>0.92</td>\n",
       "      <td>COMPLETE</td>\n",
       "    </tr>\n",
       "    <tr>\n",
       "      <th>271</th>\n",
       "      <td>271</td>\n",
       "      <td>0.998973</td>\n",
       "      <td>2021-03-08 23:54:12.664483</td>\n",
       "      <td>2021-03-09 00:00:27.238069</td>\n",
       "      <td>0 days 00:06:14.573586</td>\n",
       "      <td>0.633625</td>\n",
       "      <td>0.587027</td>\n",
       "      <td>1</td>\n",
       "      <td>quantile</td>\n",
       "      <td>0.998973</td>\n",
       "      <td>0.737887</td>\n",
       "      <td>0.91</td>\n",
       "      <td>COMPLETE</td>\n",
       "    </tr>\n",
       "    <tr>\n",
       "      <th>265</th>\n",
       "      <td>265</td>\n",
       "      <td>0.998973</td>\n",
       "      <td>2021-03-08 23:53:46.769867</td>\n",
       "      <td>2021-03-09 00:00:34.042779</td>\n",
       "      <td>0 days 00:06:47.272912</td>\n",
       "      <td>0.591672</td>\n",
       "      <td>0.602038</td>\n",
       "      <td>1</td>\n",
       "      <td>quantile</td>\n",
       "      <td>0.998973</td>\n",
       "      <td>0.738029</td>\n",
       "      <td>0.92</td>\n",
       "      <td>COMPLETE</td>\n",
       "    </tr>\n",
       "    <tr>\n",
       "      <th>284</th>\n",
       "      <td>284</td>\n",
       "      <td>0.998826</td>\n",
       "      <td>2021-03-08 23:57:12.527286</td>\n",
       "      <td>2021-03-09 00:02:25.071847</td>\n",
       "      <td>0 days 00:05:12.544561</td>\n",
       "      <td>0.601246</td>\n",
       "      <td>0.967046</td>\n",
       "      <td>2</td>\n",
       "      <td>minmax</td>\n",
       "      <td>0.998826</td>\n",
       "      <td>0.740380</td>\n",
       "      <td>0.92</td>\n",
       "      <td>COMPLETE</td>\n",
       "    </tr>\n",
       "    <tr>\n",
       "      <th>219</th>\n",
       "      <td>219</td>\n",
       "      <td>0.998826</td>\n",
       "      <td>2021-03-08 23:45:29.557304</td>\n",
       "      <td>2021-03-08 23:52:25.619285</td>\n",
       "      <td>0 days 00:06:56.061981</td>\n",
       "      <td>0.609597</td>\n",
       "      <td>0.625706</td>\n",
       "      <td>1</td>\n",
       "      <td>minmax</td>\n",
       "      <td>0.998826</td>\n",
       "      <td>0.739637</td>\n",
       "      <td>0.89</td>\n",
       "      <td>COMPLETE</td>\n",
       "    </tr>\n",
       "  </tbody>\n",
       "</table>\n",
       "</div>"
      ],
      "text/plain": [
       "     number     value             datetime_start          datetime_complete  \\\n",
       "217     217  0.999120 2021-03-08 23:45:11.559389 2021-03-08 23:52:13.726508   \n",
       "271     271  0.998973 2021-03-08 23:54:12.664483 2021-03-09 00:00:27.238069   \n",
       "265     265  0.998973 2021-03-08 23:53:46.769867 2021-03-09 00:00:34.042779   \n",
       "284     284  0.998826 2021-03-08 23:57:12.527286 2021-03-09 00:02:25.071847   \n",
       "219     219  0.998826 2021-03-08 23:45:29.557304 2021-03-08 23:52:25.619285   \n",
       "\n",
       "                  duration  params_max_features  params_max_samples  \\\n",
       "217 0 days 00:07:02.167119             0.707293            0.852098   \n",
       "271 0 days 00:06:14.573586             0.633625            0.587027   \n",
       "265 0 days 00:06:47.272912             0.591672            0.602038   \n",
       "284 0 days 00:05:12.544561             0.601246            0.967046   \n",
       "219 0 days 00:06:56.061981             0.609597            0.625706   \n",
       "\n",
       "     params_min_samples_leaf params_scaler  user_attrs_OOB  \\\n",
       "217                        1        minmax        0.999120   \n",
       "271                        1      quantile        0.998973   \n",
       "265                        1      quantile        0.998973   \n",
       "284                        2        minmax        0.998826   \n",
       "219                        1        minmax        0.998826   \n",
       "\n",
       "     user_attrs_f1scoreOptimal  user_attrs_thresholdOptimal     state  \n",
       "217                   0.739774                         0.92  COMPLETE  \n",
       "271                   0.737887                         0.91  COMPLETE  \n",
       "265                   0.738029                         0.92  COMPLETE  \n",
       "284                   0.740380                         0.92  COMPLETE  \n",
       "219                   0.739637                         0.89  COMPLETE  "
      ]
     },
     "execution_count": 169,
     "metadata": {},
     "output_type": "execute_result"
    }
   ],
   "source": [
    "study = optuna.load_study(study_name=study_name, storage=f\"sqlite:///{study_storage}\")\n",
    "results = study.trials_dataframe()\n",
    "results.sort_values(by=['value'], inplace=True, ascending=False)\n",
    "# results.to_csv(f'{save_dir}/result.csv')\n",
    "results.head()"
   ]
  },
  {
   "cell_type": "code",
   "execution_count": 247,
   "id": "applicable-failure",
   "metadata": {},
   "outputs": [
    {
     "data": {
      "text/plain": [
       "number                                                113\n",
       "value                                            0.952164\n",
       "datetime_start                 2021-03-08 23:25:31.279626\n",
       "datetime_complete              2021-03-08 23:30:05.608264\n",
       "duration                           0 days 00:04:34.328638\n",
       "params_max_features                               0.09099\n",
       "params_max_samples                               0.130354\n",
       "params_min_samples_leaf                                99\n",
       "params_scaler                                    quantile\n",
       "user_attrs_OOB                                   0.952164\n",
       "user_attrs_f1scoreOptimal                        0.873183\n",
       "user_attrs_thresholdOptimal                         0.345\n",
       "state                                            COMPLETE\n",
       "Name: 113, dtype: object"
      ]
     },
     "execution_count": 247,
     "metadata": {},
     "output_type": "execute_result"
    }
   ],
   "source": [
    "results.sort_values(by=['user_attrs_f1scoreOptimal'], ascending=False).iloc[0]"
   ]
  },
  {
   "cell_type": "markdown",
   "id": "hispanic-doctor",
   "metadata": {},
   "source": [
    "# Load Best Model"
   ]
  },
  {
   "cell_type": "code",
   "execution_count": 272,
   "id": "level-literacy",
   "metadata": {},
   "outputs": [],
   "source": [
    "import pickle\n",
    "trial_number = 113\n",
    "save_dir = f'results/multi/randomforest/TWOS1-4'\n",
    "f = open(f'{save_dir}/models/model_{trial_number}.p', 'rb')\n",
    "model = pickle.load(f)\n",
    "f.close()"
   ]
  },
  {
   "cell_type": "code",
   "execution_count": 273,
   "id": "through-parts",
   "metadata": {},
   "outputs": [
    {
     "data": {
      "text/plain": [
       "0.9521643433602348"
      ]
     },
     "execution_count": 273,
     "metadata": {},
     "output_type": "execute_result"
    }
   ],
   "source": [
    "model.oob_score_"
   ]
  },
  {
   "cell_type": "code",
   "execution_count": 275,
   "id": "wrong-diploma",
   "metadata": {},
   "outputs": [],
   "source": [
    "scaler = \"quantile\""
   ]
  },
  {
   "cell_type": "code",
   "execution_count": 276,
   "id": "equivalent-vertical",
   "metadata": {},
   "outputs": [],
   "source": [
    "y_proba = model.predict_proba(x_test_s[scaler])"
   ]
  },
  {
   "cell_type": "code",
   "execution_count": 277,
   "id": "unusual-president",
   "metadata": {},
   "outputs": [
    {
     "name": "stderr",
     "output_type": "stream",
     "text": [
      "200it [00:03, 51.30it/s]\n"
     ]
    }
   ],
   "source": [
    "from tqdm import tqdm\n",
    "\n",
    "thresholds = np.arange(0.0, 1.0, 0.005)\n",
    "fscore = np.zeros(shape=(len(thresholds)))\n",
    "for index, threshold in tqdm(enumerate(thresholds)):\n",
    "    # Corrected probabilities\n",
    "    y_pred = np.where(np.max(y_proba, axis=1) > threshold, model.classes_[np.argmax(y_proba, axis=1)], 'Unknown')\n",
    "    # Calculate the f-score\n",
    "    fscore[index] = f1_score(y_test, y_pred, average='macro')"
   ]
  },
  {
   "cell_type": "code",
   "execution_count": 278,
   "id": "korean-signature",
   "metadata": {},
   "outputs": [
    {
     "name": "stdout",
     "output_type": "stream",
     "text": [
      "Best Threshold: 0.34500000000000003 with F-Score: 0.8731833590277597\n"
     ]
    }
   ],
   "source": [
    "index = np.argmax(fscore)\n",
    "thresholdOpt = thresholds[index]\n",
    "fscoreOpt = fscore[index]\n",
    "print('Best Threshold: {} with F-Score: {}'.format(thresholdOpt, fscoreOpt))"
   ]
  },
  {
   "cell_type": "code",
   "execution_count": 279,
   "id": "peaceful-bruce",
   "metadata": {},
   "outputs": [],
   "source": [
    "threshold = thresholdOpt\n",
    "y_pred = np.where(np.max(y_proba, axis=1) > threshold, forest.classes_[np.argmax(y_proba, axis=1)], 'Unknown')"
   ]
  },
  {
   "cell_type": "code",
   "execution_count": 280,
   "id": "periodic-camcorder",
   "metadata": {},
   "outputs": [
    {
     "data": {
      "image/png": "[encoded data removed]",
      "text/plain": [
       "<Figure size 504x504 with 2 Axes>"
      ]
     },
     "metadata": {
      "needs_background": "light"
     },
     "output_type": "display_data"
    }
   ],
   "source": [
    "classes = ['(D)DOS', 'Botnet', 'Brute Force', 'Port Scan', 'Web Attack', 'Unknown']\n",
    "fig = util.plot_confusion_matrix(y_test, y_pred, values=classes, labels=classes)"
   ]
  },
  {
   "cell_type": "code",
   "execution_count": 281,
   "id": "leading-moses",
   "metadata": {},
   "outputs": [
    {
     "data": {
      "text/plain": [
       "<matplotlib.legend.Legend at 0x7f98940b6280>"
      ]
     },
     "execution_count": 281,
     "metadata": {},
     "output_type": "execute_result"
    },
    {
     "data": {
      "image/png": "[encoded data removed]",
      "text/plain": [
       "<Figure size 432x288 with 1 Axes>"
      ]
     },
     "metadata": {
      "needs_background": "light"
     },
     "output_type": "display_data"
    }
   ],
   "source": [
    "import matplotlib.pyplot as plt\n",
    "\n",
    "fig = plt.figure()\n",
    "plt.plot(thresholds, fscore, label=\"F1 Score\")\n",
    "plt.plot(thresholdOpt, fscoreOpt, marker=\"X\")\n",
    "plt.annotate(f\"F1: {str(round(fscoreOpt, 3))}\", (thresholdOpt, fscoreOpt))\n",
    "plt.xlabel(r\"threshold ($\\tau_M$)\")\n",
    "plt.ylabel(\"score\")\n",
    "plt.legend()"
   ]
  },
  {
   "cell_type": "code",
   "execution_count": null,
   "id": "split-tissue",
   "metadata": {},
   "outputs": [],
   "source": []
  },
  {
   "cell_type": "code",
   "execution_count": null,
   "id": "comparative-remark",
   "metadata": {},
   "outputs": [],
   "source": []
  }
 ],
 "metadata": {
  "kernelspec": {
   "display_name": "Python 3",
   "language": "python",
   "name": "python3"
  },
  "language_info": {
   "codemirror_mode": {
    "name": "ipython",
    "version": 3
   },
   "file_extension": ".py",
   "mimetype": "text/x-python",
   "name": "python",
   "nbconvert_exporter": "python",
   "pygments_lexer": "ipython3",
   "version": "3.8.8"
  }
 },
 "nbformat": 4,
 "nbformat_minor": 5
}
