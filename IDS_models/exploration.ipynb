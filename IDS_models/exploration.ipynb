{
 "cells": [
  {
   "cell_type": "code",
   "execution_count": 1,
   "id": "minus-august",
   "metadata": {},
   "outputs": [],
   "source": [
    "%load_ext autoreload\n",
    "%autoreload 2"
   ]
  },
  {
   "cell_type": "code",
   "execution_count": 48,
   "id": "gross-anaheim",
   "metadata": {},
   "outputs": [],
   "source": [
    "import numpy as np\n",
    "import pandas as pd\n",
    "import util.common as util"
   ]
  },
  {
   "cell_type": "markdown",
   "id": "applicable-budget",
   "metadata": {},
   "source": [
    "# Load Data"
   ]
  },
  {
   "cell_type": "code",
   "execution_count": 65,
   "id": "double-wireless",
   "metadata": {},
   "outputs": [
    {
     "name": "stdout",
     "output_type": "stream",
     "text": [
      "(D)DOS          321637\n",
      "Port Scan        90694\n",
      "Brute Force       9150\n",
      "Web Attack        2143\n",
      "Botnet            1948\n",
      "Infiltration        36\n",
      "Heartbleed          11\n",
      "Name: Label, dtype: int64\n",
      "Attack type:    #Original:     #Sampled:      #Train:       #Test:\n",
      "      (D)DOS        321637          1948         1363          585\n",
      "      Botnet          1948          1948         1363          585\n",
      " Brute Force          9150          1948         1363          585\n",
      "  Heartbleed            11            11            0           11\n",
      "Infiltration            36            36            0           36\n",
      "   Port Scan         90694          1948         1363          585\n",
      "  Web Attack          2143          1948         1363          585\n"
     ]
    }
   ],
   "source": [
    "clean_dir = \"/project/data/cicids2017/clean/\"\n",
    "x_benign_train, y_benign_train, x_binary_val, y_binary_val, x_binary_test, y_binary_test, x_multi_train, y_multi_test = util.load_data(clean_dir, sample_size=1948)"
   ]
  },
  {
   "cell_type": "code",
   "execution_count": 66,
   "id": "narrow-angola",
   "metadata": {},
   "outputs": [
    {
     "data": {
      "text/plain": [
       "(100000, 67)"
      ]
     },
     "execution_count": 66,
     "metadata": {},
     "output_type": "execute_result"
    }
   ],
   "source": [
    "x_benign_train.shape"
   ]
  },
  {
   "cell_type": "code",
   "execution_count": 72,
   "id": "elect-mayor",
   "metadata": {},
   "outputs": [
    {
     "data": {
      "text/plain": [
       "(array([-1.,  1.]), array([  6815, 100000]))"
      ]
     },
     "execution_count": 72,
     "metadata": {},
     "output_type": "execute_result"
    }
   ],
   "source": [
    "np.unique(y_binary_val, return_counts=True)"
   ]
  },
  {
   "cell_type": "code",
   "execution_count": 73,
   "id": "secret-front",
   "metadata": {},
   "outputs": [
    {
     "data": {
      "text/plain": [
       "(array([-1.,  1.]), array([ 2972, 30000]))"
      ]
     },
     "execution_count": 73,
     "metadata": {},
     "output_type": "execute_result"
    }
   ],
   "source": [
    "np.unique(y_binary_test, return_counts=True)"
   ]
  },
  {
   "cell_type": "code",
   "execution_count": 50,
   "id": "reduced-amendment",
   "metadata": {},
   "outputs": [],
   "source": [
    "df_benign = pd.read_parquet(\"/project/data/cicids2017/clean/all_benign.parquet\")\n",
    "df_malicious = pd.read_parquet(\"/project/data/cicids2017/clean/all_malicious.parquet\")"
   ]
  },
  {
   "cell_type": "code",
   "execution_count": 4,
   "id": "invisible-costa",
   "metadata": {},
   "outputs": [
    {
     "data": {
      "text/plain": [
       "Index(['Destination Port', 'Protocol', 'Timestamp', 'Flow Duration',\n",
       "       'Total Fwd Packets', 'Total Backward Packets',\n",
       "       'Fwd Packets Length Total', 'Bwd Packets Length Total',\n",
       "       'Fwd Packet Length Max', 'Fwd Packet Length Min',\n",
       "       'Fwd Packet Length Mean', 'Fwd Packet Length Std',\n",
       "       'Bwd Packet Length Max', 'Bwd Packet Length Min',\n",
       "       'Bwd Packet Length Mean', 'Bwd Packet Length Std', 'Flow Bytes/s',\n",
       "       'Flow Packets/s', 'Flow IAT Mean', 'Flow IAT Std', 'Flow IAT Max',\n",
       "       'Flow IAT Min', 'Fwd IAT Total', 'Fwd IAT Mean', 'Fwd IAT Std',\n",
       "       'Fwd IAT Max', 'Fwd IAT Min', 'Bwd IAT Total', 'Bwd IAT Mean',\n",
       "       'Bwd IAT Std', 'Bwd IAT Max', 'Bwd IAT Min', 'Fwd PSH Flags',\n",
       "       'Fwd Header Length', 'Bwd Header Length', 'Fwd Packets/s',\n",
       "       'Bwd Packets/s', 'Packet Length Min', 'Packet Length Max',\n",
       "       'Packet Length Mean', 'Packet Length Std', 'Packet Length Variance',\n",
       "       'FIN Flag Count', 'SYN Flag Count', 'RST Flag Count', 'PSH Flag Count',\n",
       "       'ACK Flag Count', 'URG Flag Count', 'ECE Flag Count', 'Down/Up Ratio',\n",
       "       'Avg Packet Size', 'Avg Fwd Segment Size', 'Avg Bwd Segment Size',\n",
       "       'Subflow Fwd Packets', 'Subflow Fwd Bytes', 'Subflow Bwd Packets',\n",
       "       'Subflow Bwd Bytes', 'Init Fwd Win Bytes', 'Init Bwd Win Bytes',\n",
       "       'Fwd Act Data Packets', 'Fwd Seg Size Min', 'Active Mean', 'Active Std',\n",
       "       'Active Max', 'Active Min', 'Idle Mean', 'Idle Std', 'Idle Max',\n",
       "       'Idle Min', 'Label'],\n",
       "      dtype='object')"
      ]
     },
     "execution_count": 4,
     "metadata": {},
     "output_type": "execute_result"
    }
   ],
   "source": [
    "df_benign.columns"
   ]
  },
  {
   "cell_type": "code",
   "execution_count": 5,
   "id": "prerequisite-enterprise",
   "metadata": {},
   "outputs": [
    {
     "data": {
      "text/plain": [
       "(2071822, 70)"
      ]
     },
     "execution_count": 5,
     "metadata": {},
     "output_type": "execute_result"
    }
   ],
   "source": [
    "df_benign.shape"
   ]
  },
  {
   "cell_type": "code",
   "execution_count": 6,
   "id": "earned-distribution",
   "metadata": {},
   "outputs": [
    {
     "data": {
      "text/plain": [
       "(425619, 70)"
      ]
     },
     "execution_count": 6,
     "metadata": {},
     "output_type": "execute_result"
    }
   ],
   "source": [
    "df_malicious.shape"
   ]
  },
  {
   "cell_type": "code",
   "execution_count": 7,
   "id": "rental-turkey",
   "metadata": {},
   "outputs": [
    {
     "data": {
      "text/plain": [
       "Benign    2071822\n",
       "Name: Label, dtype: int64"
      ]
     },
     "execution_count": 7,
     "metadata": {},
     "output_type": "execute_result"
    }
   ],
   "source": [
    "df_benign['Label'].value_counts()"
   ]
  },
  {
   "cell_type": "code",
   "execution_count": 8,
   "id": "impossible-jackson",
   "metadata": {},
   "outputs": [
    {
     "data": {
      "text/plain": [
       "DoS Hulk                      172726\n",
       "DDoS                          128014\n",
       "PortScan                       90694\n",
       "DoS GoldenEye                  10286\n",
       "FTP-Patator                     5931\n",
       "DoS slowloris                   5383\n",
       "DoS Slowhttptest                5228\n",
       "SSH-Patator                     3219\n",
       "Bot                             1948\n",
       "Web Attack  Brute Force        1470\n",
       "Web Attack  XSS                 652\n",
       "Infiltration                      36\n",
       "Web Attack  Sql Injection        21\n",
       "Heartbleed                        11\n",
       "Name: Label, dtype: int64"
      ]
     },
     "execution_count": 8,
     "metadata": {},
     "output_type": "execute_result"
    }
   ],
   "source": [
    "df_malicious['Label'].value_counts()"
   ]
  },
  {
   "cell_type": "markdown",
   "id": "tracked-repeat",
   "metadata": {},
   "source": [
    "# Preprocess Data"
   ]
  },
  {
   "cell_type": "markdown",
   "id": "asian-wildlife",
   "metadata": {},
   "source": [
    "## Benign"
   ]
  },
  {
   "cell_type": "code",
   "execution_count": 9,
   "id": "hundred-retirement",
   "metadata": {},
   "outputs": [],
   "source": [
    "from sklearn.model_selection import train_test_split\n",
    "\n",
    "train_size = 10000 # 1M\n",
    "val_size = 100000   # 100k\n",
    "test_size = 30000   # 100k\n",
    "x_binary = df_benign.drop(columns=['Label', 'Timestamp', 'Destination Port'])\n",
    "x_binary_train, x_benign_test = train_test_split(x_binary, train_size=train_size, random_state=42, shuffle=True)\n",
    "x_benign_val, x_benign_test = train_test_split(x_benign_test, train_size=val_size, test_size=test_size, random_state=42, shuffle=True)"
   ]
  },
  {
   "cell_type": "code",
   "execution_count": 10,
   "id": "happy-calvin",
   "metadata": {},
   "outputs": [
    {
     "data": {
      "text/plain": [
       "(10000, 67)"
      ]
     },
     "execution_count": 10,
     "metadata": {},
     "output_type": "execute_result"
    }
   ],
   "source": [
    "x_binary_train.shape"
   ]
  },
  {
   "cell_type": "code",
   "execution_count": 11,
   "id": "distinguished-prefix",
   "metadata": {},
   "outputs": [
    {
     "data": {
      "text/plain": [
       "(100000, 67)"
      ]
     },
     "execution_count": 11,
     "metadata": {},
     "output_type": "execute_result"
    }
   ],
   "source": [
    "x_benign_val.shape"
   ]
  },
  {
   "cell_type": "code",
   "execution_count": 12,
   "id": "acceptable-payroll",
   "metadata": {},
   "outputs": [
    {
     "data": {
      "text/plain": [
       "(30000, 67)"
      ]
     },
     "execution_count": 12,
     "metadata": {},
     "output_type": "execute_result"
    }
   ],
   "source": [
    "x_benign_test.shape"
   ]
  },
  {
   "cell_type": "markdown",
   "id": "included-contamination",
   "metadata": {},
   "source": [
    "## Malicious"
   ]
  },
  {
   "cell_type": "code",
   "execution_count": 13,
   "id": "clinical-compression",
   "metadata": {},
   "outputs": [
    {
     "data": {
      "text/plain": [
       "(D)DOS          321637\n",
       "Port Scan        90694\n",
       "Brute Force       9150\n",
       "Web Attack        2143\n",
       "Botnet            1948\n",
       "Infiltration        36\n",
       "Heartbleed          11\n",
       "Name: Label, dtype: int64"
      ]
     },
     "execution_count": 13,
     "metadata": {},
     "output_type": "execute_result"
    }
   ],
   "source": [
    "df_malicious.Label = df_malicious.Label.map({\n",
    "    'DoS Hulk':'(D)DOS', \n",
    "    'PortScan':'Port Scan', \n",
    "    'DDoS':'(D)DOS', \n",
    "    'DoS slowloris':'(D)DOS', \n",
    "    'DoS Slowhttptest':'(D)DOS', \n",
    "    'DoS GoldenEye':'(D)DOS', \n",
    "    'SSH-Patator':'Brute Force', \n",
    "    'FTP-Patator':'Brute Force', \n",
    "    'Bot': 'Botnet', \n",
    "    'Web Attack \\x96 Brute Force': 'Web Attack', \n",
    "    'Web Attack \\x96 Sql Injection': 'Web Attack', \n",
    "    'Web Attack \\x96 XSS': 'Web Attack',\n",
    "    'Infiltration': 'Infiltration',\n",
    "    'Heartbleed': 'Heartbleed'\n",
    "})\n",
    "df_malicious.Label.value_counts()"
   ]
  },
  {
   "cell_type": "code",
   "execution_count": 14,
   "id": "restricted-lotus",
   "metadata": {},
   "outputs": [
    {
     "name": "stdout",
     "output_type": "stream",
     "text": [
      "Attack type:    #Original:     #Sampled:      #Train:       #Test:\n",
      "      (D)DOS        321637          1948         1363          585\n",
      "      Botnet          1948          1948         1363          585\n",
      " Brute Force          9150          1948         1363          585\n",
      "  Heartbleed            11            11            0           11\n",
      "Infiltration            36            36            0           36\n",
      "   Port Scan         90694          1948         1363          585\n",
      "  Web Attack          2143          1948         1363          585\n"
     ]
    }
   ],
   "source": [
    "random_state = np.random.RandomState(42)\n",
    "sample_size = 1948 # balance dataset, minimum reasonable number of samples per attack type\n",
    "train_size = 0.7\n",
    "\n",
    "train_idx = np.empty((0,), dtype=int)\n",
    "test_idx = np.empty((0,), dtype=int)\n",
    "\n",
    "print('{:>12}  {:>12}  {:>12} {:>12} {:>12}'.format(\"Attack type:\", \"#Original:\", \"#Sampled:\", \"#Train:\", \"#Test:\"))\n",
    "for attack_type in np.unique(df_malicious.Label):\n",
    "    attack_type_count = np.count_nonzero(df_malicious.Label == attack_type)\n",
    "    attack_idx = random_state.choice(range(attack_type_count), size=min(attack_type_count, sample_size), replace=False)\n",
    "    if attack_type_count < sample_size:\n",
    "        # Use attack class for testing only, not enough samples for training\n",
    "        test_idx = np.concatenate((test_idx, np.flatnonzero(df_malicious.Label == attack_type)[attack_idx]))\n",
    "        print('{:>12}  {:>12}  {:>12} {:>12} {:>12}'.format(attack_type, attack_type_count, attack_idx.shape[0], 0, attack_idx.shape[0]))\n",
    "    else:\n",
    "        # Splits attack class over train and test set in stratified manner\n",
    "        attack_train_idx = random_state.choice(range(attack_idx.shape[0]), size=int(train_size*sample_size), replace=False)\n",
    "        attack_test_mask = np.ones(sample_size, dtype=bool)\n",
    "        attack_test_mask[attack_train_idx] = False\n",
    "        attack_test_idx = attack_idx[attack_test_mask]\n",
    "        attack_original_idx = np.flatnonzero(df_malicious.Label == attack_type)\n",
    "        train_idx = np.concatenate((train_idx, attack_original_idx[attack_train_idx]))\n",
    "        test_idx = np.concatenate((test_idx, attack_original_idx[attack_test_idx]))\n",
    "        print('{:>12}  {:>12}  {:>12} {:>12} {:>12}'.format(attack_type, attack_type_count, attack_idx.shape[0], attack_train_idx.shape[0], attack_test_idx.shape[0]))\n",
    "\n",
    "random_state.shuffle(train_idx)\n",
    "random_state.shuffle(test_idx)\n",
    "\n",
    "# df_multi_train = df_malicious.iloc[train_idx]\n",
    "# df_multi_test = df_malicious.iloc[test_idx]\n",
    "# df_multi_leftover = df_malicious[~df_malicious.index.isin(np.concatenate((train_idx, test_idx)))]"
   ]
  },
  {
   "cell_type": "code",
   "execution_count": 15,
   "id": "indie-syndrome",
   "metadata": {},
   "outputs": [],
   "source": [
    "y_multi = df_malicious.Label\n",
    "x_multi = df_malicious.drop(columns=['Label', 'Timestamp', 'Destination Port'])\n",
    "x_multi_train, x_malicious_test, y_multi_train, y_malicious_test = (x_multi.iloc[train_idx], x_multi.iloc[test_idx], y_multi.iloc[train_idx], y_multi.iloc[test_idx])"
   ]
  },
  {
   "cell_type": "code",
   "execution_count": 16,
   "id": "strong-baptist",
   "metadata": {},
   "outputs": [
    {
     "data": {
      "text/plain": [
       "Web Attack     1363\n",
       "Brute Force    1363\n",
       "(D)DOS         1363\n",
       "Port Scan      1363\n",
       "Botnet         1363\n",
       "Name: Label, dtype: int64"
      ]
     },
     "execution_count": 16,
     "metadata": {},
     "output_type": "execute_result"
    }
   ],
   "source": [
    "y_multi_train.value_counts()"
   ]
  },
  {
   "cell_type": "code",
   "execution_count": 17,
   "id": "instrumental-physics",
   "metadata": {},
   "outputs": [
    {
     "data": {
      "text/plain": [
       "(D)DOS          585\n",
       "Web Attack      585\n",
       "Port Scan       585\n",
       "Botnet          585\n",
       "Brute Force     585\n",
       "Infiltration     36\n",
       "Heartbleed       11\n",
       "Name: Label, dtype: int64"
      ]
     },
     "execution_count": 17,
     "metadata": {},
     "output_type": "execute_result"
    }
   ],
   "source": [
    "y_malicious_test.value_counts()"
   ]
  },
  {
   "cell_type": "markdown",
   "id": "durable-adobe",
   "metadata": {},
   "source": [
    "## Binary"
   ]
  },
  {
   "cell_type": "code",
   "execution_count": 18,
   "id": "mobile-probe",
   "metadata": {},
   "outputs": [],
   "source": [
    "# Add malicious samples to binary validation and test data\n",
    "x_binary_val = np.concatenate((x_benign_val, x_multi_train))\n",
    "y_binary_val = np.concatenate((np.full(x_benign_val.shape[0], 1), np.full(x_multi_train.shape[0], -1)))\n",
    "\n",
    "x_binary_test = np.concatenate((x_benign_test, x_malicious_test))\n",
    "y_binary_test = np.concatenate((np.full(x_benign_test.shape[0], 1), np.full(x_malicious_test.shape[0], -1)))"
   ]
  },
  {
   "cell_type": "code",
   "execution_count": 19,
   "id": "sealed-distance",
   "metadata": {},
   "outputs": [
    {
     "name": "stdout",
     "output_type": "stream",
     "text": [
      "(10000, 67)\n",
      "(106815, 67)\n",
      "(106815,)\n",
      "(32972, 67)\n",
      "(32972,)\n"
     ]
    }
   ],
   "source": [
    "print(x_binary_train.shape)\n",
    "print(x_binary_val.shape)\n",
    "print(y_binary_val.shape)\n",
    "print(x_binary_test.shape)\n",
    "print(y_binary_test.shape)"
   ]
  },
  {
   "cell_type": "markdown",
   "id": "linear-rider",
   "metadata": {},
   "source": [
    "## Multi-Class"
   ]
  },
  {
   "cell_type": "code",
   "execution_count": 20,
   "id": "piano-investment",
   "metadata": {},
   "outputs": [
    {
     "name": "stdout",
     "output_type": "stream",
     "text": [
      "(6815, 67)\n",
      "(6815,)\n",
      "(2972, 67)\n",
      "(2972,)\n"
     ]
    }
   ],
   "source": [
    "print(x_multi_train.shape)\n",
    "print(y_multi_train.shape)\n",
    "print(x_malicious_test.shape)\n",
    "print(y_malicious_test.shape)"
   ]
  },
  {
   "cell_type": "markdown",
   "id": "chinese-youth",
   "metadata": {},
   "source": [
    "## Normalisation"
   ]
  },
  {
   "cell_type": "code",
   "execution_count": 21,
   "id": "interesting-serve",
   "metadata": {},
   "outputs": [],
   "source": [
    "from sklearn.preprocessing import QuantileTransformer\n",
    "\n",
    "binary_scaler = QuantileTransformer(output_distribution='normal')\n",
    "x_binary_train = binary_scaler.fit_transform(x_binary_train)\n",
    "x_binary_val = binary_scaler.transform(x_binary_val)\n",
    "x_binary_test = binary_scaler.transform(x_binary_test)"
   ]
  },
  {
   "cell_type": "code",
   "execution_count": null,
   "id": "finished-honolulu",
   "metadata": {},
   "outputs": [],
   "source": [
    "multi_scaler = QuantileTransformer(output_distribution='normal')\n",
    "x_multi_train = multi_scaler.fit_transform(x_multi_train)\n",
    "x_malicious_test = multi_scaler.transform(x_malicious_test)"
   ]
  },
  {
   "cell_type": "markdown",
   "id": "perfect-subscriber",
   "metadata": {},
   "source": [
    "# Model Training"
   ]
  },
  {
   "cell_type": "markdown",
   "id": "decent-north",
   "metadata": {},
   "source": [
    "## Binary"
   ]
  },
  {
   "cell_type": "code",
   "execution_count": 22,
   "id": "empty-sodium",
   "metadata": {},
   "outputs": [],
   "source": [
    "from keras.models import Model\n",
    "from keras.layers import Dense, Input\n",
    "from keras.regularizers import l2\n",
    "\n",
    "# TODO Tied Weights AE\n",
    "# https://towardsdatascience.com/build-the-right-autoencoder-tune-and-optimize-using-pca-principles-part-ii-24b9cca69bd6\n",
    "\n",
    "def create_model(trial, input_dim):\n",
    "    input_layer = Input(shape=(input_dim,))\n",
    "    model = input_layer\n",
    "\n",
    "    encoder_layers = trial.suggest_int('encoder_layers', 1, 5)\n",
    "    l2_reg = trial.suggest_loguniform('l2', 1e-10, 1e-1)\n",
    "    \n",
    "    # Encoder\n",
    "    hidden_neurons = [input_dim]\n",
    "    for i in range(encoder_layers):\n",
    "        n_neuron = trial.suggest_int(f'n_layer_{i}', 1, max(1, hidden_neurons[-1] - 1))\n",
    "        hidden_neurons.append(n_neuron)\n",
    "        model = Dense(n_neuron, activation='relu', activity_regularizer=l2(l2_reg))(model)\n",
    "\n",
    "    # Decoder\n",
    "    hidden_neurons = hidden_neurons[1:-1]\n",
    "    for i in reversed(hidden_neurons):\n",
    "        model = Dense(i, activation='relu', activity_regularizer=l2(l2_reg))(model)\n",
    "\n",
    "    # Output Layer\n",
    "    model = Dense(input_dim, activation='sigmoid', activity_regularizer=l2(l2_reg))(model)\n",
    "    autoencoder = Model(inputs=input_layer, outputs=model)\n",
    "    autoencoder.compile(optimizer='adam', loss='mean_squared_error')\n",
    "    return autoencoder"
   ]
  },
  {
   "cell_type": "code",
   "execution_count": 23,
   "id": "defined-apartment",
   "metadata": {},
   "outputs": [],
   "source": [
    "def anomaly_scores(original, transformed):\n",
    "    sse = np.sum((original - transformed)**2, axis=1)\n",
    "    return sse"
   ]
  },
  {
   "cell_type": "code",
   "execution_count": 24,
   "id": "southwest-pontiac",
   "metadata": {},
   "outputs": [],
   "source": [
    "from sklearn.metrics import f1_score, make_scorer, precision_score, recall_score, average_precision_score, roc_auc_score, precision_recall_curve, auc, roc_curve\n",
    "\n",
    "def evaluate_results(y_true, score):\n",
    "    precision, recall, threshold = precision_recall_curve(y_true, score, pos_label=-1)\n",
    "    au_precision_recall = auc(recall, precision)\n",
    "    results = pd.DataFrame({'precision': precision, 'recall': recall})\n",
    "    results[\"f1\"] = 2*precision*recall/(precision+recall)\n",
    "    max_index = results[\"f1\"].idxmax()\n",
    "    best = results.loc[results[\"f1\"].idxmax()]\n",
    "    best[\"threshold\"] = threshold[max_index]\n",
    "    best[\"au_precision_recall\"] = au_precision_recall\n",
    "    fpr, tpr, thresholds = roc_curve(y_true, score, pos_label=-1)\n",
    "    best[\"auroc\"] = auc(fpr, tpr)\n",
    "    return best"
   ]
  },
  {
   "cell_type": "code",
   "execution_count": 25,
   "id": "academic-dressing",
   "metadata": {},
   "outputs": [],
   "source": [
    "from util.AUROCEarlyStoppingPruneCallback import AUROCEarlyStoppingPruneCallback\n",
    "\n",
    "def objective(trial, x_train, x_val, y_val):\n",
    "    autoencoder = create_model(trial, input_dim=x_train.shape[1])\n",
    "    history = autoencoder.fit(\n",
    "        x_train,\n",
    "        x_train,\n",
    "        epochs=20, \n",
    "        shuffle=True,\n",
    "        verbose=0,\n",
    "        callbacks=[\n",
    "            AUROCEarlyStoppingPruneCallback(\n",
    "                x_val, \n",
    "                y_val, \n",
    "                trial,\n",
    "                min_delta=0.001,\n",
    "                patience=3,\n",
    "                mode='max',\n",
    "                restore_best_weights=True,\n",
    "                verbose=1\n",
    "            )]\n",
    "    )\n",
    "    trial.set_user_attr('epochs', len(history.history['loss']))\n",
    "    trial.set_user_attr('losses', history.history['loss'])\n",
    "    x_val_autoencoder = autoencoder.predict(x_val)\n",
    "    val_score = anomaly_scores(x_val, x_val_autoencoder)\n",
    "    val_metrics = evaluate_results(y_val, val_score)\n",
    "\n",
    "    # Save Keras model\n",
    "    autoencoder.save(f'{save_dir}models/autoencoder_{trial.number}.h5')\n",
    "    return val_metrics['auroc']"
   ]
  },
  {
   "cell_type": "code",
   "execution_count": 26,
   "id": "upset-idaho",
   "metadata": {},
   "outputs": [],
   "source": [
    "study_name = \"binary_ae\"\n",
    "save_dir = \"results/binary/\"\n",
    "study_storage = \"results/binary/optuna.db\""
   ]
  },
  {
   "cell_type": "code",
   "execution_count": 27,
   "id": "separate-dependence",
   "metadata": {},
   "outputs": [
    {
     "name": "stderr",
     "output_type": "stream",
     "text": [
      "/opt/conda/lib/python3.8/site-packages/optuna/samplers/_tpe/sampler.py:188: ExperimentalWarning: ``multivariate`` option is an experimental feature. The interface can change in the future.\n",
      "  warnings.warn(\n",
      "\u001b[32m[I 2021-02-25 14:24:21,724]\u001b[0m A new study created in RDB with name: binary_ae\u001b[0m\n"
     ]
    },
    {
     "name": "stdout",
     "output_type": "stream",
     "text": [
      "Epoch #0\tValidation AUROC: 0.5307303983859134\tBest AUROC: -inf\n",
      "Epoch #1\tValidation AUROC: 0.5289071951577403\tBest AUROC: 0.5307303983859134\n",
      "Epoch #2\tValidation AUROC: 0.5290251320616287\tBest AUROC: 0.5307303983859134\n",
      "Epoch #3\tValidation AUROC: 0.5286518701393984\tBest AUROC: 0.5307303983859134\n",
      "Restoring model weights from the end of the best epoch\n",
      "Epoch 00004: early stopping\n"
     ]
    },
    {
     "name": "stderr",
     "output_type": "stream",
     "text": [
      "<ipython-input-24-8e32abd8deea>:7: RuntimeWarning: invalid value encountered in true_divide\n",
      "  results[\"f1\"] = 2*precision*recall/(precision+recall)\n",
      "\u001b[32m[I 2021-02-25 14:24:48,419]\u001b[0m Trial 0 finished with value: 0.5307303983859134 and parameters: {'encoder_layers': 1, 'l2': 0.01428888487323317, 'n_layer_0': 58}. Best is trial 0 with value: 0.5307303983859134.\u001b[0m\n"
     ]
    },
    {
     "name": "stdout",
     "output_type": "stream",
     "text": [
      "Epoch #0\tValidation AUROC: 0.5297442956713133\tBest AUROC: -inf\n",
      "Epoch #1\tValidation AUROC: 0.5301041166544387\tBest AUROC: 0.5297442956713133\n",
      "Epoch #2\tValidation AUROC: 0.5302693462949376\tBest AUROC: 0.5297442956713133\n",
      "Epoch #3\tValidation AUROC: 0.5302994622157007\tBest AUROC: 0.5297442956713133\n",
      "Restoring model weights from the end of the best epoch\n",
      "Epoch 00004: early stopping\n"
     ]
    },
    {
     "name": "stderr",
     "output_type": "stream",
     "text": [
      "<ipython-input-24-8e32abd8deea>:7: RuntimeWarning: invalid value encountered in true_divide\n",
      "  results[\"f1\"] = 2*precision*recall/(precision+recall)\n",
      "\u001b[32m[I 2021-02-25 14:25:13,397]\u001b[0m Trial 1 finished with value: 0.5297442956713133 and parameters: {'encoder_layers': 1, 'l2': 0.011846262117309953, 'n_layer_0': 62}. Best is trial 0 with value: 0.5307303983859134.\u001b[0m\n"
     ]
    },
    {
     "name": "stdout",
     "output_type": "stream",
     "text": [
      "Epoch #0\tValidation AUROC: 0.5305614578136464\tBest AUROC: -inf\n",
      "Epoch #1\tValidation AUROC: 0.5308417057960382\tBest AUROC: 0.5305614578136464\n",
      "Epoch #2\tValidation AUROC: 0.5324568870139398\tBest AUROC: 0.5305614578136464\n",
      "Epoch #3\tValidation AUROC: 0.5321327417461482\tBest AUROC: 0.5324568870139398\n",
      "Epoch #4\tValidation AUROC: 0.5323611614086574\tBest AUROC: 0.5324568870139398\n",
      "Epoch #5\tValidation AUROC: 0.5322787079970652\tBest AUROC: 0.5324568870139398\n",
      "Restoring model weights from the end of the best epoch\n",
      "Epoch 00006: early stopping\n"
     ]
    },
    {
     "name": "stderr",
     "output_type": "stream",
     "text": [
      "<ipython-input-24-8e32abd8deea>:7: RuntimeWarning: invalid value encountered in true_divide\n",
      "  results[\"f1\"] = 2*precision*recall/(precision+recall)\n",
      "\u001b[32m[I 2021-02-25 14:25:53,097]\u001b[0m Trial 2 finished with value: 0.5324568870139398 and parameters: {'encoder_layers': 4, 'l2': 0.0001114057508392709, 'n_layer_0': 24, 'n_layer_1': 16, 'n_layer_2': 14, 'n_layer_3': 7}. Best is trial 2 with value: 0.5324568870139398.\u001b[0m\n"
     ]
    },
    {
     "name": "stdout",
     "output_type": "stream",
     "text": [
      "Epoch #0\tValidation AUROC: 0.5296885568598679\tBest AUROC: -inf\n",
      "Epoch #1\tValidation AUROC: 0.5301917982391784\tBest AUROC: 0.5296885568598679\n",
      "Epoch #2\tValidation AUROC: 0.530098345561262\tBest AUROC: 0.5296885568598679\n",
      "Epoch #3\tValidation AUROC: 0.5295600432868672\tBest AUROC: 0.5296885568598679\n",
      "Restoring model weights from the end of the best epoch\n",
      "Epoch 00004: early stopping\n"
     ]
    },
    {
     "name": "stderr",
     "output_type": "stream",
     "text": [
      "<ipython-input-24-8e32abd8deea>:7: RuntimeWarning: invalid value encountered in true_divide\n",
      "  results[\"f1\"] = 2*precision*recall/(precision+recall)\n",
      "\u001b[32m[I 2021-02-25 14:26:16,570]\u001b[0m Trial 3 finished with value: 0.5296885568598679 and parameters: {'encoder_layers': 1, 'l2': 3.7410141038754e-10, 'n_layer_0': 9}. Best is trial 2 with value: 0.5324568870139398.\u001b[0m\n"
     ]
    },
    {
     "name": "stdout",
     "output_type": "stream",
     "text": [
      "Epoch #0\tValidation AUROC: 0.5298644541452677\tBest AUROC: -inf\n",
      "Epoch #1\tValidation AUROC: 0.5297821841526046\tBest AUROC: 0.5298644541452677\n",
      "Epoch #2\tValidation AUROC: 0.5286525685986794\tBest AUROC: 0.5298644541452677\n",
      "Epoch #3\tValidation AUROC: 0.527615412325752\tBest AUROC: 0.5298644541452677\n",
      "Restoring model weights from the end of the best epoch\n",
      "Epoch 00004: early stopping\n"
     ]
    },
    {
     "name": "stderr",
     "output_type": "stream",
     "text": [
      "<ipython-input-24-8e32abd8deea>:7: RuntimeWarning: invalid value encountered in true_divide\n",
      "  results[\"f1\"] = 2*precision*recall/(precision+recall)\n",
      "\u001b[32m[I 2021-02-25 14:26:41,448]\u001b[0m Trial 4 finished with value: 0.5298644541452677 and parameters: {'encoder_layers': 2, 'l2': 1.1395932123991422e-07, 'n_layer_0': 38, 'n_layer_1': 23}. Best is trial 2 with value: 0.5324568870139398.\u001b[0m\n"
     ]
    }
   ],
   "source": [
    "import optuna\n",
    "from optuna.samplers import TPESampler\n",
    "from optuna.pruners import ThresholdPruner\n",
    "\n",
    "study = optuna.create_study(\n",
    "    study_name=study_name, \n",
    "    direction='maximize', \n",
    "    sampler=TPESampler(n_startup_trials=10, n_ei_candidates=24, multivariate=True),\n",
    "    pruner=ThresholdPruner(lower=0.5),\n",
    "    storage=f'sqlite:///{study_storage}',\n",
    "    load_if_exists=True\n",
    ")\n",
    "study.optimize(lambda trial: objective(trial, x_binary_train, x_binary_val, y_binary_val), n_trials=5, n_jobs=-1)\n",
    "\n",
    "# Save results\n",
    "results = study.trials_dataframe()\n",
    "results.sort_values(by=['value'], inplace=True, ascending=False)\n",
    "results.to_csv(f'{save_dir}result.csv')"
   ]
  },
  {
   "cell_type": "code",
   "execution_count": 28,
   "id": "published-cache",
   "metadata": {},
   "outputs": [],
   "source": [
    "from keras.models import load_model\n",
    "\n",
    "model = load_model(f\"{save_dir}/models/autoencoder_10.h5\")"
   ]
  },
  {
   "cell_type": "code",
   "execution_count": 31,
   "id": "awful-nicholas",
   "metadata": {},
   "outputs": [],
   "source": [
    "x_pred = model.predict(x_binary_val)\n",
    "scores = anomaly_scores(x_binary_val, x_pred)"
   ]
  },
  {
   "cell_type": "code",
   "execution_count": 33,
   "id": "italic-least",
   "metadata": {},
   "outputs": [
    {
     "name": "stderr",
     "output_type": "stream",
     "text": [
      "<ipython-input-24-8e32abd8deea>:7: RuntimeWarning: invalid value encountered in true_divide\n",
      "  results[\"f1\"] = 2*precision*recall/(precision+recall)\n"
     ]
    },
    {
     "data": {
      "text/plain": [
       "precision              1.139032e-01\n",
       "recall                 5.879677e-01\n",
       "f1                     1.908368e-01\n",
       "threshold              4.785408e+12\n",
       "au_precision_recall    7.837432e-02\n",
       "auroc                  6.064048e-01\n",
       "Name: 67804, dtype: float64"
      ]
     },
     "execution_count": 33,
     "metadata": {},
     "output_type": "execute_result"
    }
   ],
   "source": [
    "evaluate_results(y_binary_val, scores)"
   ]
  },
  {
   "cell_type": "code",
   "execution_count": 29,
   "id": "behavioral-court",
   "metadata": {},
   "outputs": [],
   "source": [
    "from keras.models import load_model\n",
    "ae_2017 = load_model(f'/project/cic-ids-2017/results/autoencoder/optuna/models/autoencoder_443.h5')\n",
    "x_pred = ae_2017.predict(x_binary_val)\n",
    "score = anomaly_scores(x_binary_val, x_pred)"
   ]
  },
  {
   "cell_type": "code",
   "execution_count": 30,
   "id": "super-blackjack",
   "metadata": {},
   "outputs": [
    {
     "name": "stderr",
     "output_type": "stream",
     "text": [
      "<ipython-input-24-8e32abd8deea>:7: RuntimeWarning: invalid value encountered in true_divide\n",
      "  results[\"f1\"] = 2*precision*recall/(precision+recall)\n"
     ]
    },
    {
     "data": {
      "text/plain": [
       "precision               0.223064\n",
       "recall                  0.345708\n",
       "f1                      0.271163\n",
       "threshold              54.456198\n",
       "au_precision_recall     0.232508\n",
       "auroc                   0.797346\n",
       "Name: 76628, dtype: float64"
      ]
     },
     "execution_count": 30,
     "metadata": {},
     "output_type": "execute_result"
    }
   ],
   "source": [
    "evaluate_results(y_binary_val, score)"
   ]
  },
  {
   "cell_type": "code",
   "execution_count": null,
   "id": "fallen-vegetation",
   "metadata": {},
   "outputs": [],
   "source": []
  }
 ],
 "metadata": {
  "kernelspec": {
   "display_name": "Python 3",
   "language": "python",
   "name": "python3"
  },
  "language_info": {
   "codemirror_mode": {
    "name": "ipython",
    "version": 3
   },
   "file_extension": ".py",
   "mimetype": "text/x-python",
   "name": "python",
   "nbconvert_exporter": "python",
   "pygments_lexer": "ipython3",
   "version": "3.8.8"
  }
 },
 "nbformat": 4,
 "nbformat_minor": 5
}
