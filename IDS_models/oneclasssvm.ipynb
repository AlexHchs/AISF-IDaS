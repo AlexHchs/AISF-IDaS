{
 "cells": [
  {
   "cell_type": "code",
   "execution_count": 11,
   "id": "rising-carry",
   "metadata": {},
   "outputs": [],
   "source": [
    "%load_ext autoreload\n",
    "%autoreload 2"
   ]
  },
  {
   "cell_type": "code",
   "execution_count": 12,
   "id": "simplified-beaver",
   "metadata": {},
   "outputs": [],
   "source": [
    "import numpy as np\n",
    "import pandas as pd\n",
    "import util.common as util"
   ]
  },
  {
   "cell_type": "markdown",
   "id": "elder-hungary",
   "metadata": {},
   "source": [
    "# Load Data"
   ]
  },
  {
   "cell_type": "code",
   "execution_count": 13,
   "id": "pregnant-forge",
   "metadata": {},
   "outputs": [
    {
     "name": "stdout",
     "output_type": "stream",
     "text": [
      "(D)DOS          321637\n",
      "Port Scan        90694\n",
      "Brute Force       9150\n",
      "Web Attack        2143\n",
      "Botnet            1948\n",
      "Infiltration        36\n",
      "Heartbleed          11\n",
      "Name: Label, dtype: int64\n",
      "Attack type:    #Original:     #Sampled:      #Train:       #Test:\n",
      "      (D)DOS        321637          1948         1363          585\n",
      "      Botnet          1948          1948         1363          585\n",
      " Brute Force          9150          1948         1363          585\n",
      "  Heartbleed            11            11            0           11\n",
      "Infiltration            36            36            0           36\n",
      "   Port Scan         90694          1948         1363          585\n",
      "  Web Attack          2143          1948         1363          585\n"
     ]
    }
   ],
   "source": [
    "clean_dir = \"/project/data/cicids2017/clean/\"\n",
    "x_binary_train, y_binary_train, x_binary_val, y_binary_val, x_binary_test, y_binary_test, x_multi_train, y_multi_test = util.load_data(clean_dir, train_size=20000, sample_size=1948)"
   ]
  },
  {
   "cell_type": "code",
   "execution_count": 14,
   "id": "industrial-young",
   "metadata": {},
   "outputs": [
    {
     "data": {
      "text/plain": [
       "(array([1.]), array([20000]))"
      ]
     },
     "execution_count": 14,
     "metadata": {},
     "output_type": "execute_result"
    }
   ],
   "source": [
    "np.unique(y_binary_train, return_counts=True)"
   ]
  },
  {
   "cell_type": "code",
   "execution_count": 15,
   "id": "offensive-hebrew",
   "metadata": {},
   "outputs": [
    {
     "data": {
      "text/plain": [
       "(array([-1.,  1.]), array([  6815, 100000]))"
      ]
     },
     "execution_count": 15,
     "metadata": {},
     "output_type": "execute_result"
    }
   ],
   "source": [
    "np.unique(y_binary_val, return_counts=True)"
   ]
  },
  {
   "cell_type": "code",
   "execution_count": 16,
   "id": "genetic-sociology",
   "metadata": {},
   "outputs": [
    {
     "data": {
      "text/plain": [
       "(array([-1.,  1.]), array([ 2972, 30000]))"
      ]
     },
     "execution_count": 16,
     "metadata": {},
     "output_type": "execute_result"
    }
   ],
   "source": [
    "np.unique(y_binary_test, return_counts=True)"
   ]
  },
  {
   "cell_type": "markdown",
   "id": "alternate-sociology",
   "metadata": {},
   "source": [
    "## Normalise data"
   ]
  },
  {
   "cell_type": "code",
   "execution_count": 7,
   "id": "buried-reporter",
   "metadata": {},
   "outputs": [],
   "source": [
    "# from sklearn.preprocessing import QuantileTransformer\n",
    "\n",
    "# binary_scaler = QuantileTransformer(output_distribution='normal')\n",
    "# x_binary_train_s = binary_scaler.fit_transform(x_binary_train)\n",
    "# x_binary_val_s = binary_scaler.transform(x_binary_val)\n",
    "# x_binary_test_s = binary_scaler.transform(x_binary_test)"
   ]
  },
  {
   "cell_type": "code",
   "execution_count": 8,
   "id": "greek-victim",
   "metadata": {},
   "outputs": [],
   "source": [
    "# from sklearn.preprocessing import MinMaxScaler\n",
    "\n",
    "# binary_scaler = MinMaxScaler(feature_range=(0, 1), copy=True)\n",
    "# x_binary_train_s = binary_scaler.fit_transform(x_binary_train)\n",
    "# x_binary_val_s = binary_scaler.transform(x_binary_val)\n",
    "# x_binary_test_s = binary_scaler.transform(x_binary_test)"
   ]
  },
  {
   "cell_type": "code",
   "execution_count": 17,
   "id": "desirable-entry",
   "metadata": {},
   "outputs": [],
   "source": [
    "from sklearn.preprocessing import StandardScaler, RobustScaler, QuantileTransformer, MinMaxScaler\n",
    "scalers = {\n",
    "    'standard': StandardScaler(),\n",
    "    'robust': RobustScaler(quantile_range=(25, 75)),\n",
    "    'quantile': QuantileTransformer(output_distribution='normal'),\n",
    "    'minmax': MinMaxScaler(feature_range=(0, 1), copy=True)\n",
    "}\n",
    "x_train = {}\n",
    "x_val = {}\n",
    "for key, value in scalers.items():\n",
    "    x_train[key] = value.fit_transform(x_binary_train)\n",
    "    x_val[key] = value.transform(x_binary_val)"
   ]
  },
  {
   "cell_type": "markdown",
   "id": "marine-committee",
   "metadata": {},
   "source": [
    "# Train Model"
   ]
  },
  {
   "cell_type": "code",
   "execution_count": 18,
   "id": "durable-timber",
   "metadata": {},
   "outputs": [],
   "source": [
    "from sklearn.decomposition import PCA\n",
    "from sklearn.svm import OneClassSVM\n",
    "from sklearn.pipeline import Pipeline"
   ]
  },
  {
   "cell_type": "code",
   "execution_count": 19,
   "id": "characteristic-appendix",
   "metadata": {},
   "outputs": [],
   "source": [
    "def create_model(params):\n",
    "    return Pipeline(\n",
    "        [\n",
    "            (\"pca\", PCA(n_components=None, copy=True, whiten=False, svd_solver='auto', tol=0.0, iterated_power='auto', random_state=42)), \n",
    "            (\"ocsvm\", OneClassSVM(kernel='rbf', degree=3, gamma='scale', coef0=0.0, tol=0.001, nu=0.5, shrinking=True, cache_size=200, verbose=True, max_iter=-1))\n",
    "        ]\n",
    "    ).set_params(**params)"
   ]
  },
  {
   "cell_type": "code",
   "execution_count": 20,
   "id": "representative-bradford",
   "metadata": {},
   "outputs": [],
   "source": [
    "params = {\n",
    "#     \"scaler\": \"standard\",\n",
    "    \"pca__n_components\": 19,\n",
    "    \"ocsvm__kernel\": \"rbf\",\n",
    "    \"ocsvm__gamma\": 0.1318,\n",
    "    'ocsvm__nu': 0.0358\n",
    "}"
   ]
  },
  {
   "cell_type": "code",
   "execution_count": 56,
   "id": "needed-latest",
   "metadata": {},
   "outputs": [],
   "source": [
    "params = {\n",
    "#     \"scaler\": \"standard\",\n",
    "    \"pca__n_components\": 6,\n",
    "    \"ocsvm__kernel\": \"rbf\",\n",
    "    \"ocsvm__gamma\": 0.162411,\n",
    "#     'ocsvm__nu': 0.635848336984203345\n",
    "}"
   ]
  },
  {
   "cell_type": "code",
   "execution_count": 21,
   "id": "french-salem",
   "metadata": {},
   "outputs": [],
   "source": [
    "model = create_model(params)"
   ]
  },
  {
   "cell_type": "code",
   "execution_count": 58,
   "id": "spectacular-encyclopedia",
   "metadata": {},
   "outputs": [],
   "source": [
    "params[\"scaler\"] = \"standard\""
   ]
  },
  {
   "cell_type": "code",
   "execution_count": 22,
   "id": "tropical-webmaster",
   "metadata": {},
   "outputs": [],
   "source": [
    "params[\"scaler\"] = \"quantile\""
   ]
  },
  {
   "cell_type": "code",
   "execution_count": 23,
   "id": "efficient-credit",
   "metadata": {},
   "outputs": [
    {
     "name": "stdout",
     "output_type": "stream",
     "text": [
      "[LibSVM]"
     ]
    },
    {
     "data": {
      "text/plain": [
       "Pipeline(steps=[('pca', PCA(n_components=19, random_state=42)),\n",
       "                ('ocsvm', OneClassSVM(gamma=0.1318, nu=0.0358, verbose=True))])"
      ]
     },
     "execution_count": 23,
     "metadata": {},
     "output_type": "execute_result"
    }
   ],
   "source": [
    "model.fit(x_train[params[\"scaler\"]])"
   ]
  },
  {
   "cell_type": "code",
   "execution_count": 24,
   "id": "developmental-medium",
   "metadata": {},
   "outputs": [],
   "source": [
    "scores = model.decision_function(x_val[params[\"scaler\"]])"
   ]
  },
  {
   "cell_type": "code",
   "execution_count": 25,
   "id": "smoking-stuff",
   "metadata": {},
   "outputs": [
    {
     "data": {
      "text/plain": [
       "f1                   precision    0.405302\n",
       "                     recall       0.482318\n",
       "                     f1           0.440469\n",
       "                     f2           0.464659\n",
       "f2                   precision    0.300039\n",
       "                     recall       0.560235\n",
       "                     f1           0.390788\n",
       "                     f2           0.477429\n",
       "f1threshold                       0.052452\n",
       "f2threshold                      -0.002256\n",
       "au_precision_recall               0.310581\n",
       "auroc                             0.812241\n",
       "dtype: float64"
      ]
     },
     "execution_count": 25,
     "metadata": {},
     "output_type": "execute_result"
    }
   ],
   "source": [
    "val_metrics = util.evaluate_results(y_binary_val, -scores)\n",
    "val_metrics"
   ]
  },
  {
   "cell_type": "markdown",
   "id": "green-butler",
   "metadata": {},
   "source": [
    "# Log final results to disk and neptuen"
   ]
  },
  {
   "cell_type": "code",
   "execution_count": 1,
   "id": "adjacent-board",
   "metadata": {},
   "outputs": [],
   "source": [
    "import optuna"
   ]
  },
  {
   "cell_type": "code",
   "execution_count": 2,
   "id": "vietnamese-probe",
   "metadata": {},
   "outputs": [
    {
     "data": {
      "text/plain": [
       "['TWOS-47',\n",
       " 'TWOS-48',\n",
       " 'TWOS-49',\n",
       " 'TWOS-50',\n",
       " 'TWOS-51',\n",
       " 'TWOS-52',\n",
       " 'TWOS-53',\n",
       " 'TWOS-54',\n",
       " 'TWOS-55']"
      ]
     },
     "execution_count": 2,
     "metadata": {},
     "output_type": "execute_result"
    }
   ],
   "source": [
    "study_storage = 'results/binary/ocsvm.db'\n",
    "list(map(lambda s: s.study_name, optuna.study.get_all_study_summaries(storage=f\"sqlite:///{study_storage}\")))"
   ]
  },
  {
   "cell_type": "code",
   "execution_count": 3,
   "id": "central-voltage",
   "metadata": {},
   "outputs": [],
   "source": [
    "study_name = \"TWOS-55\"\n",
    "save_dir = f'results/binary/ocsvm/{study_name}'"
   ]
  },
  {
   "cell_type": "code",
   "execution_count": 5,
   "id": "composed-central",
   "metadata": {},
   "outputs": [
    {
     "data": {
      "text/html": [
       "<div>\n",
       "<style scoped>\n",
       "    .dataframe tbody tr th:only-of-type {\n",
       "        vertical-align: middle;\n",
       "    }\n",
       "\n",
       "    .dataframe tbody tr th {\n",
       "        vertical-align: top;\n",
       "    }\n",
       "\n",
       "    .dataframe thead th {\n",
       "        text-align: right;\n",
       "    }\n",
       "</style>\n",
       "<table border=\"1\" class=\"dataframe\">\n",
       "  <thead>\n",
       "    <tr style=\"text-align: right;\">\n",
       "      <th></th>\n",
       "      <th>number</th>\n",
       "      <th>value</th>\n",
       "      <th>datetime_start</th>\n",
       "      <th>datetime_complete</th>\n",
       "      <th>duration</th>\n",
       "      <th>params_gamma</th>\n",
       "      <th>params_n_comp</th>\n",
       "      <th>params_nu</th>\n",
       "      <th>params_scaler</th>\n",
       "      <th>user_attrs_au_precision_recall</th>\n",
       "      <th>...</th>\n",
       "      <th>user_attrs_f1f2</th>\n",
       "      <th>user_attrs_f1precision</th>\n",
       "      <th>user_attrs_f1recall</th>\n",
       "      <th>user_attrs_f1threshold</th>\n",
       "      <th>user_attrs_f2f1</th>\n",
       "      <th>user_attrs_f2f2</th>\n",
       "      <th>user_attrs_f2precision</th>\n",
       "      <th>user_attrs_f2recall</th>\n",
       "      <th>user_attrs_f2threshold</th>\n",
       "      <th>state</th>\n",
       "    </tr>\n",
       "  </thead>\n",
       "  <tbody>\n",
       "    <tr>\n",
       "      <th>1067</th>\n",
       "      <td>1067</td>\n",
       "      <td>0.885405</td>\n",
       "      <td>2021-03-04 15:46:29.951131</td>\n",
       "      <td>2021-03-04 15:46:45.883670</td>\n",
       "      <td>0 days 00:00:15.932539</td>\n",
       "      <td>0.061968</td>\n",
       "      <td>22.0</td>\n",
       "      <td>0.084535</td>\n",
       "      <td>quantile</td>\n",
       "      <td>0.327007</td>\n",
       "      <td>...</td>\n",
       "      <td>0.525975</td>\n",
       "      <td>0.340980</td>\n",
       "      <td>0.608511</td>\n",
       "      <td>0.085758</td>\n",
       "      <td>0.409380</td>\n",
       "      <td>0.553660</td>\n",
       "      <td>0.285417</td>\n",
       "      <td>0.723698</td>\n",
       "      <td>-0.003608</td>\n",
       "      <td>COMPLETE</td>\n",
       "    </tr>\n",
       "    <tr>\n",
       "      <th>828</th>\n",
       "      <td>828</td>\n",
       "      <td>0.884954</td>\n",
       "      <td>2021-03-04 15:25:56.776596</td>\n",
       "      <td>2021-03-04 15:26:10.968010</td>\n",
       "      <td>0 days 00:00:14.191414</td>\n",
       "      <td>0.063872</td>\n",
       "      <td>25.0</td>\n",
       "      <td>0.088535</td>\n",
       "      <td>quantile</td>\n",
       "      <td>0.326744</td>\n",
       "      <td>...</td>\n",
       "      <td>0.545055</td>\n",
       "      <td>0.346267</td>\n",
       "      <td>0.636390</td>\n",
       "      <td>0.100979</td>\n",
       "      <td>0.441390</td>\n",
       "      <td>0.552707</td>\n",
       "      <td>0.330463</td>\n",
       "      <td>0.664417</td>\n",
       "      <td>0.055183</td>\n",
       "      <td>COMPLETE</td>\n",
       "    </tr>\n",
       "    <tr>\n",
       "      <th>1666</th>\n",
       "      <td>1666</td>\n",
       "      <td>0.883250</td>\n",
       "      <td>2021-03-04 16:38:27.843841</td>\n",
       "      <td>2021-03-04 16:38:39.820689</td>\n",
       "      <td>0 days 00:00:11.976848</td>\n",
       "      <td>0.065431</td>\n",
       "      <td>26.0</td>\n",
       "      <td>0.076230</td>\n",
       "      <td>quantile</td>\n",
       "      <td>0.317972</td>\n",
       "      <td>...</td>\n",
       "      <td>0.537845</td>\n",
       "      <td>0.373155</td>\n",
       "      <td>0.604549</td>\n",
       "      <td>0.116185</td>\n",
       "      <td>0.453525</td>\n",
       "      <td>0.558835</td>\n",
       "      <td>0.345129</td>\n",
       "      <td>0.661189</td>\n",
       "      <td>0.045097</td>\n",
       "      <td>COMPLETE</td>\n",
       "    </tr>\n",
       "    <tr>\n",
       "      <th>1079</th>\n",
       "      <td>1079</td>\n",
       "      <td>0.882658</td>\n",
       "      <td>2021-03-04 15:47:23.818171</td>\n",
       "      <td>2021-03-04 15:47:37.811332</td>\n",
       "      <td>0 days 00:00:13.993161</td>\n",
       "      <td>0.050753</td>\n",
       "      <td>26.0</td>\n",
       "      <td>0.079925</td>\n",
       "      <td>quantile</td>\n",
       "      <td>0.321438</td>\n",
       "      <td>...</td>\n",
       "      <td>0.408571</td>\n",
       "      <td>0.438290</td>\n",
       "      <td>0.401761</td>\n",
       "      <td>0.666783</td>\n",
       "      <td>0.406865</td>\n",
       "      <td>0.543107</td>\n",
       "      <td>0.286910</td>\n",
       "      <td>0.699193</td>\n",
       "      <td>-0.003747</td>\n",
       "      <td>COMPLETE</td>\n",
       "    </tr>\n",
       "    <tr>\n",
       "      <th>1104</th>\n",
       "      <td>1104</td>\n",
       "      <td>0.882135</td>\n",
       "      <td>2021-03-04 15:49:11.975766</td>\n",
       "      <td>2021-03-04 15:49:22.706789</td>\n",
       "      <td>0 days 00:00:10.731023</td>\n",
       "      <td>0.057988</td>\n",
       "      <td>24.0</td>\n",
       "      <td>0.073578</td>\n",
       "      <td>quantile</td>\n",
       "      <td>0.316762</td>\n",
       "      <td>...</td>\n",
       "      <td>0.492283</td>\n",
       "      <td>0.353752</td>\n",
       "      <td>0.545708</td>\n",
       "      <td>0.099960</td>\n",
       "      <td>0.399862</td>\n",
       "      <td>0.530550</td>\n",
       "      <td>0.283481</td>\n",
       "      <td>0.678357</td>\n",
       "      <td>-0.003097</td>\n",
       "      <td>COMPLETE</td>\n",
       "    </tr>\n",
       "  </tbody>\n",
       "</table>\n",
       "<p>5 rows × 22 columns</p>\n",
       "</div>"
      ],
      "text/plain": [
       "      number     value             datetime_start          datetime_complete  \\\n",
       "1067    1067  0.885405 2021-03-04 15:46:29.951131 2021-03-04 15:46:45.883670   \n",
       "828      828  0.884954 2021-03-04 15:25:56.776596 2021-03-04 15:26:10.968010   \n",
       "1666    1666  0.883250 2021-03-04 16:38:27.843841 2021-03-04 16:38:39.820689   \n",
       "1079    1079  0.882658 2021-03-04 15:47:23.818171 2021-03-04 15:47:37.811332   \n",
       "1104    1104  0.882135 2021-03-04 15:49:11.975766 2021-03-04 15:49:22.706789   \n",
       "\n",
       "                   duration  params_gamma  params_n_comp  params_nu  \\\n",
       "1067 0 days 00:00:15.932539      0.061968           22.0   0.084535   \n",
       "828  0 days 00:00:14.191414      0.063872           25.0   0.088535   \n",
       "1666 0 days 00:00:11.976848      0.065431           26.0   0.076230   \n",
       "1079 0 days 00:00:13.993161      0.050753           26.0   0.079925   \n",
       "1104 0 days 00:00:10.731023      0.057988           24.0   0.073578   \n",
       "\n",
       "     params_scaler  user_attrs_au_precision_recall  ...  user_attrs_f1f2  \\\n",
       "1067      quantile                        0.327007  ...         0.525975   \n",
       "828       quantile                        0.326744  ...         0.545055   \n",
       "1666      quantile                        0.317972  ...         0.537845   \n",
       "1079      quantile                        0.321438  ...         0.408571   \n",
       "1104      quantile                        0.316762  ...         0.492283   \n",
       "\n",
       "      user_attrs_f1precision  user_attrs_f1recall  user_attrs_f1threshold  \\\n",
       "1067                0.340980             0.608511                0.085758   \n",
       "828                 0.346267             0.636390                0.100979   \n",
       "1666                0.373155             0.604549                0.116185   \n",
       "1079                0.438290             0.401761                0.666783   \n",
       "1104                0.353752             0.545708                0.099960   \n",
       "\n",
       "      user_attrs_f2f1  user_attrs_f2f2  user_attrs_f2precision  \\\n",
       "1067         0.409380         0.553660                0.285417   \n",
       "828          0.441390         0.552707                0.330463   \n",
       "1666         0.453525         0.558835                0.345129   \n",
       "1079         0.406865         0.543107                0.286910   \n",
       "1104         0.399862         0.530550                0.283481   \n",
       "\n",
       "      user_attrs_f2recall  user_attrs_f2threshold     state  \n",
       "1067             0.723698               -0.003608  COMPLETE  \n",
       "828              0.664417                0.055183  COMPLETE  \n",
       "1666             0.661189                0.045097  COMPLETE  \n",
       "1079             0.699193               -0.003747  COMPLETE  \n",
       "1104             0.678357               -0.003097  COMPLETE  \n",
       "\n",
       "[5 rows x 22 columns]"
      ]
     },
     "execution_count": 5,
     "metadata": {},
     "output_type": "execute_result"
    }
   ],
   "source": [
    "study = optuna.load_study(study_name=study_name, storage=f\"sqlite:///{study_storage}\")\n",
    "results = study.trials_dataframe()\n",
    "results.sort_values(by=['value'], inplace=True, ascending=False)\n",
    "results.to_csv(f'{save_dir}/result.csv')\n",
    "results.head()"
   ]
  },
  {
   "cell_type": "code",
   "execution_count": 6,
   "id": "administrative-favorite",
   "metadata": {},
   "outputs": [],
   "source": [
    "import neptune\n",
    "from neptunecontrib.monitoring.optuna import log_study_info\n",
    "\n",
    "project = neptune.init(project_qualified_name='verkerken/two-stage-binary', api_token='eyJhcGlfYWRkcmVzcyI6Imh0dHBzOi8vdWkubmVwdHVuZS5haSIsImFwaV91cmwiOiJodHRwczovL3VpLm5lcHR1bmUuYWkiLCJhcGlfa2V5IjoiMGJlYTgzNzEtM2U3YS00ODI5LWEzMzgtM2M0MjcyMDIxOWUwIn0=')\n",
    "my_exp = project.get_experiments(id=study_name)[0]\n",
    "log_study_info(study, experiment=my_exp)"
   ]
  },
  {
   "cell_type": "code",
   "execution_count": 7,
   "id": "seasonal-devon",
   "metadata": {},
   "outputs": [],
   "source": [
    "from neptunecontrib.api.table import log_table\n",
    "log_table(\"results_overview\", results, experiment=my_exp)"
   ]
  },
  {
   "cell_type": "markdown",
   "id": "creative-mortgage",
   "metadata": {},
   "source": [
    "# Explore Results"
   ]
  },
  {
   "cell_type": "code",
   "execution_count": 27,
   "id": "balanced-extent",
   "metadata": {},
   "outputs": [
    {
     "data": {
      "text/html": [
       "<div>\n",
       "<style scoped>\n",
       "    .dataframe tbody tr th:only-of-type {\n",
       "        vertical-align: middle;\n",
       "    }\n",
       "\n",
       "    .dataframe tbody tr th {\n",
       "        vertical-align: top;\n",
       "    }\n",
       "\n",
       "    .dataframe thead th {\n",
       "        text-align: right;\n",
       "    }\n",
       "</style>\n",
       "<table border=\"1\" class=\"dataframe\">\n",
       "  <thead>\n",
       "    <tr style=\"text-align: right;\">\n",
       "      <th></th>\n",
       "      <th>number</th>\n",
       "      <th>value</th>\n",
       "      <th>datetime_start</th>\n",
       "      <th>datetime_complete</th>\n",
       "      <th>duration</th>\n",
       "      <th>params_gamma</th>\n",
       "      <th>params_n_comp</th>\n",
       "      <th>params_nu</th>\n",
       "      <th>params_scaler</th>\n",
       "      <th>user_attrs_au_precision_recall</th>\n",
       "      <th>...</th>\n",
       "      <th>user_attrs_f1f2</th>\n",
       "      <th>user_attrs_f1precision</th>\n",
       "      <th>user_attrs_f1recall</th>\n",
       "      <th>user_attrs_f1threshold</th>\n",
       "      <th>user_attrs_f2f1</th>\n",
       "      <th>user_attrs_f2f2</th>\n",
       "      <th>user_attrs_f2precision</th>\n",
       "      <th>user_attrs_f2recall</th>\n",
       "      <th>user_attrs_f2threshold</th>\n",
       "      <th>state</th>\n",
       "    </tr>\n",
       "  </thead>\n",
       "  <tbody>\n",
       "    <tr>\n",
       "      <th>823</th>\n",
       "      <td>823</td>\n",
       "      <td>0.867330</td>\n",
       "      <td>2021-03-04 15:25:33.765429</td>\n",
       "      <td>2021-03-04 15:25:56.538397</td>\n",
       "      <td>0 days 00:00:22.772968</td>\n",
       "      <td>0.050731</td>\n",
       "      <td>22.0</td>\n",
       "      <td>0.204466</td>\n",
       "      <td>quantile</td>\n",
       "      <td>0.287657</td>\n",
       "      <td>...</td>\n",
       "      <td>0.509094</td>\n",
       "      <td>0.269995</td>\n",
       "      <td>0.653852</td>\n",
       "      <td>1.947488</td>\n",
       "      <td>0.360162</td>\n",
       "      <td>0.511985</td>\n",
       "      <td>0.241035</td>\n",
       "      <td>0.712106</td>\n",
       "      <td>0.780013</td>\n",
       "      <td>COMPLETE</td>\n",
       "    </tr>\n",
       "    <tr>\n",
       "      <th>758</th>\n",
       "      <td>758</td>\n",
       "      <td>0.867250</td>\n",
       "      <td>2021-03-04 15:19:07.416138</td>\n",
       "      <td>2021-03-04 15:19:18.805844</td>\n",
       "      <td>0 days 00:00:11.389706</td>\n",
       "      <td>0.092558</td>\n",
       "      <td>21.0</td>\n",
       "      <td>0.075272</td>\n",
       "      <td>quantile</td>\n",
       "      <td>0.292621</td>\n",
       "      <td>...</td>\n",
       "      <td>0.468881</td>\n",
       "      <td>0.303020</td>\n",
       "      <td>0.543213</td>\n",
       "      <td>0.045633</td>\n",
       "      <td>0.366499</td>\n",
       "      <td>0.488092</td>\n",
       "      <td>0.258974</td>\n",
       "      <td>0.626706</td>\n",
       "      <td>-0.002916</td>\n",
       "      <td>COMPLETE</td>\n",
       "    </tr>\n",
       "    <tr>\n",
       "      <th>405</th>\n",
       "      <td>405</td>\n",
       "      <td>0.867204</td>\n",
       "      <td>2021-03-04 14:47:29.990543</td>\n",
       "      <td>2021-03-04 14:47:52.951196</td>\n",
       "      <td>0 days 00:00:22.960653</td>\n",
       "      <td>0.127771</td>\n",
       "      <td>55.0</td>\n",
       "      <td>0.139007</td>\n",
       "      <td>quantile</td>\n",
       "      <td>0.299362</td>\n",
       "      <td>...</td>\n",
       "      <td>0.519460</td>\n",
       "      <td>0.367564</td>\n",
       "      <td>0.579310</td>\n",
       "      <td>0.871544</td>\n",
       "      <td>0.445139</td>\n",
       "      <td>0.524526</td>\n",
       "      <td>0.355472</td>\n",
       "      <td>0.595304</td>\n",
       "      <td>0.756419</td>\n",
       "      <td>COMPLETE</td>\n",
       "    </tr>\n",
       "    <tr>\n",
       "      <th>286</th>\n",
       "      <td>286</td>\n",
       "      <td>0.867191</td>\n",
       "      <td>2021-03-04 14:35:32.326251</td>\n",
       "      <td>2021-03-04 14:35:53.952912</td>\n",
       "      <td>0 days 00:00:21.626661</td>\n",
       "      <td>0.121541</td>\n",
       "      <td>48.0</td>\n",
       "      <td>0.131462</td>\n",
       "      <td>quantile</td>\n",
       "      <td>0.300593</td>\n",
       "      <td>...</td>\n",
       "      <td>0.520171</td>\n",
       "      <td>0.370548</td>\n",
       "      <td>0.578577</td>\n",
       "      <td>0.757501</td>\n",
       "      <td>0.449282</td>\n",
       "      <td>0.525295</td>\n",
       "      <td>0.361981</td>\n",
       "      <td>0.592076</td>\n",
       "      <td>0.673755</td>\n",
       "      <td>COMPLETE</td>\n",
       "    </tr>\n",
       "    <tr>\n",
       "      <th>1061</th>\n",
       "      <td>1061</td>\n",
       "      <td>0.867124</td>\n",
       "      <td>2021-03-04 15:45:43.861240</td>\n",
       "      <td>2021-03-04 15:46:04.667962</td>\n",
       "      <td>0 days 00:00:20.806722</td>\n",
       "      <td>0.098894</td>\n",
       "      <td>41.0</td>\n",
       "      <td>0.133105</td>\n",
       "      <td>quantile</td>\n",
       "      <td>0.298383</td>\n",
       "      <td>...</td>\n",
       "      <td>0.510127</td>\n",
       "      <td>0.347110</td>\n",
       "      <td>0.577990</td>\n",
       "      <td>0.702278</td>\n",
       "      <td>0.427867</td>\n",
       "      <td>0.516111</td>\n",
       "      <td>0.332980</td>\n",
       "      <td>0.598386</td>\n",
       "      <td>0.561144</td>\n",
       "      <td>COMPLETE</td>\n",
       "    </tr>\n",
       "  </tbody>\n",
       "</table>\n",
       "<p>5 rows × 22 columns</p>\n",
       "</div>"
      ],
      "text/plain": [
       "      number     value             datetime_start          datetime_complete  \\\n",
       "823      823  0.867330 2021-03-04 15:25:33.765429 2021-03-04 15:25:56.538397   \n",
       "758      758  0.867250 2021-03-04 15:19:07.416138 2021-03-04 15:19:18.805844   \n",
       "405      405  0.867204 2021-03-04 14:47:29.990543 2021-03-04 14:47:52.951196   \n",
       "286      286  0.867191 2021-03-04 14:35:32.326251 2021-03-04 14:35:53.952912   \n",
       "1061    1061  0.867124 2021-03-04 15:45:43.861240 2021-03-04 15:46:04.667962   \n",
       "\n",
       "                   duration  params_gamma  params_n_comp  params_nu  \\\n",
       "823  0 days 00:00:22.772968      0.050731           22.0   0.204466   \n",
       "758  0 days 00:00:11.389706      0.092558           21.0   0.075272   \n",
       "405  0 days 00:00:22.960653      0.127771           55.0   0.139007   \n",
       "286  0 days 00:00:21.626661      0.121541           48.0   0.131462   \n",
       "1061 0 days 00:00:20.806722      0.098894           41.0   0.133105   \n",
       "\n",
       "     params_scaler  user_attrs_au_precision_recall  ...  user_attrs_f1f2  \\\n",
       "823       quantile                        0.287657  ...         0.509094   \n",
       "758       quantile                        0.292621  ...         0.468881   \n",
       "405       quantile                        0.299362  ...         0.519460   \n",
       "286       quantile                        0.300593  ...         0.520171   \n",
       "1061      quantile                        0.298383  ...         0.510127   \n",
       "\n",
       "      user_attrs_f1precision  user_attrs_f1recall  user_attrs_f1threshold  \\\n",
       "823                 0.269995             0.653852                1.947488   \n",
       "758                 0.303020             0.543213                0.045633   \n",
       "405                 0.367564             0.579310                0.871544   \n",
       "286                 0.370548             0.578577                0.757501   \n",
       "1061                0.347110             0.577990                0.702278   \n",
       "\n",
       "      user_attrs_f2f1  user_attrs_f2f2  user_attrs_f2precision  \\\n",
       "823          0.360162         0.511985                0.241035   \n",
       "758          0.366499         0.488092                0.258974   \n",
       "405          0.445139         0.524526                0.355472   \n",
       "286          0.449282         0.525295                0.361981   \n",
       "1061         0.427867         0.516111                0.332980   \n",
       "\n",
       "      user_attrs_f2recall  user_attrs_f2threshold     state  \n",
       "823              0.712106                0.780013  COMPLETE  \n",
       "758              0.626706               -0.002916  COMPLETE  \n",
       "405              0.595304                0.756419  COMPLETE  \n",
       "286              0.592076                0.673755  COMPLETE  \n",
       "1061             0.598386                0.561144  COMPLETE  \n",
       "\n",
       "[5 rows x 22 columns]"
      ]
     },
     "execution_count": 27,
     "metadata": {},
     "output_type": "execute_result"
    }
   ],
   "source": [
    "results.sort_values(by=['user_attrs_auroc'], ascending=False)[:100].tail()"
   ]
  },
  {
   "cell_type": "code",
   "execution_count": null,
   "id": "angry-pressing",
   "metadata": {},
   "outputs": [],
   "source": []
  }
 ],
 "metadata": {
  "kernelspec": {
   "display_name": "Python 3",
   "language": "python",
   "name": "python3"
  },
  "language_info": {
   "codemirror_mode": {
    "name": "ipython",
    "version": 3
   },
   "file_extension": ".py",
   "mimetype": "text/x-python",
   "name": "python",
   "nbconvert_exporter": "python",
   "pygments_lexer": "ipython3",
   "version": "3.8.8"
  }
 },
 "nbformat": 4,
 "nbformat_minor": 5
}
