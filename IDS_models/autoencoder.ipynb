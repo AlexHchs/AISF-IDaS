{
 "cells": [
  {
   "cell_type": "code",
   "execution_count": 104,
   "id": "e6984168",
   "metadata": {},
   "outputs": [
    {
     "name": "stdout",
     "output_type": "stream",
     "text": [
      "The autoreload extension is already loaded. To reload it, use:\n",
      "  %reload_ext autoreload\n"
     ]
    }
   ],
   "source": [
    "%load_ext autoreload\n",
    "%autoreload 2"
   ]
  },
  {
   "cell_type": "code",
   "execution_count": 2,
   "id": "c9bb8db8",
   "metadata": {},
   "outputs": [],
   "source": [
    "from numpy.random import seed\n",
    "seed(42)\n",
    "import tensorflow\n",
    "tensorflow.random.set_seed(42)"
   ]
  },
  {
   "cell_type": "code",
   "execution_count": 234,
   "id": "6b285a6f",
   "metadata": {},
   "outputs": [],
   "source": [
    "import numpy as np\n",
    "import pandas as pd\n",
    "import util.common as util"
   ]
  },
  {
   "cell_type": "markdown",
   "id": "15fb2c37",
   "metadata": {},
   "source": [
    "# Load Data"
   ]
  },
  {
   "cell_type": "code",
   "execution_count": 119,
   "id": "ac10444d",
   "metadata": {},
   "outputs": [
    {
     "name": "stdout",
     "output_type": "stream",
     "text": [
      "(D)DOS          321637\n",
      "Port Scan        90694\n",
      "Brute Force       9150\n",
      "Web Attack        2143\n",
      "Botnet            1948\n",
      "Infiltration        36\n",
      "Heartbleed          11\n",
      "Name: Label, dtype: int64\n",
      "Attack type:    #Original:     #Sampled:      #Train:       #Test:\n",
      "      (D)DOS        321637          1948         1363          585\n",
      "      Botnet          1948          1948         1363          585\n",
      " Brute Force          9150          1948         1363          585\n",
      "  Heartbleed            11            11            0           11\n",
      "Infiltration            36            36            0           36\n",
      "   Port Scan         90694          1948         1363          585\n",
      "  Web Attack          2143          1948         1363          585\n"
     ]
    }
   ],
   "source": [
    "clean_dir = \"/project/data/cicids2017/clean/\"\n",
    "x_binary_train, y_binary_train, x_binary_val, y_binary_val, x_binary_test, y_binary_test, x_multi_train, y_multi_train, x_multi_test, y_multi_test = util.load_data(clean_dir, sample_size=1948, val_size=129485)"
   ]
  },
  {
   "cell_type": "code",
   "execution_count": 114,
   "id": "bb33eb9f",
   "metadata": {},
   "outputs": [
    {
     "data": {
      "text/plain": [
       "(array([1.]), array([100000]))"
      ]
     },
     "execution_count": 114,
     "metadata": {},
     "output_type": "execute_result"
    }
   ],
   "source": [
    "np.unique(y_binary_train, return_counts=True)"
   ]
  },
  {
   "cell_type": "code",
   "execution_count": 120,
   "id": "92af113e",
   "metadata": {},
   "outputs": [
    {
     "data": {
      "text/plain": [
       "(array([-1.,  1.]), array([  6815, 129485]))"
      ]
     },
     "execution_count": 120,
     "metadata": {},
     "output_type": "execute_result"
    }
   ],
   "source": [
    "np.unique(y_binary_val, return_counts=True)"
   ]
  },
  {
   "cell_type": "code",
   "execution_count": 108,
   "id": "d604c47a",
   "metadata": {},
   "outputs": [
    {
     "data": {
      "text/plain": [
       "(array([-1.,  1.]), array([ 2972, 30000]))"
      ]
     },
     "execution_count": 108,
     "metadata": {},
     "output_type": "execute_result"
    }
   ],
   "source": [
    "np.unique(y_binary_test, return_counts=True)"
   ]
  },
  {
   "cell_type": "markdown",
   "id": "15d1e2b9",
   "metadata": {},
   "source": [
    "## Normalise data"
   ]
  },
  {
   "cell_type": "code",
   "execution_count": 121,
   "id": "c686132a",
   "metadata": {},
   "outputs": [],
   "source": [
    "from sklearn.preprocessing import QuantileTransformer\n",
    "\n",
    "binary_scaler = QuantileTransformer(output_distribution='normal')\n",
    "x_binary_train_s = binary_scaler.fit_transform(x_binary_train)\n",
    "x_binary_val_s = binary_scaler.transform(x_binary_val)\n",
    "x_binary_test_s = binary_scaler.transform(x_binary_test)"
   ]
  },
  {
   "cell_type": "code",
   "execution_count": 33,
   "id": "f9fb57aa",
   "metadata": {},
   "outputs": [],
   "source": [
    "# from sklearn.preprocessing import MinMaxScaler\n",
    "\n",
    "# binary_scaler = MinMaxScaler(feature_range=(0, 1), copy=True)\n",
    "# x_binary_train_s = binary_scaler.fit_transform(x_binary_train)\n",
    "# x_binary_val_s = binary_scaler.transform(x_binary_val)\n",
    "# x_binary_test_s = binary_scaler.transform(x_binary_test)"
   ]
  },
  {
   "cell_type": "markdown",
   "id": "7967d0db",
   "metadata": {},
   "source": [
    "# Train Model"
   ]
  },
  {
   "cell_type": "code",
   "execution_count": 110,
   "id": "c3c7e94c",
   "metadata": {},
   "outputs": [],
   "source": [
    "from keras.models import Model\n",
    "from keras.layers import Dense, Input\n",
    "from keras.regularizers import l2\n",
    "\n",
    "def create_model(params):\n",
    "    input_layer = Input(shape=(params[\"input_dimension\"],))\n",
    "    model = input_layer\n",
    "    \n",
    "    # Encoder\n",
    "    for n in params[\"n_neurons\"]:\n",
    "        model = Dense(n, activation=params['hidden_activation'], activity_regularizer=l2(params[\"l2_reg\"]))(model)\n",
    "\n",
    "    # Decoder - Do not repeat encoded layer\n",
    "    for n in reversed(params[\"n_neurons\"][:-1]):\n",
    "        model = Dense(n, activation=params['hidden_activation'], activity_regularizer=l2(params[\"l2_reg\"]))(model)\n",
    "\n",
    "    # Output Layer\n",
    "    model = Dense(params[\"input_dimension\"], activation=params['output_activation'], activity_regularizer=l2(params[\"l2_reg\"]))(model)\n",
    "    autoencoder = Model(inputs=input_layer, outputs=model)\n",
    "    autoencoder.compile(optimizer=params['optimizer'], loss=params['loss'])\n",
    "    return autoencoder"
   ]
  },
  {
   "cell_type": "code",
   "execution_count": 10,
   "id": "e6574813",
   "metadata": {},
   "outputs": [],
   "source": [
    "params = {\n",
    "#     \"scaler\": \"quantile\", # \"minmax\"\n",
    "    \"output_activation\": \"linear\", # \"sigmoid\",\n",
    "    \"hidden_activation\": \"relu\",\n",
    "    \"optimizer\": \"adam\",\n",
    "    \"loss\": \"mean_squared_error\",\n",
    "    \"input_dimension\": 67,\n",
    "    \"n_layers\": 3,\n",
    "    \"n_neurons\": [63, 61, 58],\n",
    "    \"l2_reg\": 1.120192e-06\n",
    "}"
   ]
  },
  {
   "cell_type": "code",
   "execution_count": 13,
   "id": "2f31b265",
   "metadata": {},
   "outputs": [
    {
     "name": "stdout",
     "output_type": "stream",
     "text": [
      "Epoch 1/7\n",
      "3125/3125 [==============================] - 6s 2ms/step - loss: 0.8637\n",
      "Epoch 2/7\n",
      "3125/3125 [==============================] - 5s 2ms/step - loss: 0.0505\n",
      "Epoch 3/7\n",
      "3125/3125 [==============================] - 5s 2ms/step - loss: 0.0339\n",
      "Epoch 4/7\n",
      "3125/3125 [==============================] - 5s 2ms/step - loss: 0.0266\n",
      "Epoch 5/7\n",
      "3125/3125 [==============================] - 5s 2ms/step - loss: 0.0220\n",
      "Epoch 6/7\n",
      "3125/3125 [==============================] - 5s 2ms/step - loss: 0.0194\n",
      "Epoch 7/7\n",
      "3125/3125 [==============================] - 5s 2ms/step - loss: 0.0177\n"
     ]
    },
    {
     "name": "stderr",
     "output_type": "stream",
     "text": [
      "/project/Two-Stage/util/common.py:99: RuntimeWarning: invalid value encountered in true_divide\n",
      "  results[\"f1\"] = 2*precision*recall/(precision+recall)\n",
      "/project/Two-Stage/util/common.py:100: RuntimeWarning: invalid value encountered in true_divide\n",
      "  results[\"f2\"] = 5*precision*recall/(4*precision+recall)\n"
     ]
    },
    {
     "data": {
      "text/plain": [
       "f1                   precision    0.318512\n",
       "                     recall       0.566544\n",
       "                     f1           0.407773\n",
       "                     f2           0.490199\n",
       "f2                   precision    0.314761\n",
       "                     recall       0.571974\n",
       "                     f1           0.406063\n",
       "                     f2           0.491625\n",
       "f1threshold                       1.711022\n",
       "f2threshold                       1.674318\n",
       "au_precision_recall               0.240969\n",
       "auroc                             0.812038\n",
       "dtype: float64"
      ]
     },
     "execution_count": 13,
     "metadata": {},
     "output_type": "execute_result"
    }
   ],
   "source": [
    "autoencoder = create_model(params)\n",
    "history = autoencoder.fit(\n",
    "    x_binary_train_s,\n",
    "    x_binary_train_s,\n",
    "    epochs=7, \n",
    "    shuffle=True,\n",
    "    verbose=1\n",
    ")\n",
    "# trial.set_user_attr('epochs', len(history.history['loss']))\n",
    "# trial.set_user_attr('losses', history.history['loss'])\n",
    "x_val_autoencoder = autoencoder.predict(x_binary_val_s)\n",
    "val_score = util.anomaly_scores(x_binary_val_s, x_val_autoencoder)\n",
    "val_metrics = util.evaluate_results(y_binary_val, val_score)\n",
    "val_metrics"
   ]
  },
  {
   "cell_type": "code",
   "execution_count": 14,
   "id": "41ef9804",
   "metadata": {},
   "outputs": [
    {
     "name": "stdout",
     "output_type": "stream",
     "text": [
      "Model: \"model_1\"\n",
      "_________________________________________________________________\n",
      "Layer (type)                 Output Shape              Param #   \n",
      "=================================================================\n",
      "input_2 (InputLayer)         [(None, 67)]              0         \n",
      "_________________________________________________________________\n",
      "dense_6 (Dense)              (None, 63)                4284      \n",
      "_________________________________________________________________\n",
      "dense_7 (Dense)              (None, 61)                3904      \n",
      "_________________________________________________________________\n",
      "dense_8 (Dense)              (None, 58)                3596      \n",
      "_________________________________________________________________\n",
      "dense_9 (Dense)              (None, 61)                3599      \n",
      "_________________________________________________________________\n",
      "dense_10 (Dense)             (None, 63)                3906      \n",
      "_________________________________________________________________\n",
      "dense_11 (Dense)             (None, 67)                4288      \n",
      "=================================================================\n",
      "Total params: 23,577\n",
      "Trainable params: 23,577\n",
      "Non-trainable params: 0\n",
      "_________________________________________________________________\n"
     ]
    }
   ],
   "source": [
    "autoencoder.summary()"
   ]
  },
  {
   "cell_type": "code",
   "execution_count": 168,
   "id": "bc937745",
   "metadata": {},
   "outputs": [],
   "source": [
    "from tensorflow import keras\n",
    "from sklearn.metrics import f1_score, make_scorer, precision_score, recall_score, average_precision_score, roc_auc_score, precision_recall_curve, auc, roc_curve\n",
    "import matplotlib.pyplot as plt\n",
    "\n",
    "def test_saved_model(path, x, y, min_recall=0.10):\n",
    "    model = keras.models.load_model(path)\n",
    "    print(model.summary())\n",
    "    x_predict = model.predict(x)\n",
    "    score = util.anomaly_scores(x, x_predict)\n",
    "    metrics = util.evaluate_results(y, score)\n",
    "    print(metrics)\n",
    "    precision, recall, threshold = precision_recall_curve(y, score, pos_label=-1)\n",
    "    results = pd.DataFrame({'precision': precision, 'recall': recall, 'threshold': np.append(threshold, np.inf)})\n",
    "    best_index_fscore = {}\n",
    "    for i in range(1, 10):\n",
    "        results[f\"F{i}\"] = (1+i**2)*precision*recall/(i**2*precision+recall)\n",
    "        best_index_fscore[f\"F{i}\"] = results[f\"F{i}\"].idxmax()\n",
    "#         results[\"f1\"] = 2*precision*recall/(precision+recall)\n",
    "#         results[\"f2\"] = 5*precision*recall/(4*precision+recall)\n",
    "#         max_index_f1 = results[\"f1\"].idxmax()\n",
    "#         max_index_f2 = results[\"f2\"].idxmax()\n",
    "    \n",
    "    length = sum(recall > min_recall)\n",
    "    plt.plot(threshold[:length], results['precision'][:length], label=\"precision\", color=\"silver\")\n",
    "    plt.plot(threshold[:length], results['recall'][:length], label=\"recall\", color=\"black\")\n",
    "    colors = [\"tab:blue\", \"tab:orange\", \"tab:green\", \"tab:red\", \"tab:purple\", \"tab:brown\", \"tab:pink\", \"tab:gray\", \"tab:olive\", \"tab:cyan\"]\n",
    "    fscores = []\n",
    "    for i in range(1, 10):\n",
    "        best_index = best_index_fscore[f'F{i}']\n",
    "        fscores.append({\n",
    "            \"metric\": f\"F{i}\", \n",
    "            \"value\": str(round(results[f'F{i}'][best_index], 4)), \n",
    "            \"threshold\": threshold[best_index],\n",
    "            \"precision\": str(round(results[\"precision\"][best_index], 4)),\n",
    "            \"recall\": str(round(results[\"recall\"][best_index], 4)),\n",
    "            \"BNG next stage\": (score[(y == 1)] >= threshold[best_index]).sum() / (y == 1).sum()\n",
    "        })\n",
    "        plt.plot(threshold[:length], results[f\"F{i}\"][:length], label=f\"F{i}: {fscores[-1]['value']}\", color=colors[i-1])\n",
    "        plt.plot(float(fscores[-1][\"threshold\"]), float(fscores[-1][\"value\"]), marker=\"X\", color=colors[i-1])\n",
    "#         plt.annotate(f\"F{i}: {str(round(results[f'f{i}'][best_index_fscore[f'f{i}']], 2))}\", (threshold[best_index_fscore[f\"f{i}\"]], results[f\"f{i}\"][best_index_fscore[f\"f{i}\"]]))\n",
    "#     plt.plot(threshold[:length], results['f2'][:length], label=\"F2\")\n",
    "#     plt.plot(threshold[max_index_f2], results[\"f2\"][max_index_f2], marker=\"X\", color=\"#2ca02c\")\n",
    "#     plt.plot(threshold[:length], results['f1'][:length], label=\"F1\")\n",
    "#     plt.plot(threshold[max_index_f1], results[\"f1\"][max_index_f1], marker=\"X\", color=\"#d62728\")\n",
    "#     plt.annotate(f\"F1: {str(round(results['f1'][max_index_f1], 2))}\", (threshold[max_index_f1], results[\"f1\"][max_index_f1]))\n",
    "#     plt.annotate(f\"F2: {str(round(results['f2'][max_index_f2], 2))}\", (threshold[max_index_f2], results[\"f2\"][max_index_f2]))\n",
    "    plt.xlabel(r\"threshold ($\\tau_B$)\")\n",
    "    plt.ylabel(\"score\")\n",
    "    plt.legend()\n",
    "    print(pd.DataFrame(fscores))\n",
    "    return score, pd.DataFrame(fscores), results"
   ]
  },
  {
   "cell_type": "code",
   "execution_count": 238,
   "id": "f5b69c39-b741-41eb-a866-a85580c6737c",
   "metadata": {},
   "outputs": [
    {
     "data": {
      "image/png": "[encoded data removed]",
      "text/plain": [
       "<Figure size 720x432 with 1 Axes>"
      ]
     },
     "metadata": {
      "needs_background": "light"
     },
     "output_type": "display_data"
    }
   ],
   "source": [
    "fig = util.plot_fscores(test2, test1, show_thresholds=False)"
   ]
  },
  {
   "cell_type": "code",
   "execution_count": 241,
   "id": "2f8ab4e9-cad1-4501-9651-c6c0dc5bb290",
   "metadata": {},
   "outputs": [
    {
     "name": "stdout",
     "output_type": "stream",
     "text": [
      "F1 0.3884\n",
      "F2 0.5455\n",
      "F3 0.6667\n",
      "F4 0.7445\n",
      "F5 0.798\n",
      "F6 0.8454\n",
      "F7 0.8774\n",
      "F8 0.9006\n",
      "F9 0.9187\n"
     ]
    }
   ],
   "source": [
    "for index, row in test1.iterrows():\n",
    "    print(row['metric'], row['value'])"
   ]
  },
  {
   "cell_type": "code",
   "execution_count": 171,
   "id": "b007f3d7-d116-4d2a-87cb-63e9552ce57b",
   "metadata": {},
   "outputs": [
    {
     "data": {
      "text/html": [
       "<div>\n",
       "<style scoped>\n",
       "    .dataframe tbody tr th:only-of-type {\n",
       "        vertical-align: middle;\n",
       "    }\n",
       "\n",
       "    .dataframe tbody tr th {\n",
       "        vertical-align: top;\n",
       "    }\n",
       "\n",
       "    .dataframe thead th {\n",
       "        text-align: right;\n",
       "    }\n",
       "</style>\n",
       "<table border=\"1\" class=\"dataframe\">\n",
       "  <thead>\n",
       "    <tr style=\"text-align: right;\">\n",
       "      <th></th>\n",
       "      <th>precision</th>\n",
       "      <th>recall</th>\n",
       "      <th>threshold</th>\n",
       "      <th>F1</th>\n",
       "      <th>F2</th>\n",
       "      <th>F3</th>\n",
       "      <th>F4</th>\n",
       "      <th>F5</th>\n",
       "      <th>F6</th>\n",
       "      <th>F7</th>\n",
       "      <th>F8</th>\n",
       "      <th>F9</th>\n",
       "    </tr>\n",
       "  </thead>\n",
       "  <tbody>\n",
       "    <tr>\n",
       "      <th>0</th>\n",
       "      <td>0.078677</td>\n",
       "      <td>1.000000</td>\n",
       "      <td>7.055987</td>\n",
       "      <td>0.145877</td>\n",
       "      <td>0.299218</td>\n",
       "      <td>0.460613</td>\n",
       "      <td>0.592124</td>\n",
       "      <td>0.689469</td>\n",
       "      <td>0.759595</td>\n",
       "      <td>0.810239</td>\n",
       "      <td>0.847345</td>\n",
       "      <td>0.875038</td>\n",
       "    </tr>\n",
       "    <tr>\n",
       "      <th>1</th>\n",
       "      <td>0.078666</td>\n",
       "      <td>0.999853</td>\n",
       "      <td>7.056030</td>\n",
       "      <td>0.145857</td>\n",
       "      <td>0.299177</td>\n",
       "      <td>0.460549</td>\n",
       "      <td>0.592040</td>\n",
       "      <td>0.689370</td>\n",
       "      <td>0.759485</td>\n",
       "      <td>0.810122</td>\n",
       "      <td>0.847222</td>\n",
       "      <td>0.874911</td>\n",
       "    </tr>\n",
       "    <tr>\n",
       "      <th>2</th>\n",
       "      <td>0.078667</td>\n",
       "      <td>0.999853</td>\n",
       "      <td>7.056065</td>\n",
       "      <td>0.145859</td>\n",
       "      <td>0.299180</td>\n",
       "      <td>0.460552</td>\n",
       "      <td>0.592043</td>\n",
       "      <td>0.689373</td>\n",
       "      <td>0.759488</td>\n",
       "      <td>0.810124</td>\n",
       "      <td>0.847224</td>\n",
       "      <td>0.874913</td>\n",
       "    </tr>\n",
       "    <tr>\n",
       "      <th>3</th>\n",
       "      <td>0.078668</td>\n",
       "      <td>0.999853</td>\n",
       "      <td>7.056083</td>\n",
       "      <td>0.145860</td>\n",
       "      <td>0.299182</td>\n",
       "      <td>0.460555</td>\n",
       "      <td>0.592046</td>\n",
       "      <td>0.689376</td>\n",
       "      <td>0.759490</td>\n",
       "      <td>0.810126</td>\n",
       "      <td>0.847225</td>\n",
       "      <td>0.874914</td>\n",
       "    </tr>\n",
       "    <tr>\n",
       "      <th>4</th>\n",
       "      <td>0.078669</td>\n",
       "      <td>0.999853</td>\n",
       "      <td>7.056282</td>\n",
       "      <td>0.145862</td>\n",
       "      <td>0.299185</td>\n",
       "      <td>0.460558</td>\n",
       "      <td>0.592049</td>\n",
       "      <td>0.689378</td>\n",
       "      <td>0.759492</td>\n",
       "      <td>0.810128</td>\n",
       "      <td>0.847227</td>\n",
       "      <td>0.874915</td>\n",
       "    </tr>\n",
       "    <tr>\n",
       "      <th>...</th>\n",
       "      <td>...</td>\n",
       "      <td>...</td>\n",
       "      <td>...</td>\n",
       "      <td>...</td>\n",
       "      <td>...</td>\n",
       "      <td>...</td>\n",
       "      <td>...</td>\n",
       "      <td>...</td>\n",
       "      <td>...</td>\n",
       "      <td>...</td>\n",
       "      <td>...</td>\n",
       "      <td>...</td>\n",
       "    </tr>\n",
       "    <tr>\n",
       "      <th>81396</th>\n",
       "      <td>0.000000</td>\n",
       "      <td>0.000000</td>\n",
       "      <td>322.864937</td>\n",
       "      <td>NaN</td>\n",
       "      <td>NaN</td>\n",
       "      <td>NaN</td>\n",
       "      <td>NaN</td>\n",
       "      <td>NaN</td>\n",
       "      <td>NaN</td>\n",
       "      <td>NaN</td>\n",
       "      <td>NaN</td>\n",
       "      <td>NaN</td>\n",
       "    </tr>\n",
       "    <tr>\n",
       "      <th>81397</th>\n",
       "      <td>0.000000</td>\n",
       "      <td>0.000000</td>\n",
       "      <td>379.758138</td>\n",
       "      <td>NaN</td>\n",
       "      <td>NaN</td>\n",
       "      <td>NaN</td>\n",
       "      <td>NaN</td>\n",
       "      <td>NaN</td>\n",
       "      <td>NaN</td>\n",
       "      <td>NaN</td>\n",
       "      <td>NaN</td>\n",
       "      <td>NaN</td>\n",
       "    </tr>\n",
       "    <tr>\n",
       "      <th>81398</th>\n",
       "      <td>0.000000</td>\n",
       "      <td>0.000000</td>\n",
       "      <td>471.154483</td>\n",
       "      <td>NaN</td>\n",
       "      <td>NaN</td>\n",
       "      <td>NaN</td>\n",
       "      <td>NaN</td>\n",
       "      <td>NaN</td>\n",
       "      <td>NaN</td>\n",
       "      <td>NaN</td>\n",
       "      <td>NaN</td>\n",
       "      <td>NaN</td>\n",
       "    </tr>\n",
       "    <tr>\n",
       "      <th>81399</th>\n",
       "      <td>0.000000</td>\n",
       "      <td>0.000000</td>\n",
       "      <td>566.963790</td>\n",
       "      <td>NaN</td>\n",
       "      <td>NaN</td>\n",
       "      <td>NaN</td>\n",
       "      <td>NaN</td>\n",
       "      <td>NaN</td>\n",
       "      <td>NaN</td>\n",
       "      <td>NaN</td>\n",
       "      <td>NaN</td>\n",
       "      <td>NaN</td>\n",
       "    </tr>\n",
       "    <tr>\n",
       "      <th>81400</th>\n",
       "      <td>1.000000</td>\n",
       "      <td>0.000000</td>\n",
       "      <td>inf</td>\n",
       "      <td>0.000000</td>\n",
       "      <td>0.000000</td>\n",
       "      <td>0.000000</td>\n",
       "      <td>0.000000</td>\n",
       "      <td>0.000000</td>\n",
       "      <td>0.000000</td>\n",
       "      <td>0.000000</td>\n",
       "      <td>0.000000</td>\n",
       "      <td>0.000000</td>\n",
       "    </tr>\n",
       "  </tbody>\n",
       "</table>\n",
       "<p>81401 rows × 12 columns</p>\n",
       "</div>"
      ],
      "text/plain": [
       "       precision    recall   threshold        F1        F2        F3  \\\n",
       "0       0.078677  1.000000    7.055987  0.145877  0.299218  0.460613   \n",
       "1       0.078666  0.999853    7.056030  0.145857  0.299177  0.460549   \n",
       "2       0.078667  0.999853    7.056065  0.145859  0.299180  0.460552   \n",
       "3       0.078668  0.999853    7.056083  0.145860  0.299182  0.460555   \n",
       "4       0.078669  0.999853    7.056282  0.145862  0.299185  0.460558   \n",
       "...          ...       ...         ...       ...       ...       ...   \n",
       "81396   0.000000  0.000000  322.864937       NaN       NaN       NaN   \n",
       "81397   0.000000  0.000000  379.758138       NaN       NaN       NaN   \n",
       "81398   0.000000  0.000000  471.154483       NaN       NaN       NaN   \n",
       "81399   0.000000  0.000000  566.963790       NaN       NaN       NaN   \n",
       "81400   1.000000  0.000000         inf  0.000000  0.000000  0.000000   \n",
       "\n",
       "             F4        F5        F6        F7        F8        F9  \n",
       "0      0.592124  0.689469  0.759595  0.810239  0.847345  0.875038  \n",
       "1      0.592040  0.689370  0.759485  0.810122  0.847222  0.874911  \n",
       "2      0.592043  0.689373  0.759488  0.810124  0.847224  0.874913  \n",
       "3      0.592046  0.689376  0.759490  0.810126  0.847225  0.874914  \n",
       "4      0.592049  0.689378  0.759492  0.810128  0.847227  0.874915  \n",
       "...         ...       ...       ...       ...       ...       ...  \n",
       "81396       NaN       NaN       NaN       NaN       NaN       NaN  \n",
       "81397       NaN       NaN       NaN       NaN       NaN       NaN  \n",
       "81398       NaN       NaN       NaN       NaN       NaN       NaN  \n",
       "81399       NaN       NaN       NaN       NaN       NaN       NaN  \n",
       "81400  0.000000  0.000000  0.000000  0.000000  0.000000  0.000000  \n",
       "\n",
       "[81401 rows x 12 columns]"
      ]
     },
     "execution_count": 171,
     "metadata": {},
     "output_type": "execute_result"
    }
   ],
   "source": [
    "test2"
   ]
  },
  {
   "cell_type": "code",
   "execution_count": 169,
   "id": "83d4d229-9ee4-4560-a3f7-b7c30335d116",
   "metadata": {},
   "outputs": [
    {
     "name": "stdout",
     "output_type": "stream",
     "text": [
      "Model: \"model_305\"\n",
      "_________________________________________________________________\n",
      "Layer (type)                 Output Shape              Param #   \n",
      "=================================================================\n",
      "input_306 (InputLayer)       [(None, 67)]              0         \n",
      "_________________________________________________________________\n",
      "dense_1322 (Dense)           (None, 66)                4488      \n",
      "_________________________________________________________________\n",
      "dense_1323 (Dense)           (None, 63)                4221      \n",
      "_________________________________________________________________\n",
      "dense_1324 (Dense)           (None, 66)                4224      \n",
      "_________________________________________________________________\n",
      "dense_1325 (Dense)           (None, 67)                4489      \n",
      "=================================================================\n",
      "Total params: 17,422\n",
      "Trainable params: 17,422\n",
      "Non-trainable params: 0\n",
      "_________________________________________________________________\n",
      "None\n"
     ]
    },
    {
     "name": "stderr",
     "output_type": "stream",
     "text": [
      "/project/Two-Stage/util/common.py:109: RuntimeWarning: invalid value encountered in true_divide\n",
      "  return best\n",
      "/project/Two-Stage/util/common.py:110: RuntimeWarning: invalid value encountered in true_divide\n",
      "  \n",
      "<ipython-input-168-4e544f0e8ac9>:16: RuntimeWarning: invalid value encountered in true_divide\n",
      "  results[f\"F{i}\"] = (1+i**2)*precision*recall/(i**2*precision+recall)\n"
     ]
    },
    {
     "name": "stdout",
     "output_type": "stream",
     "text": [
      "f1                   precision     0.406777\n",
      "                     recall        0.371680\n",
      "                     f1            0.388437\n",
      "                     f2            0.378206\n",
      "f2                   precision     0.239591\n",
      "                     recall        0.801321\n",
      "                     f1            0.368887\n",
      "                     f2            0.545522\n",
      "f1threshold                       37.285768\n",
      "f2threshold                       16.140622\n",
      "au_precision_recall                0.267528\n",
      "auroc                              0.907343\n",
      "dtype: float64\n",
      "  metric   value  threshold precision  recall  BNG next stage\n",
      "0     F1  0.3884  37.285768    0.4068  0.3717        0.028528\n",
      "1     F2  0.5455  16.140622    0.2396  0.8013        0.133853\n",
      "2     F3  0.6667  13.750668    0.2029  0.8936        0.184755\n",
      "3     F4  0.7445  13.750668    0.2029  0.8936        0.184755\n",
      "4     F5   0.798  11.087596    0.1398  0.9833        0.318531\n",
      "5     F6  0.8454  11.087596    0.1398  0.9833        0.318531\n",
      "6     F7  0.8774  11.087596    0.1398  0.9833        0.318531\n",
      "7     F8  0.9006  10.382783    0.1273   0.995        0.359053\n",
      "8     F9  0.9187  10.369851    0.1271  0.9952        0.359663\n"
     ]
    },
    {
     "data": {
      "image/png": "[encoded data removed]",
      "text/plain": [
       "<Figure size 432x288 with 1 Axes>"
      ]
     },
     "metadata": {
      "needs_background": "light"
     },
     "output_type": "display_data"
    }
   ],
   "source": [
    "study_name = \"TWOS-37\"\n",
    "trial_number = 1223\n",
    "path = f'results/binary/autoencoder/{study_name}/models/model_{trial_number}.h5'\n",
    "y_proba, test1, test2 = test_saved_model(path, x_binary_val_s, y_binary_val, min_recall=0.4)"
   ]
  },
  {
   "cell_type": "code",
   "execution_count": 101,
   "id": "0c7b0917",
   "metadata": {},
   "outputs": [
    {
     "name": "stdout",
     "output_type": "stream",
     "text": [
      "Model: \"model_305\"\n",
      "_________________________________________________________________\n",
      "Layer (type)                 Output Shape              Param #   \n",
      "=================================================================\n",
      "input_306 (InputLayer)       [(None, 67)]              0         \n",
      "_________________________________________________________________\n",
      "dense_1322 (Dense)           (None, 66)                4488      \n",
      "_________________________________________________________________\n",
      "dense_1323 (Dense)           (None, 63)                4221      \n",
      "_________________________________________________________________\n",
      "dense_1324 (Dense)           (None, 66)                4224      \n",
      "_________________________________________________________________\n",
      "dense_1325 (Dense)           (None, 67)                4489      \n",
      "=================================================================\n",
      "Total params: 17,422\n",
      "Trainable params: 17,422\n",
      "Non-trainable params: 0\n",
      "_________________________________________________________________\n",
      "None\n"
     ]
    },
    {
     "name": "stderr",
     "output_type": "stream",
     "text": [
      "/project/Two-Stage/util/common.py:99: RuntimeWarning: invalid value encountered in true_divide\n",
      "  results[\"f1\"] = 2*precision*recall/(precision+recall)\n",
      "/project/Two-Stage/util/common.py:100: RuntimeWarning: invalid value encountered in true_divide\n",
      "  results[\"f2\"] = 5*precision*recall/(4*precision+recall)\n",
      "<ipython-input-100-e2ed339d3308>:16: RuntimeWarning: invalid value encountered in true_divide\n",
      "  results[f\"f{i}\"] = (1+i**2)*precision*recall/(i**2*precision+recall)\n"
     ]
    },
    {
     "name": "stdout",
     "output_type": "stream",
     "text": [
      "f1                   precision     0.301306\n",
      "                     recall        0.758327\n",
      "                     f1            0.431260\n",
      "                     f2            0.581825\n",
      "f2                   precision     0.289229\n",
      "                     recall        0.802201\n",
      "                     f1            0.425166\n",
      "                     f2            0.592154\n",
      "f1threshold                       17.202333\n",
      "f2threshold                       16.121394\n",
      "au_precision_recall                0.318724\n",
      "auroc                              0.907273\n",
      "dtype: float64\n",
      "  metric   value  threshold precision  recall  BNG next stage\n",
      "0     F1  0.4313  17.202333    0.3013  0.7583         0.11984\n",
      "1     F2  0.5922  16.121394    0.2892  0.8022         0.13435\n",
      "2     F3  0.7088  13.750668    0.2477  0.8936         0.18495\n",
      "3     F4   0.775  13.676030    0.2459  0.8954         0.18715\n",
      "4     F5  0.8343  11.087596    0.1743  0.9833         0.31744\n",
      "5     F6  0.8737  11.087596    0.1743  0.9833         0.31744\n",
      "6     F7  0.9005  10.382783    0.1592   0.995         0.35802\n",
      "7     F8  0.9207  10.369851     0.159  0.9952         0.35867\n",
      "8     F9  0.9352  10.369851     0.159  0.9952         0.35867\n"
     ]
    },
    {
     "data": {
      "image/png": "[encoded data removed]",
      "text/plain": [
       "<Figure size 432x288 with 1 Axes>"
      ]
     },
     "metadata": {
      "needs_background": "light"
     },
     "output_type": "display_data"
    }
   ],
   "source": [
    "study_name = \"TWOS-37\"\n",
    "trial_number = 1223\n",
    "path = f'results/binary/autoencoder/{study_name}/models/model_{trial_number}.h5'\n",
    "y_proba = test_saved_model(path, x_binary_val_s, y_binary_val, min_recall=0.4)"
   ]
  },
  {
   "cell_type": "code",
   "execution_count": 103,
   "id": "17951de4-5012-4e83-a733-8d694f370cc9",
   "metadata": {},
   "outputs": [
    {
     "name": "stdout",
     "output_type": "stream",
     "text": [
      "Model: \"model_268\"\n",
      "_________________________________________________________________\n",
      "Layer (type)                 Output Shape              Param #   \n",
      "=================================================================\n",
      "input_269 (InputLayer)       [(None, 67)]              0         \n",
      "_________________________________________________________________\n",
      "dense_1130 (Dense)           (None, 59)                4012      \n",
      "_________________________________________________________________\n",
      "dense_1131 (Dense)           (None, 58)                3480      \n",
      "_________________________________________________________________\n",
      "dense_1132 (Dense)           (None, 59)                3481      \n",
      "_________________________________________________________________\n",
      "dense_1133 (Dense)           (None, 67)                4020      \n",
      "=================================================================\n",
      "Total params: 14,993\n",
      "Trainable params: 14,993\n",
      "Non-trainable params: 0\n",
      "_________________________________________________________________\n",
      "None\n"
     ]
    },
    {
     "name": "stderr",
     "output_type": "stream",
     "text": [
      "/project/Two-Stage/util/common.py:99: RuntimeWarning: invalid value encountered in true_divide\n",
      "  results[\"f1\"] = 2*precision*recall/(precision+recall)\n",
      "/project/Two-Stage/util/common.py:100: RuntimeWarning: invalid value encountered in true_divide\n",
      "  results[\"f2\"] = 5*precision*recall/(4*precision+recall)\n",
      "<ipython-input-100-e2ed339d3308>:16: RuntimeWarning: invalid value encountered in true_divide\n",
      "  results[f\"f{i}\"] = (1+i**2)*precision*recall/(i**2*precision+recall)\n"
     ]
    },
    {
     "name": "stdout",
     "output_type": "stream",
     "text": [
      "f1                   precision    0.511219\n",
      "                     recall       0.682025\n",
      "                     f1           0.584397\n",
      "                     f2           0.639305\n",
      "f2                   precision    0.432199\n",
      "                     recall       0.749230\n",
      "                     f1           0.548178\n",
      "                     f2           0.653376\n",
      "f1threshold                       1.155062\n",
      "f2threshold                       0.954571\n",
      "au_precision_recall               0.428301\n",
      "auroc                             0.882656\n",
      "dtype: float64\n",
      "  metric   value  threshold precision  recall  BNG next stage\n",
      "0     F1  0.5844   1.155062    0.5112   0.682         0.04444\n",
      "1     F2  0.6534   0.954571    0.4322  0.7492         0.06708\n",
      "2     F3   0.723   0.713679    0.3459  0.8226         0.10602\n",
      "3     F4   0.761   0.712783    0.3452  0.8229         0.10637\n",
      "4     F5  0.7813   0.712783    0.3452  0.8229         0.10637\n",
      "5     F6  0.8102   0.366995    0.1713  0.9039         0.29798\n",
      "6     F7  0.8328   0.365655    0.1705  0.9045         0.29997\n",
      "7     F8  0.8487   0.349347    0.1588  0.9105         0.32870\n",
      "8     F9  0.8608   0.347719    0.1578  0.9109         0.33129\n"
     ]
    },
    {
     "data": {
      "image/png": "[encoded data removed]",
      "text/plain": [
       "<Figure size 432x288 with 1 Axes>"
      ]
     },
     "metadata": {
      "needs_background": "light"
     },
     "output_type": "display_data"
    }
   ],
   "source": [
    "study_name = \"TWOS-37\"\n",
    "trial_number = 1104\n",
    "path = f'results/binary/autoencoder/{study_name}/models/model_{trial_number}.h5'\n",
    "y_proba = test_saved_model(path, x_binary_val_s, y_binary_val, min_recall=0.3)"
   ]
  },
  {
   "cell_type": "code",
   "execution_count": 63,
   "id": "f99b8f0a",
   "metadata": {},
   "outputs": [
    {
     "data": {
      "image/png": "[encoded data removed]",
      "text/plain": [
       "<Figure size 504x504 with 2 Axes>"
      ]
     },
     "metadata": {
      "needs_background": "light"
     },
     "output_type": "display_data"
    }
   ],
   "source": [
    "threshold = 11.5\n",
    "y_pred = np.where(y_proba > threshold, -1, 1)\n",
    "fig = util.plot_confusion_matrix(y_binary_val, y_pred, values=[1, -1], labels=[\"Benign\", \"Fraud\"])"
   ]
  },
  {
   "cell_type": "code",
   "execution_count": null,
   "id": "5ecd2ce8",
   "metadata": {},
   "outputs": [],
   "source": []
  },
  {
   "cell_type": "code",
   "execution_count": 38,
   "id": "a297ddae",
   "metadata": {},
   "outputs": [],
   "source": []
  },
  {
   "cell_type": "code",
   "execution_count": null,
   "id": "36f3737b",
   "metadata": {},
   "outputs": [],
   "source": []
  },
  {
   "cell_type": "code",
   "execution_count": 15,
   "id": "8d6dbd66",
   "metadata": {},
   "outputs": [
    {
     "data": {
      "text/plain": [
       "Project(verkerken/two-stage-binary)"
      ]
     },
     "execution_count": 15,
     "metadata": {},
     "output_type": "execute_result"
    }
   ],
   "source": [
    "import neptune\n",
    "neptune.init(project_qualified_name='verkerken/two-stage-binary', api_token='eyJhcGlfYWRkcmVzcyI6Imh0dHBzOi8vdWkubmVwdHVuZS5haSIsImFwaV91cmwiOiJodHRwczovL3VpLm5lcHR1bmUuYWkiLCJhcGlfa2V5IjoiMGJlYTgzNzEtM2U3YS00ODI5LWEzMzgtM2M0MjcyMDIxOWUwIn0=')"
   ]
  },
  {
   "cell_type": "code",
   "execution_count": 16,
   "id": "acf2e358",
   "metadata": {},
   "outputs": [
    {
     "name": "stdout",
     "output_type": "stream",
     "text": [
      "https://ui.neptune.ai/verkerken/two-stage-binary/e/TWOS-2\n"
     ]
    },
    {
     "data": {
      "text/plain": [
       "Experiment(TWOS-2)"
      ]
     },
     "execution_count": 16,
     "metadata": {},
     "output_type": "execute_result"
    }
   ],
   "source": [
    "neptune.create_experiment('hello-world-ae', tags=[\"autoencoder\", \"cicids2017\", \"binary\"])"
   ]
  },
  {
   "cell_type": "code",
   "execution_count": 18,
   "id": "44e7a67d",
   "metadata": {},
   "outputs": [
    {
     "data": {
      "text/plain": [
       "0.735831134262656"
      ]
     },
     "execution_count": 18,
     "metadata": {},
     "output_type": "execute_result"
    }
   ],
   "source": [
    "from sklearn.metrics import roc_auc_score\n",
    "\n",
    "roc_auc_score(-y_binary_val, val_score)"
   ]
  },
  {
   "cell_type": "code",
   "execution_count": 24,
   "id": "587e91a0",
   "metadata": {},
   "outputs": [
    {
     "data": {
      "text/plain": [
       "\"{'precision': 0.12859438430311232, 'recall': 0.8924431401320616, 'f1': 0.22479717617489975, 'threshold': 0.0027857437069087783, 'au_precision_recall': 0.21537287814713807, 'auroc': 0.7504856258253851}\""
      ]
     },
     "execution_count": 24,
     "metadata": {},
     "output_type": "execute_result"
    }
   ],
   "source": [
    "str(val_metrics.to_dict())"
   ]
  },
  {
   "cell_type": "code",
   "execution_count": 57,
   "id": "91aa8dfb",
   "metadata": {},
   "outputs": [],
   "source": [
    "import os\n"
   ]
  },
  {
   "cell_type": "code",
   "execution_count": 62,
   "id": "2eb6005d",
   "metadata": {},
   "outputs": [],
   "source": [
    "import pathlib\n",
    "pathlib.Path('results/binary/autoencoder/TWOS-3').mkdir(parents=True, exist_ok=True)"
   ]
  },
  {
   "cell_type": "code",
   "execution_count": 71,
   "id": "2306bf42",
   "metadata": {},
   "outputs": [
    {
     "name": "stderr",
     "output_type": "stream",
     "text": [
      "\u001b[32m[I 2021-03-02 00:08:38,990]\u001b[0m Using an existing study with name 'test' instead of creating a new one.\u001b[0m\n"
     ]
    }
   ],
   "source": [
    "import optuna\n",
    "study_storage = '/project/Two-Stage/results/binary/autoencoder.db'\n",
    "study = optuna.create_study(\n",
    "    study_name=\"test\", \n",
    "    direction='maximize', \n",
    "    storage=f'sqlite:///{study_storage}',\n",
    "    load_if_exists=True\n",
    ")"
   ]
  },
  {
   "cell_type": "code",
   "execution_count": 76,
   "id": "d7f8682a",
   "metadata": {},
   "outputs": [
    {
     "name": "stderr",
     "output_type": "stream",
     "text": [
      "/project/Two-Stage/util/common.py:97: RuntimeWarning: invalid value encountered in true_divide\n",
      "  results[\"f1\"] = 2*precision*recall/(precision+recall)\n",
      "/project/Two-Stage/util/common.py:98: RuntimeWarning: invalid value encountered in true_divide\n",
      "  max_index = results[\"f1\"].idxmax()\n"
     ]
    },
    {
     "data": {
      "text/plain": [
       "f1                   precision    0.128594\n",
       "                     recall       0.892443\n",
       "                     f1           0.224797\n",
       "                     f2           0.407881\n",
       "f2                   precision    0.128546\n",
       "                     recall       0.893617\n",
       "                     f1           0.224761\n",
       "                     f2           0.407980\n",
       "threshold                         0.002786\n",
       "au_precision_recall               0.215373\n",
       "auroc                             0.750486\n",
       "dtype: float64"
      ]
     },
     "execution_count": 76,
     "metadata": {},
     "output_type": "execute_result"
    }
   ],
   "source": [
    "val_metrics = util.evaluate_results(y_binary_val, val_score)\n",
    "val_metrics"
   ]
  },
  {
   "cell_type": "code",
   "execution_count": 81,
   "id": "0d99ace2",
   "metadata": {},
   "outputs": [
    {
     "data": {
      "text/plain": [
       "f1precision            0.128594\n",
       "f1recall               0.892443\n",
       "f1f1                   0.224797\n",
       "f1f2                   0.407881\n",
       "f2precision            0.128546\n",
       "f2recall               0.893617\n",
       "f2f1                   0.224761\n",
       "f2f2                   0.407980\n",
       "threshold              0.002786\n",
       "au_precision_recall    0.215373\n",
       "auroc                  0.750486\n",
       "dtype: float64"
      ]
     },
     "execution_count": 81,
     "metadata": {},
     "output_type": "execute_result"
    }
   ],
   "source": [
    "val_metrics.index = val_metrics.index.map(''.join)\n",
    "val_metrics"
   ]
  },
  {
   "cell_type": "code",
   "execution_count": 82,
   "id": "7f02f0f3",
   "metadata": {},
   "outputs": [
    {
     "data": {
      "text/plain": [
       "{'f1precision': 0.12859438430311232,\n",
       " 'f1recall': 0.8924431401320616,\n",
       " 'f1f1': 0.22479717617489975,\n",
       " 'f1f2': 0.4078813241053705,\n",
       " 'f2precision': 0.12854609929078015,\n",
       " 'f2recall': 0.8936170212765957,\n",
       " 'f2f1': 0.22476056909818976,\n",
       " 'f2f2': 0.40798006324025937,\n",
       " 'threshold': 0.0027857437069087783,\n",
       " 'au_precision_recall': 0.21537287814713807,\n",
       " 'auroc': 0.7504856258253851}"
      ]
     },
     "execution_count": 82,
     "metadata": {},
     "output_type": "execute_result"
    }
   ],
   "source": [
    "val_metrics.to_dict()"
   ]
  },
  {
   "cell_type": "code",
   "execution_count": 87,
   "id": "17f9c7e0",
   "metadata": {},
   "outputs": [
    {
     "name": "stdout",
     "output_type": "stream",
     "text": [
      "f1precision\n",
      "0.12859438430311232\n",
      "f1recall\n",
      "0.8924431401320616\n",
      "f1f1\n",
      "0.22479717617489975\n",
      "f1f2\n",
      "0.4078813241053705\n",
      "f2precision\n",
      "0.12854609929078015\n",
      "f2recall\n",
      "0.8936170212765957\n",
      "f2f1\n",
      "0.22476056909818976\n",
      "f2f2\n",
      "0.40798006324025937\n",
      "threshold\n",
      "0.0027857437069087783\n",
      "au_precision_recall\n",
      "0.21537287814713807\n",
      "auroc\n",
      "0.7504856258253851\n"
     ]
    }
   ],
   "source": [
    "for k,v in val_metrics.to_dict().items():\n",
    "    print(k)\n",
    "    print(v)"
   ]
  },
  {
   "cell_type": "code",
   "execution_count": 29,
   "id": "42638284",
   "metadata": {},
   "outputs": [],
   "source": [
    "def create_model(params):\n",
    "    input_layer = Input(shape=(params[\"input_dimension\"],))\n",
    "    model = input_layer\n",
    "    \n",
    "    # Encoder\n",
    "    for n in params[\"n_neurons\"]:\n",
    "        model = Dense(n, activation=params['hidden_activation'], activity_regularizer=l2(params[\"l2_reg\"]))(model)\n",
    "\n",
    "    # Decoder - Do not repeat encoded layer\n",
    "    for n in reversed(params[\"n_neurons\"][:-1]):\n",
    "        model = Dense(n, activation=params['hidden_activation'], activity_regularizer=l2(params[\"l2_reg\"]))(model)\n",
    "\n",
    "    # Output Layer\n",
    "    model = Dense(params[\"input_dimension\"], activation=params['output_activation'], activity_regularizer=l2(params[\"l2_reg\"]))(model)\n",
    "    autoencoder = Model(inputs=input_layer, outputs=model)\n",
    "    autoencoder.compile(optimizer=params['optimizer'], loss=params['loss'])\n",
    "    return autoencoder"
   ]
  },
  {
   "cell_type": "code",
   "execution_count": 26,
   "id": "f904b016",
   "metadata": {},
   "outputs": [],
   "source": [
    "params = {'scaler': 'quantile', 'output_activation': 'linear', 'hidden_activation': 'relu', 'optimizer': 'adam', 'loss': 'mean_squared_error', 'input_dimension': 67, 'n_layers': 1, 'n_neurons': [62, 27, 5], 'l2_reg': 1.6664447908824294e-10}"
   ]
  },
  {
   "cell_type": "code",
   "execution_count": 27,
   "id": "47854947",
   "metadata": {},
   "outputs": [],
   "source": [
    "m = create_model(params)"
   ]
  },
  {
   "cell_type": "code",
   "execution_count": 8,
   "id": "3ff3bf82",
   "metadata": {},
   "outputs": [],
   "source": [
    "from keras.models import Model\n",
    "from keras.layers import Dense, Input\n",
    "from keras.regularizers import l2"
   ]
  },
  {
   "cell_type": "code",
   "execution_count": 28,
   "id": "f2bd0b2f",
   "metadata": {},
   "outputs": [
    {
     "name": "stdout",
     "output_type": "stream",
     "text": [
      "Model: \"model_2\"\n",
      "_________________________________________________________________\n",
      "Layer (type)                 Output Shape              Param #   \n",
      "=================================================================\n",
      "input_5 (InputLayer)         [(None, 67)]              0         \n",
      "_________________________________________________________________\n",
      "dense_21 (Dense)             (None, 62)                4216      \n",
      "_________________________________________________________________\n",
      "dense_22 (Dense)             (None, 27)                1701      \n",
      "_________________________________________________________________\n",
      "dense_23 (Dense)             (None, 5)                 140       \n",
      "_________________________________________________________________\n",
      "dense_24 (Dense)             (None, 27)                162       \n",
      "_________________________________________________________________\n",
      "dense_25 (Dense)             (None, 62)                1736      \n",
      "_________________________________________________________________\n",
      "dense_26 (Dense)             (None, 67)                4221      \n",
      "=================================================================\n",
      "Total params: 12,176\n",
      "Trainable params: 12,176\n",
      "Non-trainable params: 0\n",
      "_________________________________________________________________\n"
     ]
    }
   ],
   "source": [
    "m.summary()"
   ]
  },
  {
   "cell_type": "markdown",
   "id": "43611269",
   "metadata": {},
   "source": [
    "# Log Final results to disk and neptune"
   ]
  },
  {
   "cell_type": "code",
   "execution_count": 1,
   "id": "9466091b",
   "metadata": {},
   "outputs": [],
   "source": [
    "import optuna"
   ]
  },
  {
   "cell_type": "code",
   "execution_count": 40,
   "id": "9775caba",
   "metadata": {},
   "outputs": [],
   "source": [
    "study_storage = 'results/binary/autoencoder_linear_cpu.db'\n",
    "# study_storage = 'results/binary/autoencoder_linear_gpu.db'\n",
    "# study_storage = 'results/binary/autoencoder_sigmoid.db'\n",
    "study_storage = 'results/binary/ocsvm.db'"
   ]
  },
  {
   "cell_type": "code",
   "execution_count": 42,
   "id": "6e96d0a4",
   "metadata": {},
   "outputs": [
    {
     "data": {
      "text/plain": [
       "['TWOS-47',\n",
       " 'TWOS-48',\n",
       " 'TWOS-49',\n",
       " 'TWOS-50',\n",
       " 'TWOS-51',\n",
       " 'TWOS-52',\n",
       " 'TWOS-53',\n",
       " 'TWOS-54',\n",
       " 'TWOS-55']"
      ]
     },
     "execution_count": 42,
     "metadata": {},
     "output_type": "execute_result"
    }
   ],
   "source": [
    "list(map(lambda s: s.study_name, optuna.study.get_all_study_summaries(storage=f\"sqlite:///{study_storage}\")))"
   ]
  },
  {
   "cell_type": "code",
   "execution_count": 45,
   "id": "ca45be58",
   "metadata": {},
   "outputs": [],
   "source": [
    "study_name = \"TWOS-55\"\n",
    "save_dir = f'results/binary/autoencoder/{study_name}'"
   ]
  },
  {
   "cell_type": "code",
   "execution_count": 46,
   "id": "090e9dbf",
   "metadata": {},
   "outputs": [
    {
     "data": {
      "text/html": [
       "<div>\n",
       "<style scoped>\n",
       "    .dataframe tbody tr th:only-of-type {\n",
       "        vertical-align: middle;\n",
       "    }\n",
       "\n",
       "    .dataframe tbody tr th {\n",
       "        vertical-align: top;\n",
       "    }\n",
       "\n",
       "    .dataframe thead th {\n",
       "        text-align: right;\n",
       "    }\n",
       "</style>\n",
       "<table border=\"1\" class=\"dataframe\">\n",
       "  <thead>\n",
       "    <tr style=\"text-align: right;\">\n",
       "      <th></th>\n",
       "      <th>number</th>\n",
       "      <th>value</th>\n",
       "      <th>datetime_start</th>\n",
       "      <th>datetime_complete</th>\n",
       "      <th>duration</th>\n",
       "      <th>params_gamma</th>\n",
       "      <th>params_n_comp</th>\n",
       "      <th>params_nu</th>\n",
       "      <th>params_scaler</th>\n",
       "      <th>user_attrs_au_precision_recall</th>\n",
       "      <th>...</th>\n",
       "      <th>user_attrs_f1f2</th>\n",
       "      <th>user_attrs_f1precision</th>\n",
       "      <th>user_attrs_f1recall</th>\n",
       "      <th>user_attrs_f1threshold</th>\n",
       "      <th>user_attrs_f2f1</th>\n",
       "      <th>user_attrs_f2f2</th>\n",
       "      <th>user_attrs_f2precision</th>\n",
       "      <th>user_attrs_f2recall</th>\n",
       "      <th>user_attrs_f2threshold</th>\n",
       "      <th>state</th>\n",
       "    </tr>\n",
       "  </thead>\n",
       "  <tbody>\n",
       "    <tr>\n",
       "      <th>1067</th>\n",
       "      <td>1067</td>\n",
       "      <td>0.885405</td>\n",
       "      <td>2021-03-04 15:46:29.951131</td>\n",
       "      <td>2021-03-04 15:46:45.883670</td>\n",
       "      <td>0 days 00:00:15.932539</td>\n",
       "      <td>0.061968</td>\n",
       "      <td>22.0</td>\n",
       "      <td>0.084535</td>\n",
       "      <td>quantile</td>\n",
       "      <td>0.327007</td>\n",
       "      <td>...</td>\n",
       "      <td>0.525975</td>\n",
       "      <td>0.340980</td>\n",
       "      <td>0.608511</td>\n",
       "      <td>0.085758</td>\n",
       "      <td>0.409380</td>\n",
       "      <td>0.553660</td>\n",
       "      <td>0.285417</td>\n",
       "      <td>0.723698</td>\n",
       "      <td>-0.003608</td>\n",
       "      <td>COMPLETE</td>\n",
       "    </tr>\n",
       "    <tr>\n",
       "      <th>828</th>\n",
       "      <td>828</td>\n",
       "      <td>0.884954</td>\n",
       "      <td>2021-03-04 15:25:56.776596</td>\n",
       "      <td>2021-03-04 15:26:10.968010</td>\n",
       "      <td>0 days 00:00:14.191414</td>\n",
       "      <td>0.063872</td>\n",
       "      <td>25.0</td>\n",
       "      <td>0.088535</td>\n",
       "      <td>quantile</td>\n",
       "      <td>0.326744</td>\n",
       "      <td>...</td>\n",
       "      <td>0.545055</td>\n",
       "      <td>0.346267</td>\n",
       "      <td>0.636390</td>\n",
       "      <td>0.100979</td>\n",
       "      <td>0.441390</td>\n",
       "      <td>0.552707</td>\n",
       "      <td>0.330463</td>\n",
       "      <td>0.664417</td>\n",
       "      <td>0.055183</td>\n",
       "      <td>COMPLETE</td>\n",
       "    </tr>\n",
       "    <tr>\n",
       "      <th>1666</th>\n",
       "      <td>1666</td>\n",
       "      <td>0.883250</td>\n",
       "      <td>2021-03-04 16:38:27.843841</td>\n",
       "      <td>2021-03-04 16:38:39.820689</td>\n",
       "      <td>0 days 00:00:11.976848</td>\n",
       "      <td>0.065431</td>\n",
       "      <td>26.0</td>\n",
       "      <td>0.076230</td>\n",
       "      <td>quantile</td>\n",
       "      <td>0.317972</td>\n",
       "      <td>...</td>\n",
       "      <td>0.537845</td>\n",
       "      <td>0.373155</td>\n",
       "      <td>0.604549</td>\n",
       "      <td>0.116185</td>\n",
       "      <td>0.453525</td>\n",
       "      <td>0.558835</td>\n",
       "      <td>0.345129</td>\n",
       "      <td>0.661189</td>\n",
       "      <td>0.045097</td>\n",
       "      <td>COMPLETE</td>\n",
       "    </tr>\n",
       "    <tr>\n",
       "      <th>1079</th>\n",
       "      <td>1079</td>\n",
       "      <td>0.882658</td>\n",
       "      <td>2021-03-04 15:47:23.818171</td>\n",
       "      <td>2021-03-04 15:47:37.811332</td>\n",
       "      <td>0 days 00:00:13.993161</td>\n",
       "      <td>0.050753</td>\n",
       "      <td>26.0</td>\n",
       "      <td>0.079925</td>\n",
       "      <td>quantile</td>\n",
       "      <td>0.321438</td>\n",
       "      <td>...</td>\n",
       "      <td>0.408571</td>\n",
       "      <td>0.438290</td>\n",
       "      <td>0.401761</td>\n",
       "      <td>0.666783</td>\n",
       "      <td>0.406865</td>\n",
       "      <td>0.543107</td>\n",
       "      <td>0.286910</td>\n",
       "      <td>0.699193</td>\n",
       "      <td>-0.003747</td>\n",
       "      <td>COMPLETE</td>\n",
       "    </tr>\n",
       "    <tr>\n",
       "      <th>1104</th>\n",
       "      <td>1104</td>\n",
       "      <td>0.882135</td>\n",
       "      <td>2021-03-04 15:49:11.975766</td>\n",
       "      <td>2021-03-04 15:49:22.706789</td>\n",
       "      <td>0 days 00:00:10.731023</td>\n",
       "      <td>0.057988</td>\n",
       "      <td>24.0</td>\n",
       "      <td>0.073578</td>\n",
       "      <td>quantile</td>\n",
       "      <td>0.316762</td>\n",
       "      <td>...</td>\n",
       "      <td>0.492283</td>\n",
       "      <td>0.353752</td>\n",
       "      <td>0.545708</td>\n",
       "      <td>0.099960</td>\n",
       "      <td>0.399862</td>\n",
       "      <td>0.530550</td>\n",
       "      <td>0.283481</td>\n",
       "      <td>0.678357</td>\n",
       "      <td>-0.003097</td>\n",
       "      <td>COMPLETE</td>\n",
       "    </tr>\n",
       "  </tbody>\n",
       "</table>\n",
       "<p>5 rows × 22 columns</p>\n",
       "</div>"
      ],
      "text/plain": [
       "      number     value             datetime_start          datetime_complete  \\\n",
       "1067    1067  0.885405 2021-03-04 15:46:29.951131 2021-03-04 15:46:45.883670   \n",
       "828      828  0.884954 2021-03-04 15:25:56.776596 2021-03-04 15:26:10.968010   \n",
       "1666    1666  0.883250 2021-03-04 16:38:27.843841 2021-03-04 16:38:39.820689   \n",
       "1079    1079  0.882658 2021-03-04 15:47:23.818171 2021-03-04 15:47:37.811332   \n",
       "1104    1104  0.882135 2021-03-04 15:49:11.975766 2021-03-04 15:49:22.706789   \n",
       "\n",
       "                   duration  params_gamma  params_n_comp  params_nu  \\\n",
       "1067 0 days 00:00:15.932539      0.061968           22.0   0.084535   \n",
       "828  0 days 00:00:14.191414      0.063872           25.0   0.088535   \n",
       "1666 0 days 00:00:11.976848      0.065431           26.0   0.076230   \n",
       "1079 0 days 00:00:13.993161      0.050753           26.0   0.079925   \n",
       "1104 0 days 00:00:10.731023      0.057988           24.0   0.073578   \n",
       "\n",
       "     params_scaler  user_attrs_au_precision_recall  ...  user_attrs_f1f2  \\\n",
       "1067      quantile                        0.327007  ...         0.525975   \n",
       "828       quantile                        0.326744  ...         0.545055   \n",
       "1666      quantile                        0.317972  ...         0.537845   \n",
       "1079      quantile                        0.321438  ...         0.408571   \n",
       "1104      quantile                        0.316762  ...         0.492283   \n",
       "\n",
       "      user_attrs_f1precision  user_attrs_f1recall  user_attrs_f1threshold  \\\n",
       "1067                0.340980             0.608511                0.085758   \n",
       "828                 0.346267             0.636390                0.100979   \n",
       "1666                0.373155             0.604549                0.116185   \n",
       "1079                0.438290             0.401761                0.666783   \n",
       "1104                0.353752             0.545708                0.099960   \n",
       "\n",
       "      user_attrs_f2f1  user_attrs_f2f2  user_attrs_f2precision  \\\n",
       "1067         0.409380         0.553660                0.285417   \n",
       "828          0.441390         0.552707                0.330463   \n",
       "1666         0.453525         0.558835                0.345129   \n",
       "1079         0.406865         0.543107                0.286910   \n",
       "1104         0.399862         0.530550                0.283481   \n",
       "\n",
       "      user_attrs_f2recall  user_attrs_f2threshold     state  \n",
       "1067             0.723698               -0.003608  COMPLETE  \n",
       "828              0.664417                0.055183  COMPLETE  \n",
       "1666             0.661189                0.045097  COMPLETE  \n",
       "1079             0.699193               -0.003747  COMPLETE  \n",
       "1104             0.678357               -0.003097  COMPLETE  \n",
       "\n",
       "[5 rows x 22 columns]"
      ]
     },
     "execution_count": 46,
     "metadata": {},
     "output_type": "execute_result"
    }
   ],
   "source": [
    "study = optuna.load_study(study_name=study_name, storage=f\"sqlite:///{study_storage}\")\n",
    "results = study.trials_dataframe()\n",
    "results.sort_values(by=['value'], inplace=True, ascending=False)\n",
    "# results.to_csv(f'{save_dir}/result.csv')\n",
    "results.head()"
   ]
  },
  {
   "cell_type": "code",
   "execution_count": 49,
   "id": "84f2bcb1",
   "metadata": {},
   "outputs": [
    {
     "data": {
      "text/plain": [
       "number                                                  1257\n",
       "value                                               0.870881\n",
       "datetime_start                    2021-03-04 16:01:09.214936\n",
       "datetime_complete                 2021-03-04 16:01:22.718675\n",
       "duration                              0 days 00:00:13.503739\n",
       "params_gamma                                        0.120176\n",
       "params_n_comp                                           19.0\n",
       "params_nu                                           0.085781\n",
       "params_scaler                                       quantile\n",
       "user_attrs_au_precision_recall                       0.31989\n",
       "user_attrs_auroc                                    0.870881\n",
       "user_attrs_f1f1                                     0.469176\n",
       "user_attrs_f1f2                                     0.567396\n",
       "user_attrs_f1precision                              0.364123\n",
       "user_attrs_f1recall                                 0.659428\n",
       "user_attrs_f1threshold                              0.108593\n",
       "user_attrs_f2f1                                     0.466966\n",
       "user_attrs_f2f2                                     0.568233\n",
       "user_attrs_f2precision                              0.360029\n",
       "user_attrs_f2recall                                  0.66427\n",
       "user_attrs_f2threshold                              0.100368\n",
       "state                                               COMPLETE\n",
       "Name: 1257, dtype: object"
      ]
     },
     "execution_count": 49,
     "metadata": {},
     "output_type": "execute_result"
    }
   ],
   "source": [
    "results.sort_values(by=['user_attrs_f2f2'], ascending=False).iloc[0]"
   ]
  },
  {
   "cell_type": "code",
   "execution_count": null,
   "id": "32af279a",
   "metadata": {},
   "outputs": [],
   "source": []
  },
  {
   "cell_type": "code",
   "execution_count": 26,
   "id": "98ba606a",
   "metadata": {},
   "outputs": [],
   "source": [
    "import neptune\n",
    "from neptunecontrib.monitoring.optuna import log_study_info\n",
    "\n",
    "project = neptune.init(project_qualified_name='verkerken/two-stage-binary', api_token='eyJhcGlfYWRkcmVzcyI6Imh0dHBzOi8vdWkubmVwdHVuZS5haSIsImFwaV91cmwiOiJodHRwczovL3VpLm5lcHR1bmUuYWkiLCJhcGlfa2V5IjoiMGJlYTgzNzEtM2U3YS00ODI5LWEzMzgtM2M0MjcyMDIxOWUwIn0=')\n",
    "my_exp = project.get_experiments(id=study_name)[0]\n",
    "log_study_info(study, experiment=my_exp)"
   ]
  },
  {
   "cell_type": "code",
   "execution_count": 27,
   "id": "2fc42223",
   "metadata": {},
   "outputs": [],
   "source": [
    "from neptunecontrib.api.table import log_table\n",
    "log_table(\"results_overview\", results, experiment=my_exp)"
   ]
  },
  {
   "cell_type": "code",
   "execution_count": null,
   "id": "d212e7d2",
   "metadata": {},
   "outputs": [],
   "source": []
  }
 ],
 "metadata": {
  "kernelspec": {
   "display_name": "Python 3",
   "language": "python",
   "name": "python3"
  },
  "language_info": {
   "codemirror_mode": {
    "name": "ipython",
    "version": 3
   },
   "file_extension": ".py",
   "mimetype": "text/x-python",
   "name": "python",
   "nbconvert_exporter": "python",
   "pygments_lexer": "ipython3",
   "version": "3.8.8"
  }
 },
 "nbformat": 4,
 "nbformat_minor": 5
}
