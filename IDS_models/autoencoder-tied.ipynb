{
 "cells": [
  {
   "cell_type": "code",
   "execution_count": 1,
   "id": "induced-amino",
   "metadata": {},
   "outputs": [],
   "source": [
    "%load_ext autoreload\n",
    "%autoreload 2"
   ]
  },
  {
   "cell_type": "code",
   "execution_count": 2,
   "id": "laden-devices",
   "metadata": {},
   "outputs": [],
   "source": [
    "import numpy as np\n",
    "import pandas as pd\n",
    "import util.common as util"
   ]
  },
  {
   "cell_type": "markdown",
   "id": "focal-piece",
   "metadata": {},
   "source": [
    "# Load Data"
   ]
  },
  {
   "cell_type": "code",
   "execution_count": 3,
   "id": "geological-european",
   "metadata": {},
   "outputs": [
    {
     "name": "stdout",
     "output_type": "stream",
     "text": [
      "(D)DOS          321637\n",
      "Port Scan        90694\n",
      "Brute Force       9150\n",
      "Web Attack        2143\n",
      "Botnet            1948\n",
      "Infiltration        36\n",
      "Heartbleed          11\n",
      "Name: Label, dtype: int64\n",
      "Attack type:    #Original:     #Sampled:      #Train:       #Test:\n",
      "      (D)DOS        321637          1948         1363          585\n",
      "      Botnet          1948          1948         1363          585\n",
      " Brute Force          9150          1948         1363          585\n",
      "  Heartbleed            11            11            0           11\n",
      "Infiltration            36            36            0           36\n",
      "   Port Scan         90694          1948         1363          585\n",
      "  Web Attack          2143          1948         1363          585\n"
     ]
    }
   ],
   "source": [
    "clean_dir = \"/project/data/cicids2017/clean/\"\n",
    "x_binary_train, y_binary_train, x_binary_val, y_binary_val, x_binary_test, y_binary_test, x_multi_train, y_multi_test = util.load_data(clean_dir, sample_size=1948)"
   ]
  },
  {
   "cell_type": "code",
   "execution_count": 4,
   "id": "united-reply",
   "metadata": {},
   "outputs": [
    {
     "data": {
      "text/plain": [
       "(array([1.]), array([100000]))"
      ]
     },
     "execution_count": 4,
     "metadata": {},
     "output_type": "execute_result"
    }
   ],
   "source": [
    "np.unique(y_binary_train, return_counts=True)"
   ]
  },
  {
   "cell_type": "code",
   "execution_count": 5,
   "id": "unable-dependence",
   "metadata": {},
   "outputs": [
    {
     "data": {
      "text/plain": [
       "(array([-1.,  1.]), array([  6815, 100000]))"
      ]
     },
     "execution_count": 5,
     "metadata": {},
     "output_type": "execute_result"
    }
   ],
   "source": [
    "np.unique(y_binary_val, return_counts=True)"
   ]
  },
  {
   "cell_type": "code",
   "execution_count": 6,
   "id": "danish-airline",
   "metadata": {},
   "outputs": [
    {
     "data": {
      "text/plain": [
       "(array([-1.,  1.]), array([ 2972, 30000]))"
      ]
     },
     "execution_count": 6,
     "metadata": {},
     "output_type": "execute_result"
    }
   ],
   "source": [
    "np.unique(y_binary_test, return_counts=True)"
   ]
  },
  {
   "cell_type": "markdown",
   "id": "understood-dallas",
   "metadata": {},
   "source": [
    "## Normalise data"
   ]
  },
  {
   "cell_type": "code",
   "execution_count": 145,
   "id": "committed-warehouse",
   "metadata": {},
   "outputs": [],
   "source": [
    "from sklearn.preprocessing import QuantileTransformer\n",
    "\n",
    "binary_scaler = QuantileTransformer(output_distribution='normal')\n",
    "x_binary_train_s = binary_scaler.fit_transform(x_binary_train)\n",
    "x_binary_val_s = binary_scaler.transform(x_binary_val)\n",
    "x_binary_test_s = binary_scaler.transform(x_binary_test)"
   ]
  },
  {
   "cell_type": "code",
   "execution_count": 8,
   "id": "rational-bryan",
   "metadata": {},
   "outputs": [],
   "source": [
    "from sklearn.preprocessing import MinMaxScaler\n",
    "\n",
    "binary_scaler = MinMaxScaler(feature_range=(0, 1), copy=True)\n",
    "x_binary_train_s = binary_scaler.fit_transform(x_binary_train)\n",
    "x_binary_val_s = binary_scaler.transform(x_binary_val)\n",
    "x_binary_test_s = binary_scaler.transform(x_binary_test)"
   ]
  },
  {
   "cell_type": "markdown",
   "id": "included-merit",
   "metadata": {},
   "source": [
    "# Train Model"
   ]
  },
  {
   "cell_type": "code",
   "execution_count": 126,
   "id": "advance-fourth",
   "metadata": {},
   "outputs": [],
   "source": [
    "import tensorflow as tf\n",
    "from keras.regularizers import l2\n",
    "from keras.models import Model, load_model\n",
    "from keras.layers import Input, Dense, Layer, InputSpec\n",
    "from keras.callbacks import ModelCheckpoint, TensorBoard\n",
    "from keras import regularizers, activations, initializers, constraints, Sequential\n",
    "from keras import backend as K\n",
    "from keras.constraints import UnitNorm, Constraint\n",
    "\n",
    "class DenseTied(Layer):\n",
    "    def __init__(self, units,\n",
    "                 activation=None,\n",
    "                 use_bias=True,\n",
    "                 kernel_initializer='glorot_uniform',\n",
    "                 bias_initializer='zeros',\n",
    "                 kernel_regularizer=None,\n",
    "                 bias_regularizer=None,\n",
    "                 activity_regularizer=None,\n",
    "                 kernel_constraint=None,\n",
    "                 bias_constraint=None,\n",
    "                 tied_to=None,\n",
    "                 **kwargs):\n",
    "        self.tied_to = tied_to\n",
    "        if 'input_shape' not in kwargs and 'input_dim' in kwargs:\n",
    "            kwargs['input_shape'] = (kwargs.pop('input_dim'),)\n",
    "        super().__init__(**kwargs)\n",
    "        self.units = units\n",
    "        self.activation = activations.get(activation)\n",
    "        self.use_bias = use_bias\n",
    "        self.kernel_initializer = initializers.get(kernel_initializer)\n",
    "        self.bias_initializer = initializers.get(bias_initializer)\n",
    "        self.kernel_regularizer = regularizers.get(kernel_regularizer)\n",
    "        self.bias_regularizer = regularizers.get(bias_regularizer)\n",
    "        self.activity_regularizer = regularizers.get(activity_regularizer)\n",
    "        self.kernel_constraint = constraints.get(kernel_constraint)\n",
    "        self.bias_constraint = constraints.get(bias_constraint)\n",
    "        self.input_spec = InputSpec(min_ndim=2)\n",
    "        self.supports_masking = True\n",
    "                \n",
    "    def build(self, input_shape):\n",
    "        assert len(input_shape) >= 2\n",
    "        input_dim = input_shape[-1]\n",
    "\n",
    "        if self.tied_to is not None:\n",
    "            self.kernel = self.tied_to.kernel\n",
    "            self._non_trainable_weights.append(self.kernel)\n",
    "        else:\n",
    "            self.kernel = self.add_weight(shape=(input_dim, self.units),\n",
    "                                          initializer=self.kernel_initializer,\n",
    "                                          name='kernel',\n",
    "                                          regularizer=self.kernel_regularizer,\n",
    "                                          constraint=self.kernel_constraint)\n",
    "        if self.use_bias:\n",
    "            self.bias = self.add_weight(shape=(self.units,),\n",
    "                                        initializer=self.bias_initializer,\n",
    "                                        name='bias',\n",
    "                                        regularizer=self.bias_regularizer,\n",
    "                                        constraint=self.bias_constraint,\n",
    "                                        trainable=True)\n",
    "        else:\n",
    "            self.bias = None\n",
    "        self.input_spec = InputSpec(min_ndim=2, axes={-1: input_dim})\n",
    "        self.built = True\n",
    "\n",
    "    def compute_output_shape(self, input_shape):\n",
    "        assert input_shape and len(input_shape) >= 2\n",
    "        output_shape = list(input_shape)\n",
    "        output_shape[-1] = self.units\n",
    "        return tuple(output_shape)\n",
    "\n",
    "    def call(self, inputs):\n",
    "        # Transpose only here because of tf2 eager mode \n",
    "        # https://stackoverflow.com/questions/53751024/tying-autoencoder-weights-in-a-dense-keras-layer\n",
    "        output = K.dot(inputs, K.transpose(self.kernel))\n",
    "        if self.use_bias:\n",
    "            output = K.bias_add(output, self.bias, data_format='channels_last')\n",
    "        if self.activation is not None:\n",
    "            output = self.activation(output)\n",
    "        return output"
   ]
  },
  {
   "cell_type": "code",
   "execution_count": 169,
   "id": "polar-peace",
   "metadata": {},
   "outputs": [],
   "source": [
    "def create_model(params):\n",
    "    input_layer = Input(shape=(params[\"input_dimension\"],))\n",
    "    model = input_layer\n",
    "    \n",
    "    # Encoder\n",
    "    encoder = []\n",
    "    for n in params[\"n_neurons\"]:\n",
    "        encoder_layer = Dense(n, activation=params['hidden_activation'], activity_regularizer=l2(params[\"l2_reg\"]))\n",
    "        encoder.append(encoder_layer)\n",
    "        model = encoder_layer(model)\n",
    "\n",
    "    # Decoder - Do not repeat encoded layer\n",
    "    for n, encoder_layer in zip(reversed(params[\"n_neurons\"][:-1]), reversed(encoder[1:])):\n",
    "        decoder_layer = DenseTied(n, activation=params['hidden_activation'], tied_to=encoder_layer, activity_regularizer=l2(params[\"l2_reg\"]))\n",
    "        model = decoder_layer(model)\n",
    "\n",
    "    # Output Layer\n",
    "    model = DenseTied(params[\"input_dimension\"], activation=params['output_activation'], tied_to=encoder[0], activity_regularizer=l2(params[\"l2_reg\"]))(model)\n",
    "#     model = Dense(params[\"input_dimension\"], activation=params['output_activation'], activity_regularizer=l2(params[\"l2_reg\"]))(model)\n",
    "    autoencoder = Model(inputs=input_layer, outputs=model)\n",
    "    autoencoder.compile(optimizer=params['optimizer'], loss=params['loss'])\n",
    "    return autoencoder"
   ]
  },
  {
   "cell_type": "code",
   "execution_count": 171,
   "id": "solar-hazard",
   "metadata": {},
   "outputs": [],
   "source": [
    "params = {'scaler': 'quantile', 'output_activation': 'linear', 'hidden_activation': 'relu', 'optimizer': 'adam', 'loss': 'mean_squared_error', 'input_dimension': 67, 'n_layers': 3, 'n_neurons': [66, 63, 10], 'l2_reg': 1.271016e-03}"
   ]
  },
  {
   "cell_type": "code",
   "execution_count": 172,
   "id": "hispanic-drinking",
   "metadata": {},
   "outputs": [
    {
     "name": "stdout",
     "output_type": "stream",
     "text": [
      "Model: \"model_8\"\n",
      "_________________________________________________________________\n",
      "Layer (type)                 Output Shape              Param #   \n",
      "=================================================================\n",
      "input_16 (InputLayer)        [(None, 67)]              0         \n",
      "_________________________________________________________________\n",
      "dense_63 (Dense)             (None, 66)                4488      \n",
      "_________________________________________________________________\n",
      "dense_64 (Dense)             (None, 63)                4221      \n",
      "_________________________________________________________________\n",
      "dense_65 (Dense)             (None, 10)                640       \n",
      "_________________________________________________________________\n",
      "dense_tied_49 (DenseTied)    (None, 63)                703       \n",
      "_________________________________________________________________\n",
      "dense_tied_50 (DenseTied)    (None, 66)                4287      \n",
      "_________________________________________________________________\n",
      "dense_tied_51 (DenseTied)    (None, 67)                4555      \n",
      "=================================================================\n",
      "Total params: 18,755\n",
      "Trainable params: 9,545\n",
      "Non-trainable params: 9,210\n",
      "_________________________________________________________________\n"
     ]
    }
   ],
   "source": [
    "m = create_model(params)\n",
    "m.summary()"
   ]
  },
  {
   "cell_type": "code",
   "execution_count": 146,
   "id": "sticky-official",
   "metadata": {},
   "outputs": [
    {
     "name": "stdout",
     "output_type": "stream",
     "text": [
      "Epoch 1/4\n",
      "3125/3125 [==============================] - 3s 1ms/step - loss: 8.4714\n",
      "Epoch 2/4\n",
      "3125/3125 [==============================] - 3s 1ms/step - loss: 2.0686\n",
      "Epoch 3/4\n",
      "3125/3125 [==============================] - 3s 1ms/step - loss: 1.4958\n",
      "Epoch 4/4\n",
      "3125/3125 [==============================] - 3s 1ms/step - loss: 1.3056\n"
     ]
    }
   ],
   "source": [
    "history = m.fit(\n",
    "    x_binary_train_s,\n",
    "    x_binary_train_s,\n",
    "    epochs=4, \n",
    "    shuffle=True,\n",
    "    verbose=1\n",
    ")"
   ]
  },
  {
   "cell_type": "code",
   "execution_count": 147,
   "id": "labeled-shakespeare",
   "metadata": {},
   "outputs": [
    {
     "name": "stderr",
     "output_type": "stream",
     "text": [
      "/project/Two-Stage/util/common.py:97: RuntimeWarning: invalid value encountered in true_divide\n",
      "  results[\"f1\"] = 2*precision*recall/(precision+recall)\n",
      "/project/Two-Stage/util/common.py:98: RuntimeWarning: invalid value encountered in true_divide\n",
      "  results[\"f2\"] = 5*precision*recall/(4*precision+recall)\n"
     ]
    },
    {
     "data": {
      "text/plain": [
       "f1                   precision     0.291843\n",
       "                     recall        0.496112\n",
       "                     f1            0.367500\n",
       "                     f2            0.435191\n",
       "f2                   precision     0.187044\n",
       "                     recall        0.832135\n",
       "                     f1            0.305434\n",
       "                     f2            0.492454\n",
       "threshold                         39.555313\n",
       "au_precision_recall                0.216846\n",
       "auroc                              0.835452\n",
       "dtype: float64"
      ]
     },
     "execution_count": 147,
     "metadata": {},
     "output_type": "execute_result"
    }
   ],
   "source": [
    "x_val_autoencoder = m.predict(x_binary_val_s)\n",
    "val_score = util.anomaly_scores(x_binary_val_s, x_val_autoencoder)\n",
    "val_metrics = util.evaluate_results(y_binary_val, val_score)\n",
    "val_metrics"
   ]
  },
  {
   "cell_type": "code",
   "execution_count": 142,
   "id": "digital-delicious",
   "metadata": {},
   "outputs": [],
   "source": [
    "model = load_model(\"results/binary/autoencoder/TWOS-37/models/model_1223.h5\")"
   ]
  },
  {
   "cell_type": "code",
   "execution_count": 143,
   "id": "conservative-colombia",
   "metadata": {},
   "outputs": [
    {
     "name": "stdout",
     "output_type": "stream",
     "text": [
      "Model: \"model_305\"\n",
      "_________________________________________________________________\n",
      "Layer (type)                 Output Shape              Param #   \n",
      "=================================================================\n",
      "input_306 (InputLayer)       [(None, 67)]              0         \n",
      "_________________________________________________________________\n",
      "dense_1322 (Dense)           (None, 66)                4488      \n",
      "_________________________________________________________________\n",
      "dense_1323 (Dense)           (None, 63)                4221      \n",
      "_________________________________________________________________\n",
      "dense_1324 (Dense)           (None, 66)                4224      \n",
      "_________________________________________________________________\n",
      "dense_1325 (Dense)           (None, 67)                4489      \n",
      "=================================================================\n",
      "Total params: 17,422\n",
      "Trainable params: 17,422\n",
      "Non-trainable params: 0\n",
      "_________________________________________________________________\n"
     ]
    }
   ],
   "source": [
    "model.summary()"
   ]
  },
  {
   "cell_type": "code",
   "execution_count": 148,
   "id": "young-tennessee",
   "metadata": {},
   "outputs": [
    {
     "name": "stderr",
     "output_type": "stream",
     "text": [
      "/project/Two-Stage/util/common.py:97: RuntimeWarning: invalid value encountered in true_divide\n",
      "  results[\"f1\"] = 2*precision*recall/(precision+recall)\n",
      "/project/Two-Stage/util/common.py:98: RuntimeWarning: invalid value encountered in true_divide\n",
      "  results[\"f2\"] = 5*precision*recall/(4*precision+recall)\n"
     ]
    },
    {
     "data": {
      "text/plain": [
       "f1                   precision     0.301306\n",
       "                     recall        0.758327\n",
       "                     f1            0.431260\n",
       "                     f2            0.581825\n",
       "f2                   precision     0.289229\n",
       "                     recall        0.802201\n",
       "                     f1            0.425166\n",
       "                     f2            0.592154\n",
       "threshold                         17.202332\n",
       "au_precision_recall                0.318725\n",
       "auroc                              0.907273\n",
       "dtype: float64"
      ]
     },
     "execution_count": 148,
     "metadata": {},
     "output_type": "execute_result"
    }
   ],
   "source": [
    "x_val_autoencoder = model.predict(x_binary_val_s)\n",
    "val_score = util.anomaly_scores(x_binary_val_s, x_val_autoencoder)\n",
    "val_metrics = util.evaluate_results(y_binary_val, val_score)\n",
    "val_metrics"
   ]
  },
  {
   "cell_type": "code",
   "execution_count": null,
   "id": "expected-ultimate",
   "metadata": {},
   "outputs": [],
   "source": []
  },
  {
   "cell_type": "code",
   "execution_count": null,
   "id": "historic-postcard",
   "metadata": {},
   "outputs": [],
   "source": []
  },
  {
   "cell_type": "code",
   "execution_count": null,
   "id": "mechanical-underwear",
   "metadata": {},
   "outputs": [],
   "source": []
  },
  {
   "cell_type": "code",
   "execution_count": 10,
   "id": "nervous-genome",
   "metadata": {},
   "outputs": [
    {
     "name": "stdout",
     "output_type": "stream",
     "text": [
      "Epoch 1/5\n",
      "3125/3125 [==============================] - 6s 2ms/step - loss: 0.0214\n",
      "Epoch 2/5\n",
      "3125/3125 [==============================] - 5s 2ms/step - loss: 0.0014\n",
      "Epoch 3/5\n",
      "3125/3125 [==============================] - 5s 2ms/step - loss: 9.7788e-04\n",
      "Epoch 4/5\n",
      "3125/3125 [==============================] - 5s 2ms/step - loss: 8.0913e-04\n",
      "Epoch 5/5\n",
      "3125/3125 [==============================] - 5s 2ms/step - loss: 7.1869e-04\n"
     ]
    },
    {
     "name": "stderr",
     "output_type": "stream",
     "text": [
      "/project/Two-Stage/util/common.py:97: RuntimeWarning: invalid value encountered in true_divide\n",
      "  results[\"f1\"] = 2*precision*recall/(precision+recall)\n"
     ]
    },
    {
     "data": {
      "text/plain": [
       "precision              0.128594\n",
       "recall                 0.892443\n",
       "f1                     0.224797\n",
       "threshold              0.002786\n",
       "au_precision_recall    0.215373\n",
       "auroc                  0.750486\n",
       "Name: 20800, dtype: float64"
      ]
     },
     "execution_count": 10,
     "metadata": {},
     "output_type": "execute_result"
    }
   ],
   "source": [
    "from util.AUROCEarlyStoppingPruneCallback import AUROCEarlyStoppingPruneCallback\n",
    "\n",
    "autoencoder = create_model(x_binary_train_s.shape[1], 3, [51, 48, 32], 1e-4)\n",
    "history = autoencoder.fit(\n",
    "    x_binary_train_s,\n",
    "    x_binary_train_s,\n",
    "    epochs=5, \n",
    "    shuffle=True,\n",
    "    verbose=1\n",
    ")\n",
    "# trial.set_user_attr('epochs', len(history.history['loss']))\n",
    "# trial.set_user_attr('losses', history.history['loss'])\n",
    "x_val_autoencoder = autoencoder.predict(x_binary_val_s)\n",
    "val_score = util.anomaly_scores(x_binary_val_s, x_val_autoencoder)\n",
    "val_metrics = util.evaluate_results(y_binary_val, val_score)\n",
    "val_metrics"
   ]
  },
  {
   "cell_type": "code",
   "execution_count": 21,
   "id": "corporate-catalyst",
   "metadata": {},
   "outputs": [
    {
     "data": {
      "text/plain": [
       "precision                0.090092\n",
       "recall                   0.604255\n",
       "f1                       0.156805\n",
       "threshold              704.071541\n",
       "au_precision_recall      0.064433\n",
       "auroc                    0.522964\n",
       "Name: 59652, dtype: float64"
      ]
     },
     "execution_count": 21,
     "metadata": {},
     "output_type": "execute_result"
    }
   ],
   "source": [
    "val_metrics"
   ]
  },
  {
   "cell_type": "code",
   "execution_count": 24,
   "id": "clean-delta",
   "metadata": {},
   "outputs": [
    {
     "data": {
      "text/plain": [
       "precision               0.392387\n",
       "recall                  0.319149\n",
       "f1                      0.351999\n",
       "threshold              14.375418\n",
       "au_precision_recall     0.242733\n",
       "auroc                   0.803078\n",
       "Name: 86980, dtype: float64"
      ]
     },
     "execution_count": 24,
     "metadata": {},
     "output_type": "execute_result"
    }
   ],
   "source": [
    "val_metrics"
   ]
  },
  {
   "cell_type": "code",
   "execution_count": 15,
   "id": "olympic-protection",
   "metadata": {},
   "outputs": [
    {
     "data": {
      "text/plain": [
       "Project(verkerken/two-stage-binary)"
      ]
     },
     "execution_count": 15,
     "metadata": {},
     "output_type": "execute_result"
    }
   ],
   "source": [
    "import neptune\n",
    "neptune.init(project_qualified_name='verkerken/two-stage-binary', api_token='eyJhcGlfYWRkcmVzcyI6Imh0dHBzOi8vdWkubmVwdHVuZS5haSIsImFwaV91cmwiOiJodHRwczovL3VpLm5lcHR1bmUuYWkiLCJhcGlfa2V5IjoiMGJlYTgzNzEtM2U3YS00ODI5LWEzMzgtM2M0MjcyMDIxOWUwIn0=')"
   ]
  },
  {
   "cell_type": "code",
   "execution_count": 16,
   "id": "naked-approach",
   "metadata": {},
   "outputs": [
    {
     "name": "stdout",
     "output_type": "stream",
     "text": [
      "https://ui.neptune.ai/verkerken/two-stage-binary/e/TWOS-2\n"
     ]
    },
    {
     "data": {
      "text/plain": [
       "Experiment(TWOS-2)"
      ]
     },
     "execution_count": 16,
     "metadata": {},
     "output_type": "execute_result"
    }
   ],
   "source": [
    "neptune.create_experiment('hello-world-ae', tags=[\"autoencoder\", \"cicids2017\", \"binary\"])"
   ]
  },
  {
   "cell_type": "code",
   "execution_count": 18,
   "id": "disabled-copper",
   "metadata": {},
   "outputs": [
    {
     "data": {
      "text/plain": [
       "0.735831134262656"
      ]
     },
     "execution_count": 18,
     "metadata": {},
     "output_type": "execute_result"
    }
   ],
   "source": [
    "from sklearn.metrics import roc_auc_score\n",
    "\n",
    "roc_auc_score(-y_binary_val, val_score)"
   ]
  },
  {
   "cell_type": "code",
   "execution_count": 24,
   "id": "exclusive-employee",
   "metadata": {},
   "outputs": [
    {
     "data": {
      "text/plain": [
       "\"{'precision': 0.12859438430311232, 'recall': 0.8924431401320616, 'f1': 0.22479717617489975, 'threshold': 0.0027857437069087783, 'au_precision_recall': 0.21537287814713807, 'auroc': 0.7504856258253851}\""
      ]
     },
     "execution_count": 24,
     "metadata": {},
     "output_type": "execute_result"
    }
   ],
   "source": [
    "str(val_metrics.to_dict())"
   ]
  },
  {
   "cell_type": "code",
   "execution_count": 57,
   "id": "certain-replica",
   "metadata": {},
   "outputs": [],
   "source": [
    "import os\n"
   ]
  },
  {
   "cell_type": "code",
   "execution_count": 62,
   "id": "neutral-healing",
   "metadata": {},
   "outputs": [],
   "source": [
    "import pathlib\n",
    "pathlib.Path('results/binary/autoencoder/TWOS-3').mkdir(parents=True, exist_ok=True)"
   ]
  },
  {
   "cell_type": "code",
   "execution_count": 71,
   "id": "random-intersection",
   "metadata": {},
   "outputs": [
    {
     "name": "stderr",
     "output_type": "stream",
     "text": [
      "\u001b[32m[I 2021-03-02 00:08:38,990]\u001b[0m Using an existing study with name 'test' instead of creating a new one.\u001b[0m\n"
     ]
    }
   ],
   "source": [
    "import optuna\n",
    "study_storage = '/project/Two-Stage/results/binary/autoencoder.db'\n",
    "study = optuna.create_study(\n",
    "    study_name=\"test\", \n",
    "    direction='maximize', \n",
    "    storage=f'sqlite:///{study_storage}',\n",
    "    load_if_exists=True\n",
    ")"
   ]
  },
  {
   "cell_type": "code",
   "execution_count": 76,
   "id": "prostate-allocation",
   "metadata": {},
   "outputs": [
    {
     "name": "stderr",
     "output_type": "stream",
     "text": [
      "/project/Two-Stage/util/common.py:97: RuntimeWarning: invalid value encountered in true_divide\n",
      "  results[\"f1\"] = 2*precision*recall/(precision+recall)\n",
      "/project/Two-Stage/util/common.py:98: RuntimeWarning: invalid value encountered in true_divide\n",
      "  max_index = results[\"f1\"].idxmax()\n"
     ]
    },
    {
     "data": {
      "text/plain": [
       "f1                   precision    0.128594\n",
       "                     recall       0.892443\n",
       "                     f1           0.224797\n",
       "                     f2           0.407881\n",
       "f2                   precision    0.128546\n",
       "                     recall       0.893617\n",
       "                     f1           0.224761\n",
       "                     f2           0.407980\n",
       "threshold                         0.002786\n",
       "au_precision_recall               0.215373\n",
       "auroc                             0.750486\n",
       "dtype: float64"
      ]
     },
     "execution_count": 76,
     "metadata": {},
     "output_type": "execute_result"
    }
   ],
   "source": [
    "val_metrics = util.evaluate_results(y_binary_val, val_score)\n",
    "val_metrics"
   ]
  },
  {
   "cell_type": "code",
   "execution_count": 81,
   "id": "dying-nomination",
   "metadata": {},
   "outputs": [
    {
     "data": {
      "text/plain": [
       "f1precision            0.128594\n",
       "f1recall               0.892443\n",
       "f1f1                   0.224797\n",
       "f1f2                   0.407881\n",
       "f2precision            0.128546\n",
       "f2recall               0.893617\n",
       "f2f1                   0.224761\n",
       "f2f2                   0.407980\n",
       "threshold              0.002786\n",
       "au_precision_recall    0.215373\n",
       "auroc                  0.750486\n",
       "dtype: float64"
      ]
     },
     "execution_count": 81,
     "metadata": {},
     "output_type": "execute_result"
    }
   ],
   "source": [
    "val_metrics.index = val_metrics.index.map(''.join)\n",
    "val_metrics"
   ]
  },
  {
   "cell_type": "code",
   "execution_count": 82,
   "id": "cloudy-latin",
   "metadata": {},
   "outputs": [
    {
     "data": {
      "text/plain": [
       "{'f1precision': 0.12859438430311232,\n",
       " 'f1recall': 0.8924431401320616,\n",
       " 'f1f1': 0.22479717617489975,\n",
       " 'f1f2': 0.4078813241053705,\n",
       " 'f2precision': 0.12854609929078015,\n",
       " 'f2recall': 0.8936170212765957,\n",
       " 'f2f1': 0.22476056909818976,\n",
       " 'f2f2': 0.40798006324025937,\n",
       " 'threshold': 0.0027857437069087783,\n",
       " 'au_precision_recall': 0.21537287814713807,\n",
       " 'auroc': 0.7504856258253851}"
      ]
     },
     "execution_count": 82,
     "metadata": {},
     "output_type": "execute_result"
    }
   ],
   "source": [
    "val_metrics.to_dict()"
   ]
  },
  {
   "cell_type": "code",
   "execution_count": 87,
   "id": "legendary-hudson",
   "metadata": {},
   "outputs": [
    {
     "name": "stdout",
     "output_type": "stream",
     "text": [
      "f1precision\n",
      "0.12859438430311232\n",
      "f1recall\n",
      "0.8924431401320616\n",
      "f1f1\n",
      "0.22479717617489975\n",
      "f1f2\n",
      "0.4078813241053705\n",
      "f2precision\n",
      "0.12854609929078015\n",
      "f2recall\n",
      "0.8936170212765957\n",
      "f2f1\n",
      "0.22476056909818976\n",
      "f2f2\n",
      "0.40798006324025937\n",
      "threshold\n",
      "0.0027857437069087783\n",
      "au_precision_recall\n",
      "0.21537287814713807\n",
      "auroc\n",
      "0.7504856258253851\n"
     ]
    }
   ],
   "source": [
    "for k,v in val_metrics.to_dict().items():\n",
    "    print(k)\n",
    "    print(v)"
   ]
  },
  {
   "cell_type": "code",
   "execution_count": 29,
   "id": "binding-anniversary",
   "metadata": {},
   "outputs": [],
   "source": [
    "def create_model(params):\n",
    "    input_layer = Input(shape=(params[\"input_dimension\"],))\n",
    "    model = input_layer\n",
    "    \n",
    "    # Encoder\n",
    "    for n in params[\"n_neurons\"]:\n",
    "        model = Dense(n, activation=params['hidden_activation'], activity_regularizer=l2(params[\"l2_reg\"]))(model)\n",
    "\n",
    "    # Decoder - Do not repeat encoded layer\n",
    "    for n in reversed(params[\"n_neurons\"][:-1]):\n",
    "        model = Dense(n, activation=params['hidden_activation'], activity_regularizer=l2(params[\"l2_reg\"]))(model)\n",
    "\n",
    "    # Output Layer\n",
    "    model = Dense(params[\"input_dimension\"], activation=params['output_activation'], activity_regularizer=l2(params[\"l2_reg\"]))(model)\n",
    "    autoencoder = Model(inputs=input_layer, outputs=model)\n",
    "    autoencoder.compile(optimizer=params['optimizer'], loss=params['loss'])\n",
    "    return autoencoder"
   ]
  },
  {
   "cell_type": "code",
   "execution_count": 26,
   "id": "educational-authorization",
   "metadata": {},
   "outputs": [],
   "source": [
    "params = {'scaler': 'quantile', 'output_activation': 'linear', 'hidden_activation': 'relu', 'optimizer': 'adam', 'loss': 'mean_squared_error', 'input_dimension': 67, 'n_layers': 1, 'n_neurons': [62, 27, 5], 'l2_reg': 1.6664447908824294e-10}"
   ]
  },
  {
   "cell_type": "code",
   "execution_count": 27,
   "id": "placed-wayne",
   "metadata": {},
   "outputs": [],
   "source": [
    "m = create_model(params)"
   ]
  },
  {
   "cell_type": "code",
   "execution_count": 8,
   "id": "continued-radiation",
   "metadata": {},
   "outputs": [],
   "source": [
    "from keras.models import Model\n",
    "from keras.layers import Dense, Input\n",
    "from keras.regularizers import l2"
   ]
  },
  {
   "cell_type": "code",
   "execution_count": 28,
   "id": "collectible-shadow",
   "metadata": {},
   "outputs": [
    {
     "name": "stdout",
     "output_type": "stream",
     "text": [
      "Model: \"model_2\"\n",
      "_________________________________________________________________\n",
      "Layer (type)                 Output Shape              Param #   \n",
      "=================================================================\n",
      "input_5 (InputLayer)         [(None, 67)]              0         \n",
      "_________________________________________________________________\n",
      "dense_21 (Dense)             (None, 62)                4216      \n",
      "_________________________________________________________________\n",
      "dense_22 (Dense)             (None, 27)                1701      \n",
      "_________________________________________________________________\n",
      "dense_23 (Dense)             (None, 5)                 140       \n",
      "_________________________________________________________________\n",
      "dense_24 (Dense)             (None, 27)                162       \n",
      "_________________________________________________________________\n",
      "dense_25 (Dense)             (None, 62)                1736      \n",
      "_________________________________________________________________\n",
      "dense_26 (Dense)             (None, 67)                4221      \n",
      "=================================================================\n",
      "Total params: 12,176\n",
      "Trainable params: 12,176\n",
      "Non-trainable params: 0\n",
      "_________________________________________________________________\n"
     ]
    }
   ],
   "source": [
    "m.summary()"
   ]
  },
  {
   "cell_type": "markdown",
   "id": "opened-pharmacology",
   "metadata": {},
   "source": [
    "# Log Final results to disk and neptune"
   ]
  },
  {
   "cell_type": "code",
   "execution_count": 3,
   "id": "beautiful-harvard",
   "metadata": {},
   "outputs": [],
   "source": [
    "import optuna"
   ]
  },
  {
   "cell_type": "code",
   "execution_count": 22,
   "id": "respected-sandwich",
   "metadata": {},
   "outputs": [],
   "source": [
    "study_storage = 'results/binary/autoencoder_linear_cpu.db'\n",
    "# study_storage = 'results/binary/autoencoder_linear_gpu.db'\n",
    "# study_storage = 'results/binary/autoencoder_sigmoid.db'"
   ]
  },
  {
   "cell_type": "code",
   "execution_count": 23,
   "id": "ideal-reducing",
   "metadata": {},
   "outputs": [
    {
     "data": {
      "text/plain": [
       "['TWOS-36']"
      ]
     },
     "execution_count": 23,
     "metadata": {},
     "output_type": "execute_result"
    }
   ],
   "source": [
    "list(map(lambda s: s.study_name, optuna.study.get_all_study_summaries(storage=f\"sqlite:///{study_storage}\")))"
   ]
  },
  {
   "cell_type": "code",
   "execution_count": 24,
   "id": "increasing-teddy",
   "metadata": {},
   "outputs": [],
   "source": [
    "study_name = \"TWOS-36\"\n",
    "save_dir = f'results/binary/autoencoder/{study_name}'"
   ]
  },
  {
   "cell_type": "code",
   "execution_count": 25,
   "id": "supposed-marketplace",
   "metadata": {},
   "outputs": [
    {
     "data": {
      "text/html": [
       "<div>\n",
       "<style scoped>\n",
       "    .dataframe tbody tr th:only-of-type {\n",
       "        vertical-align: middle;\n",
       "    }\n",
       "\n",
       "    .dataframe tbody tr th {\n",
       "        vertical-align: top;\n",
       "    }\n",
       "\n",
       "    .dataframe thead th {\n",
       "        text-align: right;\n",
       "    }\n",
       "</style>\n",
       "<table border=\"1\" class=\"dataframe\">\n",
       "  <thead>\n",
       "    <tr style=\"text-align: right;\">\n",
       "      <th></th>\n",
       "      <th>number</th>\n",
       "      <th>value</th>\n",
       "      <th>datetime_start</th>\n",
       "      <th>datetime_complete</th>\n",
       "      <th>duration</th>\n",
       "      <th>params_encoder_layers</th>\n",
       "      <th>params_l2</th>\n",
       "      <th>params_n_layer_0</th>\n",
       "      <th>params_n_layer_1</th>\n",
       "      <th>params_n_layer_2</th>\n",
       "      <th>...</th>\n",
       "      <th>user_attrs_f1f2</th>\n",
       "      <th>user_attrs_f1precision</th>\n",
       "      <th>user_attrs_f1recall</th>\n",
       "      <th>user_attrs_f2f1</th>\n",
       "      <th>user_attrs_f2f2</th>\n",
       "      <th>user_attrs_f2precision</th>\n",
       "      <th>user_attrs_f2recall</th>\n",
       "      <th>user_attrs_losses</th>\n",
       "      <th>user_attrs_threshold</th>\n",
       "      <th>state</th>\n",
       "    </tr>\n",
       "  </thead>\n",
       "  <tbody>\n",
       "    <tr>\n",
       "      <th>231</th>\n",
       "      <td>231</td>\n",
       "      <td>0.905805</td>\n",
       "      <td>2021-03-02 05:13:05.952757</td>\n",
       "      <td>2021-03-02 05:14:18.476888</td>\n",
       "      <td>0 days 00:01:12.524131</td>\n",
       "      <td>1</td>\n",
       "      <td>0.000005</td>\n",
       "      <td>56.0</td>\n",
       "      <td>NaN</td>\n",
       "      <td>NaN</td>\n",
       "      <td>...</td>\n",
       "      <td>0.612734</td>\n",
       "      <td>0.387971</td>\n",
       "      <td>0.716508</td>\n",
       "      <td>0.425675</td>\n",
       "      <td>0.620604</td>\n",
       "      <td>0.279407</td>\n",
       "      <td>0.893324</td>\n",
       "      <td>[0.32243651151657104, 0.018776101991534233, 0....</td>\n",
       "      <td>0.467211</td>\n",
       "      <td>COMPLETE</td>\n",
       "    </tr>\n",
       "    <tr>\n",
       "      <th>511</th>\n",
       "      <td>511</td>\n",
       "      <td>0.895115</td>\n",
       "      <td>2021-03-02 06:52:15.228921</td>\n",
       "      <td>2021-03-02 06:53:39.536480</td>\n",
       "      <td>0 days 00:01:24.307559</td>\n",
       "      <td>1</td>\n",
       "      <td>0.000118</td>\n",
       "      <td>50.0</td>\n",
       "      <td>NaN</td>\n",
       "      <td>NaN</td>\n",
       "      <td>...</td>\n",
       "      <td>0.489228</td>\n",
       "      <td>0.384095</td>\n",
       "      <td>0.525165</td>\n",
       "      <td>0.404010</td>\n",
       "      <td>0.579629</td>\n",
       "      <td>0.268449</td>\n",
       "      <td>0.816141</td>\n",
       "      <td>[0.4473184645175934, 0.1314028948545456, 0.113...</td>\n",
       "      <td>1.423257</td>\n",
       "      <td>COMPLETE</td>\n",
       "    </tr>\n",
       "    <tr>\n",
       "      <th>543</th>\n",
       "      <td>543</td>\n",
       "      <td>0.893542</td>\n",
       "      <td>2021-03-02 07:03:27.219742</td>\n",
       "      <td>2021-03-02 07:05:00.952675</td>\n",
       "      <td>0 days 00:01:33.732933</td>\n",
       "      <td>2</td>\n",
       "      <td>0.000014</td>\n",
       "      <td>58.0</td>\n",
       "      <td>56.0</td>\n",
       "      <td>NaN</td>\n",
       "      <td>...</td>\n",
       "      <td>0.537078</td>\n",
       "      <td>0.394432</td>\n",
       "      <td>0.590462</td>\n",
       "      <td>0.415775</td>\n",
       "      <td>0.576215</td>\n",
       "      <td>0.283988</td>\n",
       "      <td>0.775789</td>\n",
       "      <td>[0.28489014506340027, 0.05160053074359894, 0.0...</td>\n",
       "      <td>2.397769</td>\n",
       "      <td>COMPLETE</td>\n",
       "    </tr>\n",
       "    <tr>\n",
       "      <th>312</th>\n",
       "      <td>312</td>\n",
       "      <td>0.892667</td>\n",
       "      <td>2021-03-02 05:43:29.257399</td>\n",
       "      <td>2021-03-02 05:45:01.059162</td>\n",
       "      <td>0 days 00:01:31.801763</td>\n",
       "      <td>1</td>\n",
       "      <td>0.000040</td>\n",
       "      <td>42.0</td>\n",
       "      <td>NaN</td>\n",
       "      <td>NaN</td>\n",
       "      <td>...</td>\n",
       "      <td>0.581205</td>\n",
       "      <td>0.359484</td>\n",
       "      <td>0.687161</td>\n",
       "      <td>0.471541</td>\n",
       "      <td>0.582853</td>\n",
       "      <td>0.357690</td>\n",
       "      <td>0.691709</td>\n",
       "      <td>[0.41826558113098145, 0.06229858472943306, 0.0...</td>\n",
       "      <td>0.549583</td>\n",
       "      <td>COMPLETE</td>\n",
       "    </tr>\n",
       "    <tr>\n",
       "      <th>71</th>\n",
       "      <td>71</td>\n",
       "      <td>0.890172</td>\n",
       "      <td>2021-03-02 04:17:49.909151</td>\n",
       "      <td>2021-03-02 04:19:01.210221</td>\n",
       "      <td>0 days 00:01:11.301070</td>\n",
       "      <td>1</td>\n",
       "      <td>0.000028</td>\n",
       "      <td>53.0</td>\n",
       "      <td>NaN</td>\n",
       "      <td>NaN</td>\n",
       "      <td>...</td>\n",
       "      <td>0.586113</td>\n",
       "      <td>0.361806</td>\n",
       "      <td>0.693617</td>\n",
       "      <td>0.470428</td>\n",
       "      <td>0.628728</td>\n",
       "      <td>0.331374</td>\n",
       "      <td>0.810565</td>\n",
       "      <td>[0.33263203501701355, 0.046308618038892746, 0....</td>\n",
       "      <td>0.683945</td>\n",
       "      <td>COMPLETE</td>\n",
       "    </tr>\n",
       "  </tbody>\n",
       "</table>\n",
       "<p>5 rows × 26 columns</p>\n",
       "</div>"
      ],
      "text/plain": [
       "     number     value             datetime_start          datetime_complete  \\\n",
       "231     231  0.905805 2021-03-02 05:13:05.952757 2021-03-02 05:14:18.476888   \n",
       "511     511  0.895115 2021-03-02 06:52:15.228921 2021-03-02 06:53:39.536480   \n",
       "543     543  0.893542 2021-03-02 07:03:27.219742 2021-03-02 07:05:00.952675   \n",
       "312     312  0.892667 2021-03-02 05:43:29.257399 2021-03-02 05:45:01.059162   \n",
       "71       71  0.890172 2021-03-02 04:17:49.909151 2021-03-02 04:19:01.210221   \n",
       "\n",
       "                  duration  params_encoder_layers  params_l2  \\\n",
       "231 0 days 00:01:12.524131                      1   0.000005   \n",
       "511 0 days 00:01:24.307559                      1   0.000118   \n",
       "543 0 days 00:01:33.732933                      2   0.000014   \n",
       "312 0 days 00:01:31.801763                      1   0.000040   \n",
       "71  0 days 00:01:11.301070                      1   0.000028   \n",
       "\n",
       "     params_n_layer_0  params_n_layer_1  params_n_layer_2  ...  \\\n",
       "231              56.0               NaN               NaN  ...   \n",
       "511              50.0               NaN               NaN  ...   \n",
       "543              58.0              56.0               NaN  ...   \n",
       "312              42.0               NaN               NaN  ...   \n",
       "71               53.0               NaN               NaN  ...   \n",
       "\n",
       "     user_attrs_f1f2  user_attrs_f1precision  user_attrs_f1recall  \\\n",
       "231         0.612734                0.387971             0.716508   \n",
       "511         0.489228                0.384095             0.525165   \n",
       "543         0.537078                0.394432             0.590462   \n",
       "312         0.581205                0.359484             0.687161   \n",
       "71          0.586113                0.361806             0.693617   \n",
       "\n",
       "     user_attrs_f2f1  user_attrs_f2f2  user_attrs_f2precision  \\\n",
       "231         0.425675         0.620604                0.279407   \n",
       "511         0.404010         0.579629                0.268449   \n",
       "543         0.415775         0.576215                0.283988   \n",
       "312         0.471541         0.582853                0.357690   \n",
       "71          0.470428         0.628728                0.331374   \n",
       "\n",
       "     user_attrs_f2recall                                  user_attrs_losses  \\\n",
       "231             0.893324  [0.32243651151657104, 0.018776101991534233, 0....   \n",
       "511             0.816141  [0.4473184645175934, 0.1314028948545456, 0.113...   \n",
       "543             0.775789  [0.28489014506340027, 0.05160053074359894, 0.0...   \n",
       "312             0.691709  [0.41826558113098145, 0.06229858472943306, 0.0...   \n",
       "71              0.810565  [0.33263203501701355, 0.046308618038892746, 0....   \n",
       "\n",
       "     user_attrs_threshold     state  \n",
       "231              0.467211  COMPLETE  \n",
       "511              1.423257  COMPLETE  \n",
       "543              2.397769  COMPLETE  \n",
       "312              0.549583  COMPLETE  \n",
       "71               0.683945  COMPLETE  \n",
       "\n",
       "[5 rows x 26 columns]"
      ]
     },
     "execution_count": 25,
     "metadata": {},
     "output_type": "execute_result"
    }
   ],
   "source": [
    "study = optuna.load_study(study_name=study_name, storage=f\"sqlite:///{study_storage}\")\n",
    "results = study.trials_dataframe()\n",
    "results.sort_values(by=['value'], inplace=True, ascending=False)\n",
    "results.to_csv(f'{save_dir}/result.csv')\n",
    "results.head()"
   ]
  },
  {
   "cell_type": "code",
   "execution_count": 26,
   "id": "enhanced-yorkshire",
   "metadata": {},
   "outputs": [],
   "source": [
    "import neptune\n",
    "from neptunecontrib.monitoring.optuna import log_study_info\n",
    "\n",
    "project = neptune.init(project_qualified_name='verkerken/two-stage-binary', api_token='eyJhcGlfYWRkcmVzcyI6Imh0dHBzOi8vdWkubmVwdHVuZS5haSIsImFwaV91cmwiOiJodHRwczovL3VpLm5lcHR1bmUuYWkiLCJhcGlfa2V5IjoiMGJlYTgzNzEtM2U3YS00ODI5LWEzMzgtM2M0MjcyMDIxOWUwIn0=')\n",
    "my_exp = project.get_experiments(id=study_name)[0]\n",
    "log_study_info(study, experiment=my_exp)"
   ]
  },
  {
   "cell_type": "code",
   "execution_count": 27,
   "id": "steady-broadway",
   "metadata": {},
   "outputs": [],
   "source": [
    "from neptunecontrib.api.table import log_table\n",
    "log_table(\"results_overview\", results, experiment=my_exp)"
   ]
  },
  {
   "cell_type": "code",
   "execution_count": null,
   "id": "neutral-still",
   "metadata": {},
   "outputs": [],
   "source": []
  }
 ],
 "metadata": {
  "kernelspec": {
   "display_name": "Python 3",
   "language": "python",
   "name": "python3"
  },
  "language_info": {
   "codemirror_mode": {
    "name": "ipython",
    "version": 3
   },
   "file_extension": ".py",
   "mimetype": "text/x-python",
   "name": "python",
   "nbconvert_exporter": "python",
   "pygments_lexer": "ipython3",
   "version": "3.8.8"
  }
 },
 "nbformat": 4,
 "nbformat_minor": 5
}
